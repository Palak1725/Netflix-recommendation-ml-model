{
  "nbformat": 4,
  "nbformat_minor": 0,
  "metadata": {
    "colab": {
      "provenance": []
    },
    "kernelspec": {
      "name": "python3",
      "display_name": "Python 3"
    },
    "language_info": {
      "name": "python"
    }
  },
  "cells": [
    {
      "cell_type": "code",
      "execution_count": null,
      "metadata": {
        "id": "fzB70AqQDG55"
      },
      "outputs": [],
      "source": [
        "import pandas as pd\n",
        "import matplotlib.pyplot as plt\n",
        "from sklearn.pipeline import FeatureUnion, Pipeline\n",
        "from sklearn.preprocessing import StandardScaler, OneHotEncoder\n",
        "from sklearn.model_selection import train_test_split\n",
        "import difflib\n",
        "from sklearn.metrics.pairwise import cosine_similarity\n",
        "from sklearn.feature_extraction.text import TfidfVectorizer"
      ]
    },
    {
      "cell_type": "markdown",
      "source": [
        "**Read file**"
      ],
      "metadata": {
        "id": "vA-53ZyGHrYv"
      }
    },
    {
      "cell_type": "code",
      "source": [
        "df = pd.read_csv(\"/content/movies (1).csv\")"
      ],
      "metadata": {
        "id": "S5GLhoLPDTgV"
      },
      "execution_count": 4,
      "outputs": []
    },
    {
      "cell_type": "markdown",
      "source": [
        "**Check the information of the dataset**"
      ],
      "metadata": {
        "id": "o0ZemdEFHl7F"
      }
    },
    {
      "cell_type": "code",
      "source": [
        "df.info()"
      ],
      "metadata": {
        "colab": {
          "base_uri": "https://localhost:8080/"
        },
        "id": "1-ojHBQwFHoj",
        "outputId": "e47c5fc2-fac8-4066-a9bb-3e40712dd1e7"
      },
      "execution_count": 5,
      "outputs": [
        {
          "output_type": "stream",
          "name": "stdout",
          "text": [
            "<class 'pandas.core.frame.DataFrame'>\n",
            "RangeIndex: 3803 entries, 0 to 3802\n",
            "Data columns (total 24 columns):\n",
            " #   Column                Non-Null Count  Dtype  \n",
            "---  ------                --------------  -----  \n",
            " 0   index                 3803 non-null   int64  \n",
            " 1   budget                3803 non-null   int64  \n",
            " 2   genres                3803 non-null   object \n",
            " 3   homepage              1421 non-null   object \n",
            " 4   id                    3803 non-null   int64  \n",
            " 5   keywords              3577 non-null   object \n",
            " 6   original_language     3802 non-null   object \n",
            " 7   original_title        3802 non-null   object \n",
            " 8   overview              3801 non-null   object \n",
            " 9   popularity            3802 non-null   float64\n",
            " 10  production_companies  3802 non-null   object \n",
            " 11  production_countries  3802 non-null   object \n",
            " 12  release_date          3802 non-null   object \n",
            " 13  revenue               3802 non-null   float64\n",
            " 14  runtime               3801 non-null   float64\n",
            " 15  spoken_languages      3802 non-null   object \n",
            " 16  status                3802 non-null   object \n",
            " 17  tagline               3325 non-null   object \n",
            " 18  title                 3802 non-null   object \n",
            " 19  vote_average          3802 non-null   float64\n",
            " 20  vote_count            3802 non-null   float64\n",
            " 21  cast                  3800 non-null   object \n",
            " 22  crew                  3802 non-null   object \n",
            " 23  director              3799 non-null   object \n",
            "dtypes: float64(5), int64(3), object(16)\n",
            "memory usage: 713.2+ KB\n"
          ]
        }
      ]
    },
    {
      "cell_type": "markdown",
      "source": [
        "**Check null values**"
      ],
      "metadata": {
        "id": "t0xQngdjHe6N"
      }
    },
    {
      "cell_type": "code",
      "source": [
        "df.isnull().sum()"
      ],
      "metadata": {
        "colab": {
          "base_uri": "https://localhost:8080/",
          "height": 837
        },
        "id": "do4Mx3_nFLYx",
        "outputId": "8a84b119-83be-4b2b-c1ad-40b98ced6df5"
      },
      "execution_count": 6,
      "outputs": [
        {
          "output_type": "execute_result",
          "data": {
            "text/plain": [
              "index                      0\n",
              "budget                     0\n",
              "genres                     0\n",
              "homepage                2382\n",
              "id                         0\n",
              "keywords                 226\n",
              "original_language          1\n",
              "original_title             1\n",
              "overview                   2\n",
              "popularity                 1\n",
              "production_companies       1\n",
              "production_countries       1\n",
              "release_date               1\n",
              "revenue                    1\n",
              "runtime                    2\n",
              "spoken_languages           1\n",
              "status                     1\n",
              "tagline                  478\n",
              "title                      1\n",
              "vote_average               1\n",
              "vote_count                 1\n",
              "cast                       3\n",
              "crew                       1\n",
              "director                   4\n",
              "dtype: int64"
            ],
            "text/html": [
              "<div>\n",
              "<style scoped>\n",
              "    .dataframe tbody tr th:only-of-type {\n",
              "        vertical-align: middle;\n",
              "    }\n",
              "\n",
              "    .dataframe tbody tr th {\n",
              "        vertical-align: top;\n",
              "    }\n",
              "\n",
              "    .dataframe thead th {\n",
              "        text-align: right;\n",
              "    }\n",
              "</style>\n",
              "<table border=\"1\" class=\"dataframe\">\n",
              "  <thead>\n",
              "    <tr style=\"text-align: right;\">\n",
              "      <th></th>\n",
              "      <th>0</th>\n",
              "    </tr>\n",
              "  </thead>\n",
              "  <tbody>\n",
              "    <tr>\n",
              "      <th>index</th>\n",
              "      <td>0</td>\n",
              "    </tr>\n",
              "    <tr>\n",
              "      <th>budget</th>\n",
              "      <td>0</td>\n",
              "    </tr>\n",
              "    <tr>\n",
              "      <th>genres</th>\n",
              "      <td>0</td>\n",
              "    </tr>\n",
              "    <tr>\n",
              "      <th>homepage</th>\n",
              "      <td>2382</td>\n",
              "    </tr>\n",
              "    <tr>\n",
              "      <th>id</th>\n",
              "      <td>0</td>\n",
              "    </tr>\n",
              "    <tr>\n",
              "      <th>keywords</th>\n",
              "      <td>226</td>\n",
              "    </tr>\n",
              "    <tr>\n",
              "      <th>original_language</th>\n",
              "      <td>1</td>\n",
              "    </tr>\n",
              "    <tr>\n",
              "      <th>original_title</th>\n",
              "      <td>1</td>\n",
              "    </tr>\n",
              "    <tr>\n",
              "      <th>overview</th>\n",
              "      <td>2</td>\n",
              "    </tr>\n",
              "    <tr>\n",
              "      <th>popularity</th>\n",
              "      <td>1</td>\n",
              "    </tr>\n",
              "    <tr>\n",
              "      <th>production_companies</th>\n",
              "      <td>1</td>\n",
              "    </tr>\n",
              "    <tr>\n",
              "      <th>production_countries</th>\n",
              "      <td>1</td>\n",
              "    </tr>\n",
              "    <tr>\n",
              "      <th>release_date</th>\n",
              "      <td>1</td>\n",
              "    </tr>\n",
              "    <tr>\n",
              "      <th>revenue</th>\n",
              "      <td>1</td>\n",
              "    </tr>\n",
              "    <tr>\n",
              "      <th>runtime</th>\n",
              "      <td>2</td>\n",
              "    </tr>\n",
              "    <tr>\n",
              "      <th>spoken_languages</th>\n",
              "      <td>1</td>\n",
              "    </tr>\n",
              "    <tr>\n",
              "      <th>status</th>\n",
              "      <td>1</td>\n",
              "    </tr>\n",
              "    <tr>\n",
              "      <th>tagline</th>\n",
              "      <td>478</td>\n",
              "    </tr>\n",
              "    <tr>\n",
              "      <th>title</th>\n",
              "      <td>1</td>\n",
              "    </tr>\n",
              "    <tr>\n",
              "      <th>vote_average</th>\n",
              "      <td>1</td>\n",
              "    </tr>\n",
              "    <tr>\n",
              "      <th>vote_count</th>\n",
              "      <td>1</td>\n",
              "    </tr>\n",
              "    <tr>\n",
              "      <th>cast</th>\n",
              "      <td>3</td>\n",
              "    </tr>\n",
              "    <tr>\n",
              "      <th>crew</th>\n",
              "      <td>1</td>\n",
              "    </tr>\n",
              "    <tr>\n",
              "      <th>director</th>\n",
              "      <td>4</td>\n",
              "    </tr>\n",
              "  </tbody>\n",
              "</table>\n",
              "</div><br><label><b>dtype:</b> int64</label>"
            ]
          },
          "metadata": {},
          "execution_count": 6
        }
      ]
    },
    {
      "cell_type": "markdown",
      "source": [],
      "metadata": {
        "id": "1CynpStXHvLN"
      }
    },
    {
      "cell_type": "markdown",
      "source": [
        "**Shape of the dataset**"
      ],
      "metadata": {
        "id": "krLvGgAwH6ns"
      }
    },
    {
      "cell_type": "code",
      "source": [
        "df.shape"
      ],
      "metadata": {
        "colab": {
          "base_uri": "https://localhost:8080/"
        },
        "id": "xeLjIWv-H24c",
        "outputId": "9aa0768e-d581-4512-9792-ebaa2944aec3"
      },
      "execution_count": 7,
      "outputs": [
        {
          "output_type": "execute_result",
          "data": {
            "text/plain": [
              "(3803, 24)"
            ]
          },
          "metadata": {},
          "execution_count": 7
        }
      ]
    },
    {
      "cell_type": "markdown",
      "source": [
        "**Check top five values**"
      ],
      "metadata": {
        "id": "DmoJ2Iv8IAyj"
      }
    },
    {
      "cell_type": "code",
      "source": [
        "df.head()"
      ],
      "metadata": {
        "colab": {
          "base_uri": "https://localhost:8080/",
          "height": 794
        },
        "id": "MmL9hVApHwGV",
        "outputId": "51c09d8a-acfd-4d06-99a0-adfa46b15eea"
      },
      "execution_count": 8,
      "outputs": [
        {
          "output_type": "execute_result",
          "data": {
            "text/plain": [
              "   index     budget                                    genres  \\\n",
              "0      0  237000000  Action Adventure Fantasy Science Fiction   \n",
              "1      1  300000000                  Adventure Fantasy Action   \n",
              "2      2  245000000                    Action Adventure Crime   \n",
              "3      3  250000000               Action Crime Drama Thriller   \n",
              "4      4  260000000          Action Adventure Science Fiction   \n",
              "\n",
              "                                       homepage      id  \\\n",
              "0                   http://www.avatarmovie.com/   19995   \n",
              "1  http://disney.go.com/disneypictures/pirates/     285   \n",
              "2   http://www.sonypictures.com/movies/spectre/  206647   \n",
              "3            http://www.thedarkknightrises.com/   49026   \n",
              "4          http://movies.disney.com/john-carter   49529   \n",
              "\n",
              "                                            keywords original_language  \\\n",
              "0  culture clash future space war space colony so...                en   \n",
              "1  ocean drug abuse exotic island east india trad...                en   \n",
              "2         spy based on novel secret agent sequel mi6                en   \n",
              "3  dc comics crime fighter terrorist secret ident...                en   \n",
              "4  based on novel mars medallion space travel pri...                en   \n",
              "\n",
              "                             original_title  \\\n",
              "0                                    Avatar   \n",
              "1  Pirates of the Caribbean: At World's End   \n",
              "2                                   Spectre   \n",
              "3                     The Dark Knight Rises   \n",
              "4                               John Carter   \n",
              "\n",
              "                                            overview  popularity  ... runtime  \\\n",
              "0  In the 22nd century, a paraplegic Marine is di...  150.437577  ...   162.0   \n",
              "1  Captain Barbossa, long believed to be dead, ha...  139.082615  ...   169.0   \n",
              "2  A cryptic message from Bond’s past sends him o...  107.376788  ...   148.0   \n",
              "3  Following the death of District Attorney Harve...  112.312950  ...   165.0   \n",
              "4  John Carter is a war-weary, former military ca...   43.926995  ...   132.0   \n",
              "\n",
              "                                    spoken_languages    status  \\\n",
              "0  [{\"iso_639_1\": \"en\", \"name\": \"English\"}, {\"iso...  Released   \n",
              "1           [{\"iso_639_1\": \"en\", \"name\": \"English\"}]  Released   \n",
              "2  [{\"iso_639_1\": \"fr\", \"name\": \"Fran\\u00e7ais\"},...  Released   \n",
              "3           [{\"iso_639_1\": \"en\", \"name\": \"English\"}]  Released   \n",
              "4           [{\"iso_639_1\": \"en\", \"name\": \"English\"}]  Released   \n",
              "\n",
              "                                          tagline  \\\n",
              "0                     Enter the World of Pandora.   \n",
              "1  At the end of the world, the adventure begins.   \n",
              "2                           A Plan No One Escapes   \n",
              "3                                 The Legend Ends   \n",
              "4            Lost in our world, found in another.   \n",
              "\n",
              "                                      title vote_average vote_count  \\\n",
              "0                                    Avatar          7.2    11800.0   \n",
              "1  Pirates of the Caribbean: At World's End          6.9     4500.0   \n",
              "2                                   Spectre          6.3     4466.0   \n",
              "3                     The Dark Knight Rises          7.6     9106.0   \n",
              "4                               John Carter          6.1     2124.0   \n",
              "\n",
              "                                                cast  \\\n",
              "0  Sam Worthington Zoe Saldana Sigourney Weaver S...   \n",
              "1  Johnny Depp Orlando Bloom Keira Knightley Stel...   \n",
              "2  Daniel Craig Christoph Waltz L\\u00e9a Seydoux ...   \n",
              "3  Christian Bale Michael Caine Gary Oldman Anne ...   \n",
              "4  Taylor Kitsch Lynn Collins Samantha Morton Wil...   \n",
              "\n",
              "                                                crew           director  \n",
              "0  [{'name': 'Stephen E. Rivkin', 'gender': 0, 'd...      James Cameron  \n",
              "1  [{'name': 'Dariusz Wolski', 'gender': 2, 'depa...     Gore Verbinski  \n",
              "2  [{'name': 'Thomas Newman', 'gender': 2, 'depar...         Sam Mendes  \n",
              "3  [{'name': 'Hans Zimmer', 'gender': 2, 'departm...  Christopher Nolan  \n",
              "4  [{'name': 'Andrew Stanton', 'gender': 2, 'depa...     Andrew Stanton  \n",
              "\n",
              "[5 rows x 24 columns]"
            ],
            "text/html": [
              "\n",
              "  <div id=\"df-9f7f6320-f50c-471d-bfbb-d7d5b5d2cf91\" class=\"colab-df-container\">\n",
              "    <div>\n",
              "<style scoped>\n",
              "    .dataframe tbody tr th:only-of-type {\n",
              "        vertical-align: middle;\n",
              "    }\n",
              "\n",
              "    .dataframe tbody tr th {\n",
              "        vertical-align: top;\n",
              "    }\n",
              "\n",
              "    .dataframe thead th {\n",
              "        text-align: right;\n",
              "    }\n",
              "</style>\n",
              "<table border=\"1\" class=\"dataframe\">\n",
              "  <thead>\n",
              "    <tr style=\"text-align: right;\">\n",
              "      <th></th>\n",
              "      <th>index</th>\n",
              "      <th>budget</th>\n",
              "      <th>genres</th>\n",
              "      <th>homepage</th>\n",
              "      <th>id</th>\n",
              "      <th>keywords</th>\n",
              "      <th>original_language</th>\n",
              "      <th>original_title</th>\n",
              "      <th>overview</th>\n",
              "      <th>popularity</th>\n",
              "      <th>...</th>\n",
              "      <th>runtime</th>\n",
              "      <th>spoken_languages</th>\n",
              "      <th>status</th>\n",
              "      <th>tagline</th>\n",
              "      <th>title</th>\n",
              "      <th>vote_average</th>\n",
              "      <th>vote_count</th>\n",
              "      <th>cast</th>\n",
              "      <th>crew</th>\n",
              "      <th>director</th>\n",
              "    </tr>\n",
              "  </thead>\n",
              "  <tbody>\n",
              "    <tr>\n",
              "      <th>0</th>\n",
              "      <td>0</td>\n",
              "      <td>237000000</td>\n",
              "      <td>Action Adventure Fantasy Science Fiction</td>\n",
              "      <td>http://www.avatarmovie.com/</td>\n",
              "      <td>19995</td>\n",
              "      <td>culture clash future space war space colony so...</td>\n",
              "      <td>en</td>\n",
              "      <td>Avatar</td>\n",
              "      <td>In the 22nd century, a paraplegic Marine is di...</td>\n",
              "      <td>150.437577</td>\n",
              "      <td>...</td>\n",
              "      <td>162.0</td>\n",
              "      <td>[{\"iso_639_1\": \"en\", \"name\": \"English\"}, {\"iso...</td>\n",
              "      <td>Released</td>\n",
              "      <td>Enter the World of Pandora.</td>\n",
              "      <td>Avatar</td>\n",
              "      <td>7.2</td>\n",
              "      <td>11800.0</td>\n",
              "      <td>Sam Worthington Zoe Saldana Sigourney Weaver S...</td>\n",
              "      <td>[{'name': 'Stephen E. Rivkin', 'gender': 0, 'd...</td>\n",
              "      <td>James Cameron</td>\n",
              "    </tr>\n",
              "    <tr>\n",
              "      <th>1</th>\n",
              "      <td>1</td>\n",
              "      <td>300000000</td>\n",
              "      <td>Adventure Fantasy Action</td>\n",
              "      <td>http://disney.go.com/disneypictures/pirates/</td>\n",
              "      <td>285</td>\n",
              "      <td>ocean drug abuse exotic island east india trad...</td>\n",
              "      <td>en</td>\n",
              "      <td>Pirates of the Caribbean: At World's End</td>\n",
              "      <td>Captain Barbossa, long believed to be dead, ha...</td>\n",
              "      <td>139.082615</td>\n",
              "      <td>...</td>\n",
              "      <td>169.0</td>\n",
              "      <td>[{\"iso_639_1\": \"en\", \"name\": \"English\"}]</td>\n",
              "      <td>Released</td>\n",
              "      <td>At the end of the world, the adventure begins.</td>\n",
              "      <td>Pirates of the Caribbean: At World's End</td>\n",
              "      <td>6.9</td>\n",
              "      <td>4500.0</td>\n",
              "      <td>Johnny Depp Orlando Bloom Keira Knightley Stel...</td>\n",
              "      <td>[{'name': 'Dariusz Wolski', 'gender': 2, 'depa...</td>\n",
              "      <td>Gore Verbinski</td>\n",
              "    </tr>\n",
              "    <tr>\n",
              "      <th>2</th>\n",
              "      <td>2</td>\n",
              "      <td>245000000</td>\n",
              "      <td>Action Adventure Crime</td>\n",
              "      <td>http://www.sonypictures.com/movies/spectre/</td>\n",
              "      <td>206647</td>\n",
              "      <td>spy based on novel secret agent sequel mi6</td>\n",
              "      <td>en</td>\n",
              "      <td>Spectre</td>\n",
              "      <td>A cryptic message from Bond’s past sends him o...</td>\n",
              "      <td>107.376788</td>\n",
              "      <td>...</td>\n",
              "      <td>148.0</td>\n",
              "      <td>[{\"iso_639_1\": \"fr\", \"name\": \"Fran\\u00e7ais\"},...</td>\n",
              "      <td>Released</td>\n",
              "      <td>A Plan No One Escapes</td>\n",
              "      <td>Spectre</td>\n",
              "      <td>6.3</td>\n",
              "      <td>4466.0</td>\n",
              "      <td>Daniel Craig Christoph Waltz L\\u00e9a Seydoux ...</td>\n",
              "      <td>[{'name': 'Thomas Newman', 'gender': 2, 'depar...</td>\n",
              "      <td>Sam Mendes</td>\n",
              "    </tr>\n",
              "    <tr>\n",
              "      <th>3</th>\n",
              "      <td>3</td>\n",
              "      <td>250000000</td>\n",
              "      <td>Action Crime Drama Thriller</td>\n",
              "      <td>http://www.thedarkknightrises.com/</td>\n",
              "      <td>49026</td>\n",
              "      <td>dc comics crime fighter terrorist secret ident...</td>\n",
              "      <td>en</td>\n",
              "      <td>The Dark Knight Rises</td>\n",
              "      <td>Following the death of District Attorney Harve...</td>\n",
              "      <td>112.312950</td>\n",
              "      <td>...</td>\n",
              "      <td>165.0</td>\n",
              "      <td>[{\"iso_639_1\": \"en\", \"name\": \"English\"}]</td>\n",
              "      <td>Released</td>\n",
              "      <td>The Legend Ends</td>\n",
              "      <td>The Dark Knight Rises</td>\n",
              "      <td>7.6</td>\n",
              "      <td>9106.0</td>\n",
              "      <td>Christian Bale Michael Caine Gary Oldman Anne ...</td>\n",
              "      <td>[{'name': 'Hans Zimmer', 'gender': 2, 'departm...</td>\n",
              "      <td>Christopher Nolan</td>\n",
              "    </tr>\n",
              "    <tr>\n",
              "      <th>4</th>\n",
              "      <td>4</td>\n",
              "      <td>260000000</td>\n",
              "      <td>Action Adventure Science Fiction</td>\n",
              "      <td>http://movies.disney.com/john-carter</td>\n",
              "      <td>49529</td>\n",
              "      <td>based on novel mars medallion space travel pri...</td>\n",
              "      <td>en</td>\n",
              "      <td>John Carter</td>\n",
              "      <td>John Carter is a war-weary, former military ca...</td>\n",
              "      <td>43.926995</td>\n",
              "      <td>...</td>\n",
              "      <td>132.0</td>\n",
              "      <td>[{\"iso_639_1\": \"en\", \"name\": \"English\"}]</td>\n",
              "      <td>Released</td>\n",
              "      <td>Lost in our world, found in another.</td>\n",
              "      <td>John Carter</td>\n",
              "      <td>6.1</td>\n",
              "      <td>2124.0</td>\n",
              "      <td>Taylor Kitsch Lynn Collins Samantha Morton Wil...</td>\n",
              "      <td>[{'name': 'Andrew Stanton', 'gender': 2, 'depa...</td>\n",
              "      <td>Andrew Stanton</td>\n",
              "    </tr>\n",
              "  </tbody>\n",
              "</table>\n",
              "<p>5 rows × 24 columns</p>\n",
              "</div>\n",
              "    <div class=\"colab-df-buttons\">\n",
              "\n",
              "  <div class=\"colab-df-container\">\n",
              "    <button class=\"colab-df-convert\" onclick=\"convertToInteractive('df-9f7f6320-f50c-471d-bfbb-d7d5b5d2cf91')\"\n",
              "            title=\"Convert this dataframe to an interactive table.\"\n",
              "            style=\"display:none;\">\n",
              "\n",
              "  <svg xmlns=\"http://www.w3.org/2000/svg\" height=\"24px\" viewBox=\"0 -960 960 960\">\n",
              "    <path d=\"M120-120v-720h720v720H120Zm60-500h600v-160H180v160Zm220 220h160v-160H400v160Zm0 220h160v-160H400v160ZM180-400h160v-160H180v160Zm440 0h160v-160H620v160ZM180-180h160v-160H180v160Zm440 0h160v-160H620v160Z\"/>\n",
              "  </svg>\n",
              "    </button>\n",
              "\n",
              "  <style>\n",
              "    .colab-df-container {\n",
              "      display:flex;\n",
              "      gap: 12px;\n",
              "    }\n",
              "\n",
              "    .colab-df-convert {\n",
              "      background-color: #E8F0FE;\n",
              "      border: none;\n",
              "      border-radius: 50%;\n",
              "      cursor: pointer;\n",
              "      display: none;\n",
              "      fill: #1967D2;\n",
              "      height: 32px;\n",
              "      padding: 0 0 0 0;\n",
              "      width: 32px;\n",
              "    }\n",
              "\n",
              "    .colab-df-convert:hover {\n",
              "      background-color: #E2EBFA;\n",
              "      box-shadow: 0px 1px 2px rgba(60, 64, 67, 0.3), 0px 1px 3px 1px rgba(60, 64, 67, 0.15);\n",
              "      fill: #174EA6;\n",
              "    }\n",
              "\n",
              "    .colab-df-buttons div {\n",
              "      margin-bottom: 4px;\n",
              "    }\n",
              "\n",
              "    [theme=dark] .colab-df-convert {\n",
              "      background-color: #3B4455;\n",
              "      fill: #D2E3FC;\n",
              "    }\n",
              "\n",
              "    [theme=dark] .colab-df-convert:hover {\n",
              "      background-color: #434B5C;\n",
              "      box-shadow: 0px 1px 3px 1px rgba(0, 0, 0, 0.15);\n",
              "      filter: drop-shadow(0px 1px 2px rgba(0, 0, 0, 0.3));\n",
              "      fill: #FFFFFF;\n",
              "    }\n",
              "  </style>\n",
              "\n",
              "    <script>\n",
              "      const buttonEl =\n",
              "        document.querySelector('#df-9f7f6320-f50c-471d-bfbb-d7d5b5d2cf91 button.colab-df-convert');\n",
              "      buttonEl.style.display =\n",
              "        google.colab.kernel.accessAllowed ? 'block' : 'none';\n",
              "\n",
              "      async function convertToInteractive(key) {\n",
              "        const element = document.querySelector('#df-9f7f6320-f50c-471d-bfbb-d7d5b5d2cf91');\n",
              "        const dataTable =\n",
              "          await google.colab.kernel.invokeFunction('convertToInteractive',\n",
              "                                                    [key], {});\n",
              "        if (!dataTable) return;\n",
              "\n",
              "        const docLinkHtml = 'Like what you see? Visit the ' +\n",
              "          '<a target=\"_blank\" href=https://colab.research.google.com/notebooks/data_table.ipynb>data table notebook</a>'\n",
              "          + ' to learn more about interactive tables.';\n",
              "        element.innerHTML = '';\n",
              "        dataTable['output_type'] = 'display_data';\n",
              "        await google.colab.output.renderOutput(dataTable, element);\n",
              "        const docLink = document.createElement('div');\n",
              "        docLink.innerHTML = docLinkHtml;\n",
              "        element.appendChild(docLink);\n",
              "      }\n",
              "    </script>\n",
              "  </div>\n",
              "\n",
              "\n",
              "<div id=\"df-fa2908af-1d1a-4d3e-878c-10b58a953f53\">\n",
              "  <button class=\"colab-df-quickchart\" onclick=\"quickchart('df-fa2908af-1d1a-4d3e-878c-10b58a953f53')\"\n",
              "            title=\"Suggest charts\"\n",
              "            style=\"display:none;\">\n",
              "\n",
              "<svg xmlns=\"http://www.w3.org/2000/svg\" height=\"24px\"viewBox=\"0 0 24 24\"\n",
              "     width=\"24px\">\n",
              "    <g>\n",
              "        <path d=\"M19 3H5c-1.1 0-2 .9-2 2v14c0 1.1.9 2 2 2h14c1.1 0 2-.9 2-2V5c0-1.1-.9-2-2-2zM9 17H7v-7h2v7zm4 0h-2V7h2v10zm4 0h-2v-4h2v4z\"/>\n",
              "    </g>\n",
              "</svg>\n",
              "  </button>\n",
              "\n",
              "<style>\n",
              "  .colab-df-quickchart {\n",
              "      --bg-color: #E8F0FE;\n",
              "      --fill-color: #1967D2;\n",
              "      --hover-bg-color: #E2EBFA;\n",
              "      --hover-fill-color: #174EA6;\n",
              "      --disabled-fill-color: #AAA;\n",
              "      --disabled-bg-color: #DDD;\n",
              "  }\n",
              "\n",
              "  [theme=dark] .colab-df-quickchart {\n",
              "      --bg-color: #3B4455;\n",
              "      --fill-color: #D2E3FC;\n",
              "      --hover-bg-color: #434B5C;\n",
              "      --hover-fill-color: #FFFFFF;\n",
              "      --disabled-bg-color: #3B4455;\n",
              "      --disabled-fill-color: #666;\n",
              "  }\n",
              "\n",
              "  .colab-df-quickchart {\n",
              "    background-color: var(--bg-color);\n",
              "    border: none;\n",
              "    border-radius: 50%;\n",
              "    cursor: pointer;\n",
              "    display: none;\n",
              "    fill: var(--fill-color);\n",
              "    height: 32px;\n",
              "    padding: 0;\n",
              "    width: 32px;\n",
              "  }\n",
              "\n",
              "  .colab-df-quickchart:hover {\n",
              "    background-color: var(--hover-bg-color);\n",
              "    box-shadow: 0 1px 2px rgba(60, 64, 67, 0.3), 0 1px 3px 1px rgba(60, 64, 67, 0.15);\n",
              "    fill: var(--button-hover-fill-color);\n",
              "  }\n",
              "\n",
              "  .colab-df-quickchart-complete:disabled,\n",
              "  .colab-df-quickchart-complete:disabled:hover {\n",
              "    background-color: var(--disabled-bg-color);\n",
              "    fill: var(--disabled-fill-color);\n",
              "    box-shadow: none;\n",
              "  }\n",
              "\n",
              "  .colab-df-spinner {\n",
              "    border: 2px solid var(--fill-color);\n",
              "    border-color: transparent;\n",
              "    border-bottom-color: var(--fill-color);\n",
              "    animation:\n",
              "      spin 1s steps(1) infinite;\n",
              "  }\n",
              "\n",
              "  @keyframes spin {\n",
              "    0% {\n",
              "      border-color: transparent;\n",
              "      border-bottom-color: var(--fill-color);\n",
              "      border-left-color: var(--fill-color);\n",
              "    }\n",
              "    20% {\n",
              "      border-color: transparent;\n",
              "      border-left-color: var(--fill-color);\n",
              "      border-top-color: var(--fill-color);\n",
              "    }\n",
              "    30% {\n",
              "      border-color: transparent;\n",
              "      border-left-color: var(--fill-color);\n",
              "      border-top-color: var(--fill-color);\n",
              "      border-right-color: var(--fill-color);\n",
              "    }\n",
              "    40% {\n",
              "      border-color: transparent;\n",
              "      border-right-color: var(--fill-color);\n",
              "      border-top-color: var(--fill-color);\n",
              "    }\n",
              "    60% {\n",
              "      border-color: transparent;\n",
              "      border-right-color: var(--fill-color);\n",
              "    }\n",
              "    80% {\n",
              "      border-color: transparent;\n",
              "      border-right-color: var(--fill-color);\n",
              "      border-bottom-color: var(--fill-color);\n",
              "    }\n",
              "    90% {\n",
              "      border-color: transparent;\n",
              "      border-bottom-color: var(--fill-color);\n",
              "    }\n",
              "  }\n",
              "</style>\n",
              "\n",
              "  <script>\n",
              "    async function quickchart(key) {\n",
              "      const quickchartButtonEl =\n",
              "        document.querySelector('#' + key + ' button');\n",
              "      quickchartButtonEl.disabled = true;  // To prevent multiple clicks.\n",
              "      quickchartButtonEl.classList.add('colab-df-spinner');\n",
              "      try {\n",
              "        const charts = await google.colab.kernel.invokeFunction(\n",
              "            'suggestCharts', [key], {});\n",
              "      } catch (error) {\n",
              "        console.error('Error during call to suggestCharts:', error);\n",
              "      }\n",
              "      quickchartButtonEl.classList.remove('colab-df-spinner');\n",
              "      quickchartButtonEl.classList.add('colab-df-quickchart-complete');\n",
              "    }\n",
              "    (() => {\n",
              "      let quickchartButtonEl =\n",
              "        document.querySelector('#df-fa2908af-1d1a-4d3e-878c-10b58a953f53 button');\n",
              "      quickchartButtonEl.style.display =\n",
              "        google.colab.kernel.accessAllowed ? 'block' : 'none';\n",
              "    })();\n",
              "  </script>\n",
              "</div>\n",
              "\n",
              "    </div>\n",
              "  </div>\n"
            ],
            "application/vnd.google.colaboratory.intrinsic+json": {
              "type": "dataframe",
              "variable_name": "df"
            }
          },
          "metadata": {},
          "execution_count": 8
        }
      ]
    },
    {
      "cell_type": "markdown",
      "source": [
        "**Find out the column name**"
      ],
      "metadata": {
        "id": "dAFvisGhPAEL"
      }
    },
    {
      "cell_type": "code",
      "source": [
        "df.columns"
      ],
      "metadata": {
        "colab": {
          "base_uri": "https://localhost:8080/"
        },
        "id": "Jo-2tGVIHyCx",
        "outputId": "625d4d7a-8541-4688-e1af-c21a820adc34"
      },
      "execution_count": 9,
      "outputs": [
        {
          "output_type": "execute_result",
          "data": {
            "text/plain": [
              "Index(['index', 'budget', 'genres', 'homepage', 'id', 'keywords',\n",
              "       'original_language', 'original_title', 'overview', 'popularity',\n",
              "       'production_companies', 'production_countries', 'release_date',\n",
              "       'revenue', 'runtime', 'spoken_languages', 'status', 'tagline', 'title',\n",
              "       'vote_average', 'vote_count', 'cast', 'crew', 'director'],\n",
              "      dtype='object')"
            ]
          },
          "metadata": {},
          "execution_count": 9
        }
      ]
    },
    {
      "cell_type": "markdown",
      "source": [
        "**Selecting the appropiate columns for training model**"
      ],
      "metadata": {
        "id": "rRvpvct0PksT"
      }
    },
    {
      "cell_type": "code",
      "source": [
        "selected_cols=['genres','keywords','tagline','cast','director']\n",
        "print(selected_cols)"
      ],
      "metadata": {
        "colab": {
          "base_uri": "https://localhost:8080/"
        },
        "id": "4lGZBG1WP4TY",
        "outputId": "eaf698d3-ffc9-4ca6-95e4-03f7c235780e"
      },
      "execution_count": 10,
      "outputs": [
        {
          "output_type": "stream",
          "name": "stdout",
          "text": [
            "['genres', 'keywords', 'tagline', 'cast', 'director']\n"
          ]
        }
      ]
    },
    {
      "cell_type": "markdown",
      "source": [
        "**Replacing null values with null string**"
      ],
      "metadata": {
        "id": "qIOP3xJAg6xr"
      }
    },
    {
      "cell_type": "code",
      "source": [
        "for feat in selected_cols:\n",
        "    df[feat]=df[feat].fillna('')\n"
      ],
      "metadata": {
        "id": "lQShQGw_g6Fd"
      },
      "execution_count": 11,
      "outputs": []
    },
    {
      "cell_type": "markdown",
      "source": [
        "**Combining all selected feature**"
      ],
      "metadata": {
        "id": "lWc1lsNiiAuf"
      }
    },
    {
      "cell_type": "code",
      "source": [
        "new_df = df['genres'].astype(str) + '' + df['keywords'].astype(str) + '' + df['tagline'].astype(str) + '' + df['cast'].astype(str) + '' + df['director'].astype(str) + '' + df['release_date'].astype(str) + '' + df['runtime'].astype(str) + '' + df['revenue'].astype(str) + '' + df[\"homepage\"].astype(str) + '' + df['tagline'].astype(str) + '' + df['title'].astype(str) + '' + df['vote_average'].astype(str) + '' + df['vote_count'].astype(str)\n",
        "new_df"
      ],
      "metadata": {
        "colab": {
          "base_uri": "https://localhost:8080/",
          "height": 458
        },
        "id": "UTQKEubriFu_",
        "outputId": "005c1ca3-9124-4687-dba4-09f90be8fc47"
      },
      "execution_count": 12,
      "outputs": [
        {
          "output_type": "execute_result",
          "data": {
            "text/plain": [
              "0       Action Adventure Fantasy Science Fictioncultur...\n",
              "1       Adventure Fantasy Actionocean drug abuse exoti...\n",
              "2       Action Adventure Crimespy based on novel secre...\n",
              "3       Action Crime Drama Thrillerdc comics crime fig...\n",
              "4       Action Adventure Science Fictionbased on novel...\n",
              "                              ...                        \n",
              "3798    Comedy DramaAt this wedding, the F-word stands...\n",
              "3799    Adventure Action Thriller Crimeterror scotland...\n",
              "3800    Comedy Fantasy Science Fictionloser bullying l...\n",
              "3801    Dramaalcohol adultery river camping provinceKo...\n",
              "3802    Drama Comedy History Musicusa cnannannannannan...\n",
              "Length: 3803, dtype: object"
            ],
            "text/html": [
              "<div>\n",
              "<style scoped>\n",
              "    .dataframe tbody tr th:only-of-type {\n",
              "        vertical-align: middle;\n",
              "    }\n",
              "\n",
              "    .dataframe tbody tr th {\n",
              "        vertical-align: top;\n",
              "    }\n",
              "\n",
              "    .dataframe thead th {\n",
              "        text-align: right;\n",
              "    }\n",
              "</style>\n",
              "<table border=\"1\" class=\"dataframe\">\n",
              "  <thead>\n",
              "    <tr style=\"text-align: right;\">\n",
              "      <th></th>\n",
              "      <th>0</th>\n",
              "    </tr>\n",
              "  </thead>\n",
              "  <tbody>\n",
              "    <tr>\n",
              "      <th>0</th>\n",
              "      <td>Action Adventure Fantasy Science Fictioncultur...</td>\n",
              "    </tr>\n",
              "    <tr>\n",
              "      <th>1</th>\n",
              "      <td>Adventure Fantasy Actionocean drug abuse exoti...</td>\n",
              "    </tr>\n",
              "    <tr>\n",
              "      <th>2</th>\n",
              "      <td>Action Adventure Crimespy based on novel secre...</td>\n",
              "    </tr>\n",
              "    <tr>\n",
              "      <th>3</th>\n",
              "      <td>Action Crime Drama Thrillerdc comics crime fig...</td>\n",
              "    </tr>\n",
              "    <tr>\n",
              "      <th>4</th>\n",
              "      <td>Action Adventure Science Fictionbased on novel...</td>\n",
              "    </tr>\n",
              "    <tr>\n",
              "      <th>...</th>\n",
              "      <td>...</td>\n",
              "    </tr>\n",
              "    <tr>\n",
              "      <th>3798</th>\n",
              "      <td>Comedy DramaAt this wedding, the F-word stands...</td>\n",
              "    </tr>\n",
              "    <tr>\n",
              "      <th>3799</th>\n",
              "      <td>Adventure Action Thriller Crimeterror scotland...</td>\n",
              "    </tr>\n",
              "    <tr>\n",
              "      <th>3800</th>\n",
              "      <td>Comedy Fantasy Science Fictionloser bullying l...</td>\n",
              "    </tr>\n",
              "    <tr>\n",
              "      <th>3801</th>\n",
              "      <td>Dramaalcohol adultery river camping provinceKo...</td>\n",
              "    </tr>\n",
              "    <tr>\n",
              "      <th>3802</th>\n",
              "      <td>Drama Comedy History Musicusa cnannannannannan...</td>\n",
              "    </tr>\n",
              "  </tbody>\n",
              "</table>\n",
              "<p>3803 rows × 1 columns</p>\n",
              "</div><br><label><b>dtype:</b> object</label>"
            ]
          },
          "metadata": {},
          "execution_count": 12
        }
      ]
    },
    {
      "cell_type": "markdown",
      "source": [
        "**First five values of new data frame**"
      ],
      "metadata": {
        "id": "7jkMjfGcitis"
      }
    },
    {
      "cell_type": "code",
      "source": [
        "new_df.head()"
      ],
      "metadata": {
        "colab": {
          "base_uri": "https://localhost:8080/",
          "height": 241
        },
        "id": "ii79uXrnipJ-",
        "outputId": "07a532c2-d128-4491-9a96-888a23d887db"
      },
      "execution_count": 13,
      "outputs": [
        {
          "output_type": "execute_result",
          "data": {
            "text/plain": [
              "0    Action Adventure Fantasy Science Fictioncultur...\n",
              "1    Adventure Fantasy Actionocean drug abuse exoti...\n",
              "2    Action Adventure Crimespy based on novel secre...\n",
              "3    Action Crime Drama Thrillerdc comics crime fig...\n",
              "4    Action Adventure Science Fictionbased on novel...\n",
              "dtype: object"
            ],
            "text/html": [
              "<div>\n",
              "<style scoped>\n",
              "    .dataframe tbody tr th:only-of-type {\n",
              "        vertical-align: middle;\n",
              "    }\n",
              "\n",
              "    .dataframe tbody tr th {\n",
              "        vertical-align: top;\n",
              "    }\n",
              "\n",
              "    .dataframe thead th {\n",
              "        text-align: right;\n",
              "    }\n",
              "</style>\n",
              "<table border=\"1\" class=\"dataframe\">\n",
              "  <thead>\n",
              "    <tr style=\"text-align: right;\">\n",
              "      <th></th>\n",
              "      <th>0</th>\n",
              "    </tr>\n",
              "  </thead>\n",
              "  <tbody>\n",
              "    <tr>\n",
              "      <th>0</th>\n",
              "      <td>Action Adventure Fantasy Science Fictioncultur...</td>\n",
              "    </tr>\n",
              "    <tr>\n",
              "      <th>1</th>\n",
              "      <td>Adventure Fantasy Actionocean drug abuse exoti...</td>\n",
              "    </tr>\n",
              "    <tr>\n",
              "      <th>2</th>\n",
              "      <td>Action Adventure Crimespy based on novel secre...</td>\n",
              "    </tr>\n",
              "    <tr>\n",
              "      <th>3</th>\n",
              "      <td>Action Crime Drama Thrillerdc comics crime fig...</td>\n",
              "    </tr>\n",
              "    <tr>\n",
              "      <th>4</th>\n",
              "      <td>Action Adventure Science Fictionbased on novel...</td>\n",
              "    </tr>\n",
              "  </tbody>\n",
              "</table>\n",
              "</div><br><label><b>dtype:</b> object</label>"
            ]
          },
          "metadata": {},
          "execution_count": 13
        }
      ]
    },
    {
      "cell_type": "markdown",
      "source": [
        "**Checking for any null values in the new data frame**"
      ],
      "metadata": {
        "id": "6ga8ezevkSwX"
      }
    },
    {
      "cell_type": "code",
      "source": [
        "new_df.isnull().sum()"
      ],
      "metadata": {
        "colab": {
          "base_uri": "https://localhost:8080/"
        },
        "id": "Vwc_WxktisfQ",
        "outputId": "b8c5b48e-cf5e-422d-8ea9-2b870740acb6"
      },
      "execution_count": 14,
      "outputs": [
        {
          "output_type": "execute_result",
          "data": {
            "text/plain": [
              "0"
            ]
          },
          "metadata": {},
          "execution_count": 14
        }
      ]
    },
    {
      "cell_type": "code",
      "source": [
        "df.shape"
      ],
      "metadata": {
        "colab": {
          "base_uri": "https://localhost:8080/"
        },
        "id": "rumfm7EYm8bI",
        "outputId": "a85813f3-b86e-49d6-9958-1c9a203949c2"
      },
      "execution_count": 28,
      "outputs": [
        {
          "output_type": "execute_result",
          "data": {
            "text/plain": [
              "(3803, 24)"
            ]
          },
          "metadata": {},
          "execution_count": 28
        }
      ]
    },
    {
      "cell_type": "markdown",
      "source": [
        "**Converting Text to numerical Value**"
      ],
      "metadata": {
        "id": "BsZWSvq8pedF"
      }
    },
    {
      "cell_type": "code",
      "source": [
        "#converting text data to numberical values\n",
        "from sklearn.feature_extraction.text import CountVectorizer\n",
        "cv=CountVectorizer()\n",
        "cv_fit = cv.fit_transform(new_df)\n"
      ],
      "metadata": {
        "id": "kIoEUCRXjJwz"
      },
      "execution_count": 15,
      "outputs": []
    },
    {
      "cell_type": "code",
      "source": [
        "print(cv_fit)"
      ],
      "metadata": {
        "id": "1vq5amixkRqb",
        "colab": {
          "base_uri": "https://localhost:8080/"
        },
        "outputId": "960dd54a-a550-4f1e-db0e-61f8c836ec54"
      },
      "execution_count": 16,
      "outputs": [
        {
          "output_type": "stream",
          "name": "stdout",
          "text": [
            "  (0, 8709)\t1\n",
            "  (0, 8895)\t1\n",
            "  (0, 18034)\t1\n",
            "  (0, 32539)\t1\n",
            "  (0, 18416)\t1\n",
            "  (0, 13279)\t1\n",
            "  (0, 19389)\t1\n",
            "  (0, 33867)\t2\n",
            "  (0, 37843)\t1\n",
            "  (0, 13542)\t1\n",
            "  (0, 33693)\t1\n",
            "  (0, 35356)\t2\n",
            "  (0, 38846)\t2\n",
            "  (0, 28403)\t2\n",
            "  (0, 28864)\t2\n",
            "  (0, 32191)\t1\n",
            "  (0, 38878)\t1\n",
            "  (0, 39294)\t1\n",
            "  (0, 32152)\t1\n",
            "  (0, 33301)\t1\n",
            "  (0, 38112)\t1\n",
            "  (0, 34288)\t1\n",
            "  (0, 24336)\t1\n",
            "  (0, 26722)\t1\n",
            "  (0, 31408)\t1\n",
            "  :\t:\n",
            "  (3801, 10269)\t1\n",
            "  (3801, 6450)\t1\n",
            "  (3801, 23747)\t1\n",
            "  (3801, 17102)\t1\n",
            "  (3801, 16243)\t1\n",
            "  (3801, 9257)\t1\n",
            "  (3801, 12364)\t1\n",
            "  (3801, 30176)\t1\n",
            "  (3801, 25453)\t1\n",
            "  (3801, 31286)\t1\n",
            "  (3801, 17537)\t1\n",
            "  (3801, 23768)\t1\n",
            "  (3801, 9131)\t1\n",
            "  (3801, 34275)\t1\n",
            "  (3801, 37439)\t1\n",
            "  (3801, 5995)\t1\n",
            "  (3801, 2138)\t1\n",
            "  (3801, 19703)\t1\n",
            "  (3801, 16562)\t1\n",
            "  (3801, 19949)\t1\n",
            "  (3802, 16235)\t1\n",
            "  (3802, 13599)\t1\n",
            "  (3802, 21458)\t1\n",
            "  (3802, 27556)\t1\n",
            "  (3802, 13404)\t1\n"
          ]
        }
      ]
    },
    {
      "cell_type": "code",
      "source": [
        "similarity= cosine_similarity(cv_fit)\n",
        "print(similarity)"
      ],
      "metadata": {
        "colab": {
          "base_uri": "https://localhost:8080/"
        },
        "id": "CVtia33ulDi9",
        "outputId": "4486a9bf-056c-4927-f82a-9ff61688c193"
      },
      "execution_count": 20,
      "outputs": [
        {
          "output_type": "stream",
          "name": "stdout",
          "text": [
            "[[1.         0.40824829 0.10555008 ... 0.0560112  0.         0.        ]\n",
            " [0.40824829 1.         0.09049035 ... 0.01714986 0.         0.        ]\n",
            " [0.10555008 0.09049035 1.         ... 0.         0.         0.        ]\n",
            " ...\n",
            " [0.0560112  0.01714986 0.         ... 1.         0.         0.08944272]\n",
            " [0.         0.         0.         ... 0.         1.         0.        ]\n",
            " [0.         0.         0.         ... 0.08944272 0.         1.        ]]\n"
          ]
        }
      ]
    },
    {
      "cell_type": "code",
      "source": [
        "similarity.shape"
      ],
      "metadata": {
        "colab": {
          "base_uri": "https://localhost:8080/"
        },
        "id": "UM6gWqCwlhxs",
        "outputId": "12ef6ce7-6276-4a42-dddb-c85c6b1ed9a2"
      },
      "execution_count": 27,
      "outputs": [
        {
          "output_type": "execute_result",
          "data": {
            "text/plain": [
              "(3803, 3803)"
            ]
          },
          "metadata": {},
          "execution_count": 27
        }
      ]
    },
    {
      "cell_type": "code",
      "source": [
        "movie_name=input('enter your favourite movie name: ')"
      ],
      "metadata": {
        "colab": {
          "base_uri": "https://localhost:8080/"
        },
        "id": "zBmfnqqOlkJO",
        "outputId": "49fe407d-6090-450f-d407-ae422aa5b5c9"
      },
      "execution_count": 35,
      "outputs": [
        {
          "name": "stdout",
          "output_type": "stream",
          "text": [
            "enter your favourite movie name: avatar\n"
          ]
        }
      ]
    },
    {
      "cell_type": "markdown",
      "source": [
        "**Creating a list of movies given in the dataset**"
      ],
      "metadata": {
        "id": "ql2WTiHioFAS"
      }
    },
    {
      "cell_type": "code",
      "source": [
        "#creating a list of movies given in the dataset\n",
        "list_of_all_titles=df['title'].astype(str).to_list()\n",
        "print(list_of_all_titles)"
      ],
      "metadata": {
        "colab": {
          "base_uri": "https://localhost:8080/"
        },
        "id": "GrXOMf7plxuS",
        "outputId": "f2e24b27-8c4f-454c-a511-383d5796dc81"
      },
      "execution_count": 36,
      "outputs": [
        {
          "output_type": "stream",
          "name": "stdout",
          "text": [
            "['Avatar', \"Pirates of the Caribbean: At World's End\", 'Spectre', 'The Dark Knight Rises', 'John Carter', 'Spider-Man 3', 'Tangled', 'Avengers: Age of Ultron', 'Harry Potter and the Half-Blood Prince', 'Batman v Superman: Dawn of Justice', 'Superman Returns', 'Quantum of Solace', \"Pirates of the Caribbean: Dead Man's Chest\", 'The Lone Ranger', 'Man of Steel', 'The Chronicles of Narnia: Prince Caspian', 'The Avengers', 'Pirates of the Caribbean: On Stranger Tides', 'Men in Black 3', 'The Hobbit: The Battle of the Five Armies', 'The Amazing Spider-Man', 'Robin Hood', 'The Hobbit: The Desolation of Smaug', 'The Golden Compass', 'King Kong', 'Titanic', 'Captain America: Civil War', 'Battleship', 'Jurassic World', 'Skyfall', 'Spider-Man 2', 'Iron Man 3', 'Alice in Wonderland', 'X-Men: The Last Stand', 'Monsters University', 'Transformers: Revenge of the Fallen', 'Transformers: Age of Extinction', 'Oz: The Great and Powerful', 'The Amazing Spider-Man 2', 'TRON: Legacy', 'Cars 2', 'Green Lantern', 'Toy Story 3', 'Terminator Salvation', 'Furious 7', 'World War Z', 'X-Men: Days of Future Past', 'Star Trek Into Darkness', 'Jack the Giant Slayer', 'The Great Gatsby', 'Prince of Persia: The Sands of Time', 'Pacific Rim', 'Transformers: Dark of the Moon', 'Indiana Jones and the Kingdom of the Crystal Skull', 'The Good Dinosaur', 'Brave', 'Star Trek Beyond', 'WALL·E', 'Rush Hour 3', '2012', 'A Christmas Carol', 'Jupiter Ascending', 'The Legend of Tarzan', 'The Chronicles of Narnia: The Lion, the Witch and the Wardrobe', 'X-Men: Apocalypse', 'The Dark Knight', 'Up', 'Monsters vs Aliens', 'Iron Man', 'Hugo', 'Wild Wild West', 'The Mummy: Tomb of the Dragon Emperor', 'Suicide Squad', 'Evan Almighty', 'Edge of Tomorrow', 'Waterworld', 'G.I. Joe: The Rise of Cobra', 'Inside Out', 'The Jungle Book', 'Iron Man 2', 'Snow White and the Huntsman', 'Maleficent', 'Dawn of the Planet of the Apes', 'The Lovers', '47 Ronin', 'Captain America: The Winter Soldier', 'Shrek Forever After', 'Tomorrowland', 'Big Hero 6', 'Wreck-It Ralph', 'The Polar Express', 'Independence Day: Resurgence', 'How to Train Your Dragon', 'Terminator 3: Rise of the Machines', 'Guardians of the Galaxy', 'Interstellar', 'Inception', 'Shin Godzilla', 'The Hobbit: An Unexpected Journey', 'The Fast and the Furious', 'The Curious Case of Benjamin Button', 'X-Men: First Class', 'The Hunger Games: Mockingjay - Part 2', \"The Sorcerer's Apprentice\", 'Poseidon', 'Alice Through the Looking Glass', 'Shrek the Third', 'Warcraft', 'Terminator Genisys', 'The Chronicles of Narnia: The Voyage of the Dawn Treader', 'Pearl Harbor', 'Transformers', 'Alexander', 'Harry Potter and the Order of the Phoenix', 'Harry Potter and the Goblet of Fire', 'Hancock', 'I Am Legend', 'Charlie and the Chocolate Factory', 'Ratatouille', 'Batman Begins', 'Madagascar: Escape 2 Africa', 'Night at the Museum: Battle of the Smithsonian', 'X-Men Origins: Wolverine', 'The Matrix Revolutions', 'Frozen', 'The Matrix Reloaded', 'Thor: The Dark World', 'Mad Max: Fury Road', 'Angels & Demons', 'Thor', 'Bolt', 'G-Force', 'Wrath of the Titans', 'Dark Shadows', 'Mission: Impossible - Rogue Nation', 'The Wolfman', 'Bee Movie', 'Kung Fu Panda 2', 'The Last Airbender', 'Mission: Impossible III', 'White House Down', 'Mars Needs Moms', 'Flushed Away', 'Pan', 'Mr. Peabody & Sherman', 'Troy', \"Madagascar 3: Europe's Most Wanted\", 'Die Another Day', 'Ghostbusters', 'Armageddon', 'Men in Black II', 'Beowulf', 'Kung Fu Panda 3', 'Mission: Impossible - Ghost Protocol', 'Rise of the Guardians', 'Fun with Dick and Jane', 'The Last Samurai', 'Exodus: Gods and Kings', 'Star Trek', 'Spider-Man', 'How to Train Your Dragon 2', 'Gods of Egypt', 'Stealth', 'Watchmen', 'Lethal Weapon 4', 'Hulk', 'G.I. Joe: Retaliation', 'Sahara', 'Final Fantasy: The Spirits Within', 'Captain America: The First Avenger', 'The World Is Not Enough', 'Master and Commander: The Far Side of the World', 'The Twilight Saga: Breaking Dawn - Part 2', 'Happy Feet Two', 'The Incredible Hulk', 'The BFG', 'The Revenant', 'Turbo', 'Rango', 'Penguins of Madagascar', 'The Bourne Ultimatum', 'Kung Fu Panda', 'Ant-Man', 'The Hunger Games: Catching Fire', 'Home', 'War of the Worlds', 'Bad Boys II', 'Puss in Boots', 'Salt', 'Noah', 'The Adventures of Tintin', 'Harry Potter and the Prisoner of Azkaban', 'Australia', 'After Earth', 'Dinosaur', 'Night at the Museum: Secret of the Tomb', 'Megamind', \"Harry Potter and the Philosopher's Stone\", 'R.I.P.D.', 'Pirates of the Caribbean: The Curse of the Black Pearl', 'The Hunger Games: Mockingjay - Part 1', 'The Da Vinci Code', 'Rio 2', 'X2', 'Fast Five', 'Sherlock Holmes: A Game of Shadows', 'Clash of the Titans', 'Total Recall', 'The 13th Warrior', 'The Bourne Legacy', 'Batman & Robin', 'How the Grinch Stole Christmas', 'The Day After Tomorrow', 'Mission: Impossible II', 'The Perfect Storm', 'Fantastic 4: Rise of the Silver Surfer', 'Life of Pi', 'Ghost Rider', 'Jason Bourne', \"Charlie's Angels: Full Throttle\", 'Prometheus', 'Stuart Little 2', 'Elysium', 'The Chronicles of Riddick', 'RoboCop', 'Speed Racer', 'How Do You Know', 'Knight and Day', 'Oblivion', 'Star Wars: Episode III - Revenge of the Sith', 'Star Wars: Episode II - Attack of the Clones', 'Monsters, Inc.', 'The Wolverine', 'Star Wars: Episode I - The Phantom Menace', 'The Croods', 'Asterix at the Olympic Games', 'Windtalkers', \"The Huntsman: Winter's War\", 'Teenage Mutant Ninja Turtles', 'Gravity', \"Dante's Peak\", 'Teenage Mutant Ninja Turtles: Out of the Shadows', 'Fantastic Four', 'Night at the Museum', 'San Andreas', 'Tomorrow Never Dies', 'The Patriot', \"Ocean's Twelve\", 'Mr. & Mrs. Smith', 'Insurgent', 'The Aviator', \"Gulliver's Travels\", 'The Green Hornet', '300: Rise of an Empire', 'The Smurfs', 'Home on the Range', 'Allegiant', 'Real Steel', 'The Smurfs 2', 'Speed 2: Cruise Control', \"Ender's Game\", 'Live Free or Die Hard', 'The Lord of the Rings: The Fellowship of the Ring', 'Around the World in 80 Days', 'Ali', 'The Cat in the Hat', 'I, Robot', 'Kingdom of Heaven', 'Stuart Little', 'The Princess and the Frog', 'The Martian', 'The Island', 'Town & Country', 'Gone in Sixty Seconds', 'Gladiator', 'Minority Report', 'Harry Potter and the Chamber of Secrets', 'Casino Royale', 'Planet of the Apes', 'Terminator 2: Judgment Day', 'Public Enemies', 'American Gangster', 'True Lies', 'The Taking of Pelham 1 2 3', 'Little Fockers', 'The Other Guys', 'Eraser', 'Django Unchained', 'The Hunchback of Notre Dame', \"The Emperor's New Groove\", 'The Expendables 2', 'National Treasure', 'Eragon', 'Where the Wild Things Are', 'Epic', 'The Tourist', 'End of Days', 'Blood Diamond', 'The Wolf of Wall Street', 'Batman Forever', 'Starship Troopers', 'Cloud Atlas', \"Legend of the Guardians: The Owls of Ga'Hoole\", 'Catwoman', 'Hercules', 'Treasure Planet', 'Land of the Lost', 'The Expendables 3', 'Point Break', 'Son of the Mask', 'In the Heart of the Sea', 'The Adventures of Pluto Nash', 'Green Zone', 'The Peanuts Movie', 'The Spanish Prisoner', 'The Mummy Returns', 'Gangs of New York', 'The Flowers of War', \"Surf's Up\", 'The Stepford Wives', 'Black Hawk Down', 'The Campaign', 'The Fifth Element', 'Sex and the City 2', 'The Road to El Dorado', 'Ice Age: Continental Drift', 'Cinderella', 'The Lovely Bones', 'Finding Nemo', 'The Lord of the Rings: The Return of the King', 'The Lord of the Rings: The Two Towers', 'Seventh Son', 'Lara Croft: Tomb Raider', 'Transcendence', 'Jurassic Park III', 'Rise of the Planet of the Apes', 'The Spiderwick Chronicles', 'A Good Day to Die Hard', 'The Alamo', 'The Incredibles', 'Cutthroat Island', 'Percy Jackson & the Olympians: The Lightning Thief', 'Men in Black', 'Toy Story 2', 'Unstoppable', 'Rush Hour 2', 'What Lies Beneath', 'Cloudy with a Chance of Meatballs', 'Ice Age: Dawn of the Dinosaurs', 'The Secret Life of Walter Mitty', \"Charlie's Angels\", 'The Departed', 'Mulan', 'Tropic Thunder', 'The Girl with the Dragon Tattoo', 'Die Hard: With a Vengeance', 'Sherlock Holmes', 'Ben-Hur', 'Atlantis: The Lost Empire', 'Alvin and the Chipmunks: The Road Chip', 'Valkyrie', \"You Don't Mess with the Zohan\", 'Pixels', 'A.I. Artificial Intelligence', 'The Haunted Mansion', 'Contact', 'Hollow Man', 'The Interpreter', 'Percy Jackson: Sea of Monsters', 'Lara Croft Tomb Raider: The Cradle of Life', 'Now You See Me 2', 'The Saint', 'Spy Game', 'Mission to Mars', 'Rio', 'Bicentennial Man', 'Volcano', \"The Devil's Own\", 'K-19: The Widowmaker', 'Conan the Barbarian', 'Cinderella Man', 'The Nutcracker: The Untold Story', 'Seabiscuit', 'Twister', 'Cast Away', 'Happy Feet', 'The Bourne Supremacy', 'Air Force One', \"Ocean's Eleven\", 'The Three Musketeers', 'Hotel Transylvania', 'Enchanted', 'Safe House', '102 Dalmatians', 'Tower Heist', 'The Holiday', 'Enemy of the State', \"It's Complicated\", \"Ocean's Thirteen\", 'Open Season', 'Divergent', 'Enemy at the Gates', 'The Rundown', 'Last Action Hero', 'Memoirs of a Geisha', 'The Fast and the Furious: Tokyo Drift', 'Arthur Christmas', 'Meet Joe Black', 'Collateral Damage', 'All That Jazz', 'Mirror Mirror', 'Scott Pilgrim vs. the World', 'The Core', 'Nutty Professor II: The Klumps', 'Scooby-Doo', 'Dredd', 'Click', 'Creepshow', 'Cats & Dogs 2 : The Revenge of Kitty Galore', 'Jumper', 'Hellboy II: The Golden Army', 'Zodiac', 'The 6th Day', 'Bruce Almighty', 'The Expendables', 'Mission: Impossible', 'The Hunger Games', 'The Hangover Part II', 'Batman Returns', 'Over the Hedge', 'Lilo & Stitch', \"Charlotte's Web\", 'Deep Impact', 'RED 2', 'The Longest Yard', 'Alvin and the Chipmunks: Chipwrecked', 'Grown Ups 2', 'Get Smart', \"Something's Gotta Give\", 'Shutter Island', 'Four Christmases', 'Robots', 'Face/Off', 'Bedtime Stories', 'Road to Perdition', 'Just Go with It', 'Con Air', 'Eagle Eye', 'Cold Mountain', 'The Book of Eli', 'Flubber', 'The Haunting', 'Space Jam', 'The Pink Panther', 'The Day the Earth Stood Still', 'Conspiracy Theory', 'Fury', 'Six Days Seven Nights', 'Yogi Bear', 'Spirit: Stallion of the Cimarron', 'Zookeeper', 'Lost in Space', 'The Manchurian Candidate', 'Déjà Vu', 'Hotel Transylvania 2', 'Fantasia 2000', 'The Time Machine', 'Mighty Joe Young', 'Swordfish', 'The Legend of Zorro', 'What Dreams May Come', 'Little Nicky', 'The Brothers Grimm', 'Mars Attacks!', 'Evolution', 'The Edge', 'Surrogates', 'Thirteen Days', 'Daylight', 'Walking With Dinosaurs', 'Battlefield Earth', 'Looney Tunes: Back in Action', 'Nine', 'Timeline', 'The Postman', 'Babe: Pig in the City', 'The Last Witch Hunter', 'Red Planet', 'Arthur and the Invisibles', 'Oceans', 'A Sound of Thunder', 'Pompeii', 'Top Cat Begins', 'A Beautiful Mind', 'The Lion King', 'Journey 2: The Mysterious Island', 'Cloudy with a Chance of Meatballs 2', 'Red Dragon', 'Hidalgo', 'Jack and Jill', '2 Fast 2 Furious', 'The Little Prince', 'The Invasion', 'The Adventures of Rocky & Bullwinkle', 'The Secret Life of Pets', 'The League of Extraordinary Gentlemen', 'Despicable Me 2', 'Independence Day', 'The Lost World: Jurassic Park', 'Madagascar', 'Children of Men', 'X-Men', 'Wanted', 'The Rock', 'Ice Age: The Meltdown', '50 First Dates', 'Hairspray', 'Exorcist: The Beginning', 'Inspector Gadget', 'Now You See Me', 'Grown Ups', 'The Terminal', 'Hotel for Dogs', 'Vertical Limit', \"Charlie Wilson's War\", 'Shark Tale', 'Dreamgirls', 'Be Cool', 'Munich', 'Tears of the Sun', 'Killers', 'The Man from U.N.C.L.E.', 'Spanglish', 'Monster House', 'Bandits', 'First Knight', 'Anna and the King', 'Immortals', 'Hostage', 'Titan A.E.', 'Hollywood Homicide', 'Soldier', 'Carriers', 'Monkeybone', 'Flight of the Phoenix', 'Unbreakable', 'Minions', 'Sucker Punch', 'Snake Eyes', 'Sphere', 'The Angry Birds Movie', \"Fool's Gold\", 'Funny People', 'The Kingdom', 'Talladega Nights: The Ballad of Ricky Bobby', 'Dr. Dolittle 2', 'Braveheart', 'Jarhead', 'The Simpsons Movie', 'The Majestic', 'Driven', 'Two Brothers', 'The Village', 'Doctor Dolittle', 'Signs', 'Shrek 2', 'Cars', 'Runaway Bride', 'xXx', 'The SpongeBob Movie: Sponge Out of Water', 'Ransom', 'Inglourious Basterds', 'Hook', 'Die Hard 2', 'S.W.A.T.', 'Vanilla Sky', 'Lady in the Water', 'AVP: Alien vs. Predator', 'Alvin and the Chipmunks: The Squeakquel', 'We Were Soldiers', 'Olympus Has Fallen', 'Star Trek: Insurrection', 'Battle: Los Angeles', 'Big Fish', 'Wolf', 'War Horse', 'The Monuments Men', 'The Abyss', 'Wall Street: Money Never Sleeps', 'Dracula Untold', 'The Siege', 'Stardust', 'Seven Years in Tibet', 'The Dilemma', 'Bad Company', 'Doom', 'I Spy', 'Underworld: Awakening', 'Rock of Ages', \"Hart's War\", 'Killer Elite', 'Rollerball', 'Ballistic: Ecks vs. Sever', 'Hard Rain', 'Osmosis Jones', \"Legends of Oz: Dorothy's Return\", 'Blackhat', 'Sky Captain and the World of Tomorrow', 'Basic Instinct 2', 'Escape Plan', 'The Legend of Hercules', 'The Sum of All Fears', 'The Twilight Saga: Eclipse', 'The Score', 'Despicable Me', 'Money Train', 'Ted 2', 'Agora', 'Mystery Men', 'Hall Pass', 'The Insider', 'The Finest Hours', 'Body of Lies', 'Dinner for Schmucks', 'Abraham Lincoln: Vampire Hunter', 'Entrapment', 'The X Files', 'The Last Legion', 'Saving Private Ryan', 'Need for Speed', 'What Women Want', 'Ice Age', 'Dreamcatcher', 'Lincoln', 'The Matrix', 'Apollo 13', 'The Santa Clause 2', 'Les Misérables', \"You've Got Mail\", 'Step Brothers', 'The Mask of Zorro', 'Due Date', 'Unbroken', 'Space Cowboys', 'Cliffhanger', 'Broken Arrow', 'The Kid', 'World Trade Center', 'Mona Lisa Smile', 'The Dictator', 'Eyes Wide Shut', 'Annie', 'Focus', 'This Means War', 'Blade: Trinity', 'Red Dawn', 'Primary Colors', 'Resident Evil: Retribution', 'Death Race', 'The Long Kiss Goodnight', 'Proof of Life', 'Zathura: A Space Adventure', 'Fight Club', 'We Are Marshall', 'Hudson Hawk', 'Lucky Numbers', 'I, Frankenstein', 'Oliver Twist', 'Elektra', 'Sin City: A Dame to Kill For', 'Random Hearts', 'Everest', 'Perfume: The Story of a Murderer', 'Austin Powers in Goldmember', 'Astro Boy', 'Jurassic Park', 'Wyatt Earp', 'Clear and Present Danger', 'Dragon Blade', 'Little Man', 'U-571', 'The American President', 'The Love Guru', '3000 Miles to Graceland', 'The Hateful Eight', 'Blades of Glory', 'Hop', '300', 'Meet the Fockers', 'Marley & Me', 'The Green Mile', 'Wild Hogs', 'Chicken Little', 'Gone Girl', 'The Bourne Identity', 'GoldenEye', \"The General's Daughter\", 'The Truman Show', 'The Prince of Egypt', 'Daddy Day Care', '2 Guns', 'Cats & Dogs', 'The Italian Job', 'Two Weeks Notice', 'Antz', 'Couples Retreat', 'Days of Thunder', 'Cheaper by the Dozen 2', 'Maze Runner: The Scorch Trials', 'Eat Pray Love', 'The Family Man', 'RED', 'Any Given Sunday', 'The Horse Whisperer', 'Collateral', 'The Scorpion King', 'Ladder 49', 'Jack Reacher', 'Deep Blue Sea', 'This Is It', 'Contagion', 'Kangaroo Jack', 'Coraline', 'The Happening', 'Man on Fire', 'The Shaggy Dog', 'Starsky & Hutch', 'Jingle All the Way', 'Hellboy', 'A Civil Action', 'ParaNorman', 'The Jackal', 'Paycheck', 'Up Close & Personal', 'The Tale of Despereaux', 'The Tuxedo', 'Under Siege 2: Dark Territory', 'Jack Ryan: Shadow Recruit', 'Joy', 'London Has Fallen', 'Alien: Resurrection', 'Shooter', 'The Boxtrolls', 'Practical Magic', 'The Lego Movie', 'Miss Congeniality 2: Armed and Fabulous', 'Reign of Fire', 'Gangster Squad', 'Year One', 'Invictus', 'State of Play', 'Duplicity', 'My Favorite Martian', 'The Sentinel', 'Planet 51', 'Star Trek: Nemesis', 'Intolerable Cruelty', 'Trouble with the Curve', 'Edge of Darkness', 'The Relic', 'Analyze That', 'Righteous Kill', 'Mercury Rising', 'The Soloist', 'The Legend of Bagger Vance', 'Almost Famous', 'Garfield: A Tail of Two Kitties', 'xXx: State of the Union', 'Priest', 'Sinbad: Legend of the Seven Seas', 'Event Horizon', 'Dragonfly', 'The Black Dahlia', 'Flyboys', 'The Last Castle', 'Supernova', \"Winter's Tale\", 'The Mortal Instruments: City of Bones', 'Meet Dave', 'Dark Water', 'Edtv', 'Inkheart', 'The Spirit', 'Mortdecai', 'In the Name of the King: A Dungeon Siege Tale', 'Beyond Borders', 'The Monkey King 2', 'The Great Raid', 'Deadpool', 'Holy Man', 'American Sniper', 'Goosebumps', 'Just Like Heaven', 'The Flintstones in Viva Rock Vegas', 'Rambo III', 'Leatherheads', 'The Ridiculous 6', 'Did You Hear About the Morgans?', 'The Internship', 'Resident Evil: Afterlife', 'Red Tails', \"The Devil's Advocate\", \"That's My Boy\", 'DragonHeart', 'After the Sunset', 'Ghost Rider: Spirit of Vengeance', \"Captain Corelli's Mandolin\", 'The Pacifier', 'Walking Tall', 'Forrest Gump', 'Alvin and the Chipmunks', 'Meet the Parents', 'Pocahontas', 'Superman', 'The Nutty Professor', 'Hitch', 'George of the Jungle', 'American Wedding', 'Captain Phillips', 'Date Night', 'Casper', 'The Equalizer', 'Maid in Manhattan', 'Crimson Tide', 'The Pursuit of Happyness', 'Flightplan', 'Disclosure', 'City of Angels', 'Kill Bill: Vol. 1', 'Bowfinger', 'Kill Bill: Vol. 2', 'Tango & Cash', 'Death Becomes Her', 'Shanghai Noon', 'Executive Decision', \"Mr. Popper's Penguins\", 'The Forbidden Kingdom', 'Free Birds', 'Alien³', 'Evita', 'Ronin', 'The Ghost and the Darkness', 'Paddington', 'The Watch', 'The Hunted', 'Instinct', 'Stuck on You', 'Semi-Pro', 'The Pirates! In an Adventure with Scientists!', 'Changeling', 'Chain Reaction', 'The Fan', 'The Phantom of the Opera', 'Elizabeth: The Golden Age', 'Æon Flux', 'Gods and Generals', 'Turbulence', 'Imagine That', 'Muppets Most Wanted', 'Thunderbirds', 'Burlesque', 'A Very Long Engagement', 'Lolita', 'D-Tox', 'Blade II', 'Seven Pounds', 'Bullet to the Head', 'The Godfather: Part III', 'Elizabethtown', 'You, Me and Dupree', 'Superman II', 'Gigli', \"All the King's Men\", 'Shaft', 'Anastasia', 'Moulin Rouge!', 'Domestic Disturbance', 'Black Mass', 'Flags of Our Fathers', 'Law Abiding Citizen', 'Grindhouse', 'Beloved', 'Lucky You', 'Catch Me If You Can', 'Zero Dark Thirty', 'The Break-Up', 'Mamma Mia!', \"Valentine's Day\", 'The Dukes of Hazzard', 'The Thin Red Line', 'The Change-Up', 'Man on the Moon', 'Casino', 'From Paris with Love', 'Bulletproof Monk', 'Me, Myself & Irene', 'Barnyard', 'Deck the Halls', 'The Twilight Saga: New Moon', 'Shrek', 'The Adjustment Bureau', 'Robin Hood: Prince of Thieves', 'Jerry Maguire', 'Ted', 'As Good as It Gets', 'Patch Adams', 'Anchorman 2: The Legend Continues', 'Mr. Deeds', 'Super 8', 'Erin Brockovich', 'How to Lose a Guy in 10 Days', '22 Jump Street', 'Interview with the Vampire', 'Yes Man', 'Central Intelligence', 'Stepmom', \"Daddy's Home\", 'Into the Woods', 'Inside Man', 'Payback', 'Congo', 'We Bought a Zoo', 'Knowing', 'Failure to Launch', 'The Ring Two', 'Crazy, Stupid, Love.', 'Garfield', 'Christmas with the Kranks', 'Moneyball', 'Outbreak', 'Non-Stop', 'Race to Witch Mountain', 'V for Vendetta', 'Shanghai Knights', 'Curious George', 'Herbie Fully Loaded', \"Don't Say a Word\", 'Hansel & Gretel: Witch Hunters', 'Unfaithful', 'I Am Number Four', 'Syriana', '13 Hours: The Secret Soldiers of Benghazi', 'The Book of Life', 'Firewall', 'Absolute Power', 'G.I. Jane', 'The Game', 'Silent Hill', 'The Replacements', 'American Reunion', 'The Negotiator', 'Into the Storm', 'Beverly Hills Cop III', 'Gremlins 2: The New Batch', 'The Judge', 'The Peacemaker', 'Resident Evil: Apocalypse', 'Bridget Jones: The Edge of Reason', 'Out of Time', 'On Deadly Ground', 'The Adventures of Sharkboy and Lavagirl', 'The Beach', 'Raising Helen', 'Ninja Assassin', 'For Love of the Game', 'Striptease', 'Marmaduke', 'Hereafter', 'Murder by Numbers', 'Assassins', 'Hannibal Rising', 'The Story of Us', 'The Host', 'Basic', 'Blood Work', 'The International', 'Escape from L.A.', 'The Iron Giant', 'The Life Aquatic with Steve Zissou', 'Free State of Jones', 'The Life of David Gale', 'Man of the House', 'Run All Night', 'Eastern Promises', 'Into the Blue', 'The Messenger: The Story of Joan of Arc', 'Your Highness', 'Dream House', 'Mad City', \"Baby's Day Out\", 'The Scarlet Letter', 'Fair Game', 'Domino', 'Jade', 'Gamer', 'Beautiful Creatures', 'Death to Smoochy', 'Zoolander 2', 'The Big Bounce', 'What Planet Are You From?', 'Drive Angry', 'Street Fighter: The Legend of Chun-Li', 'The One', 'The Adventures of Ford Fairlane', 'The Boat That Rocked', 'Traffic', 'Indiana Jones and the Last Crusade', 'Anna Karenina', 'Chappie', 'The Bone Collector', 'Panic Room', 'The Tooth Fairy', 'Three Kings', 'Child 44', 'Rat Race', 'K-PAX', 'Kate & Leopold', 'Bedazzled', 'The Cotton Club', '3:10 to Yuma', 'Taken 3', 'Out of Sight', 'The Cable Guy', 'Earth', 'Dick Tracy', 'The Thomas Crown Affair', 'Riding in Cars with Boys', 'First Blood', 'Solaris', \"Happily N'Ever After\", 'Mary Reilly', \"My Best Friend's Wedding\", \"America's Sweethearts\", 'Insomnia', 'Star Trek: First Contact', 'Jonah Hex', 'Courage Under Fire', 'Liar Liar', 'The Infiltrator', 'Inchon', 'The Flintstones', 'Taken 2', 'Scary Movie 3', 'Miss Congeniality', 'Journey to the Center of the Earth', 'The Princess Diaries 2: Royal Engagement', 'The Pelican Brief', 'The Client', 'The Bucket List', 'Patriot Games', 'Monster-in-Law', 'Prisoners', 'Training Day', 'Galaxy Quest', 'Scary Movie 2', 'The Muppets', 'Blade', 'Coach Carter', 'Changing Lanes', 'Anaconda', 'Coyote Ugly', 'Love Actually', \"A Bug's Life\", 'From Hell', 'The Specialist', 'Tin Cup', 'Yours, Mine and Ours', 'Kicking & Screaming', \"The Hitchhiker's Guide to the Galaxy\", 'Fat Albert', 'Resident Evil: Extinction', 'Blended', 'Last Holiday', 'The River Wild', 'The Indian in the Cupboard', 'Savages', 'Cellular', 'Johnny English', 'The Ant Bully', 'Dune', 'Across the Universe', 'Revolutionary Road', '16 Blocks', 'Babylon A.D.', 'The Glimmer Man', 'Multiplicity', 'Aliens in the Attic', 'The Pledge', 'The Producers', 'The Phantom', 'All the Pretty Horses', 'Nixon', 'The Ghost Writer', 'Deep Rising', 'Miracle at St. Anna', 'Curse of the Golden Flower', 'Bangkok Dangerous', 'Big Trouble', 'Love in the Time of Cholera', 'Shadow Conspiracy', 'Johnny English Reborn', 'Foodfight!', 'Argo', 'The Fugitive', 'The Bounty Hunter', 'Sleepers', 'Rambo: First Blood Part II', 'The Juror', 'Pinocchio', \"Heaven's Gate\", 'Underworld: Evolution', 'Victor Frankenstein', 'Finding Forrester', '28 Days', 'Unleashed', 'The Sweetest Thing', 'The Firm', 'Charlie St. Cloud', 'The Mechanic', '21 Jump Street', 'Notting Hill', 'Chicken Run', 'Along Came Polly', 'Boomerang', 'The Heat', 'Cleopatra', 'Here Comes the Boom', 'High Crimes', 'The Mirror Has Two Faces', 'The Mothman Prophecies', 'Brüno', 'Licence to Kill', 'Red Riding Hood', '15 Minutes', 'Super Mario Bros.', 'Lord of War', 'Hero', 'One for the Money', 'The Interview', \"The Warrior's Way\", 'Micmacs', '8 Mile', 'Why I Did (Not) Eat My Father', \"A Knight's Tale\", 'The Medallion', 'The Sixth Sense', 'Man on a Ledge', 'The Big Year', 'The Karate Kid', 'American Hustle', 'The Proposal', 'Double Jeopardy', 'Back to the Future Part II', 'Lucy', 'Fifty Shades of Grey', 'Spy Kids 3-D: Game Over', 'A Time to Kill', 'Cheaper by the Dozen', 'Lone Survivor', 'A League of Their Own', 'The Conjuring 2', 'The Social Network', \"He's Just Not That Into You\", 'Scary Movie 4', 'Scream 3', 'Back to the Future Part III', 'Get Hard', 'Dracula', 'Julie & Julia', '42', 'The Talented Mr. Ripley', 'Dumb and Dumber To', 'Eight Below', 'The Intern', 'Ride Along 2', 'The Last of the Mohicans', 'Ray', 'Sin City', 'Vantage Point', 'I Love You, Man', 'Shallow Hal', 'JFK', \"Big Momma's House 2\", 'The Mexican', '17 Again', 'The Other Woman', 'The Final Destination', 'Bridge of Spies', 'Behind Enemy Lines', 'Get Him to the Greek', 'Shall We Dance?', 'Small Soldiers', 'Spawn', 'The Count of Monte Cristo', 'The Lincoln Lawyer', 'Unknown', 'The Prestige', 'Horrible Bosses 2', 'Escape from Planet Earth', 'Apocalypto', 'The Living Daylights', 'Predators', 'Legal Eagles', 'Secret Window', 'The Lake House', 'The Skeleton Key', 'The Odd Life of Timothy Green', 'Made of Honor', 'Jersey Boys', 'The Rainmaker', 'Gothika', 'Amistad', 'Medicine Man', 'Aliens vs Predator: Requiem', 'Ri¢hie Ri¢h', 'Autumn in New York', 'Music and Lyrics', 'Paul', 'The Guilt Trip', 'Scream 4', '8MM', 'The Doors', 'Sex Tape', 'Hanging Up', 'Final Destination 5', 'Mickey Blue Eyes', 'Pay It Forward', 'Fever Pitch', 'Drillbit Taylor', 'A Million Ways to Die in the West', 'The Shadow', 'Extremely Loud & Incredibly Close', 'Morning Glory', \"Get Rich or Die Tryin'\", 'The Art of War', 'Rent', 'Bless the Child', 'The Out-of-Towners', 'The Island of Dr. Moreau', 'The Musketeer', 'The Other Boleyn Girl', 'Sweet November', 'The Reaping', 'Mean Streets', 'Renaissance Man', 'Colombiana', 'Quest for Camelot', 'City By The Sea', 'At First Sight', 'Torque', 'City Hall', 'Showgirls', 'Marie Antoinette', 'Kiss of Death', 'Get Carter', 'The Impossible', 'Ishtar', 'Fantastic Mr. Fox', 'Life or Something Like It', 'Memoirs of an Invisible Man', 'Amélie', 'New York Minute', 'Alfie', 'Big Miracle', 'The Deep End of the Ocean', 'FearDotCom', \"Cirque du Freak: The Vampire's Assistant\", 'Duplex', 'Soul Men', 'Raise the Titanic', 'Universal Soldier: The Return', 'Pandorum', 'Impostor', 'Extreme Ops', 'Just Visiting', 'Sunshine', 'A Thousand Words', 'Delgo', 'The Gunman', 'Stormbreaker', 'Disturbia', 'Hackers', 'The Hunting Party', 'The Hudsucker Proxy', 'The Warlords', 'Nomad: The Warrior', 'Snowpiercer', 'A Monster in Paris', 'The Last Shot', 'The Crow', 'Baahubali: The Beginning', \"The Time Traveler's Wife\", 'Because I Said So', 'Frankenweenie', 'Serenity', 'Against the Ropes', 'Superman III', 'Grudge Match', 'Red Cliff', 'Sweet Home Alabama', 'The Ugly Truth', 'Sgt. Bilko', 'Spy Kids 2: The Island of Lost Dreams', 'Star Trek: Generations', 'The Grandmaster', 'Water for Elephants', \"Dragon Nest: Warriors' Dawn\", 'The Hurricane', 'Enough', 'Heartbreakers', 'Paul Blart: Mall Cop 2', 'Angel Eyes', 'Joe Somebody', 'The Ninth Gate', 'Extreme Measures', 'Rock Star', 'Precious', 'White Squall', 'The Thing', 'Riddick', 'Switchback', 'Texas Rangers', 'City of Ember', 'The Master', 'Virgin Territory', 'The Express', 'The 5th Wave', 'Creed', 'The Town', \"What to Expect When You're Expecting\", 'Burn After Reading', \"Nim's Island\", 'Rush', 'Magnolia', 'Cop Out', 'How to Be Single', 'Dolphin Tale', 'Twilight', 'John Q', 'Blue Streak', \"We're the Millers\", 'The Inhabited Island', 'Breakdown', 'Never Say Never Again', 'Hot Tub Time Machine', 'Dolphin Tale 2', 'Reindeer Games', 'A Man Apart', 'Aloha', 'Ghosts of Mississippi', 'Snow Falling on Cedars', 'The Rite', 'Gattaca', \"Isn't She Great\", 'Space Chimps', 'Head of State', 'The Hangover', 'Ip Man 3', 'Austin Powers: The Spy Who Shagged Me', 'Batman', 'There Be Dragons', 'Lethal Weapon 3', 'The Blind Side', 'Spy Kids', 'Horrible Bosses', 'True Grit', 'The Devil Wears Prada', 'Star Trek: The Motion Picture', 'Identity Thief', 'Cape Fear', '21', 'Trainwreck', 'Guess Who', 'The English Patient', 'L.A. Confidential', 'Sky High', 'In & Out', 'Species', 'A Nightmare on Elm Street', 'The Cell', 'The Man in the Iron Mask', 'Secretariat', 'TMNT', 'Radio', 'Friends with Benefits', 'Neighbors 2: Sorority Rising', 'Saving Mr. Banks', 'Malcolm X', 'This Is 40', 'Old Dogs', 'Underworld: Rise of the Lycans', 'License to Wed', 'The Benchwarmers', 'Must Love Dogs', 'Donnie Brasco', 'Resident Evil', 'Poltergeist', 'The Ladykillers', 'Max Payne', 'In Time', 'The Back-Up Plan', 'Something Borrowed', 'Black Knight', 'The Bad News Bears', 'Street Fighter', 'The Pianist', 'The Nativity Story', 'House of Wax', 'Closer', 'J. Edgar', 'Mirrors', 'Queen of the Damned', 'Predator 2', 'Untraceable', 'Blast from the Past', 'Flash Gordon', 'Jersey Girl', 'Alex Cross', 'Midnight in the Garden of Good and Evil', 'Heist', 'Nanny McPhee and the Big Bang', 'Hoffa', 'The X Files: I Want to Believe', 'Ella Enchanted', 'Concussion', 'Abduction', 'Valiant', 'Wonder Boys', 'Superhero Movie', 'Broken City', 'Cursed', 'Premium Rush', 'Hot Pursuit', 'The Four Feathers', 'Parker', 'Wimbledon', 'Furry Vengeance', 'Bait', 'Krull', 'Lions for Lambs', 'Flight of the Intruder', 'Walk Hard: The Dewey Cox Story', 'The Shipping News', 'American Outlaws', 'The Young Victoria', 'Whiteout', 'The Tree of Life', 'Knock Off', 'Sabotage', 'The Order', 'Punisher: War Zone', 'Zoom', 'The Walk', 'Warriors of Virtue', 'A Good Year', 'Radio Flyer', 'Bound by Honor', \"Smilla's Sense of Snow\", 'Femme Fatale', 'Lion of the Desert', 'The Horseman on the Roof', 'Ride with the Devil', 'Biutiful', 'Bandidas', 'Black Water Transit', 'The Maze Runner', 'Unfinished Business', 'The Age of Innocence', 'The Fountain', 'Chill Factor', 'Stolen', 'Ponyo', 'The Longest Ride', \"The Astronaut's Wife\", 'I Dreamed of Africa', 'Playing for Keeps', 'Mandela: Long Walk to Freedom', 'Reds', 'A Few Good Men', 'Exit Wounds', \"Big Momma's House\", 'Thunder and the House of Magic', 'The Darkest Hour', 'Step Up Revolution', 'Snakes on a Plane', 'The Watcher', 'The Punisher', 'Goal!: The Dream Begins', 'Safe', 'Pushing Tin', 'Return of the Jedi', 'Doomsday', 'The Reader', 'Wanderlust', 'Elf', 'Phenomenon', 'Snow Dogs', 'Scrooged', 'Nacho Libre', 'Bridesmaids', 'This Is the End', 'Stigmata', 'Men of Honor', 'Takers', 'The Big Wedding', 'Big Mommas: Like Father, Like Son', 'Source Code', 'Alive', 'The Number 23', 'The Young and Prodigious T.S. Spivet', '1941', 'Dreamer: Inspired By a True Story', 'A History of Violence', 'Transporter 2', 'The Quick and the Dead', 'Laws of Attraction', 'Bringing Out the Dead', 'Repo Men', 'Dragon Wars: D-War', 'Bogus', 'The Incredible Burt Wonderstone', \"Cats Don't Dance\", 'Cradle Will Rock', 'The Good German', 'George and the Dragon', 'Apocalypse Now', 'Going the Distance', \"Mr. Holland's Opus\", 'Criminal', 'Out of Africa', 'Flight', 'Moonraker', 'The Grand Budapest Hotel', 'Hearts in Atlantis', 'Arachnophobia', 'Frequency', 'Vacation', 'Get Shorty', 'Chicago', 'Big Daddy', 'American Pie 2', 'Toy Story', 'Speed', 'The Vow', 'Extraordinary Measures', 'Remember the Titans', 'The Hunt for Red October', 'The Butler', 'DodgeBall: A True Underdog Story', 'The Addams Family', 'Ace Ventura: When Nature Calls', 'The Princess Diaries', 'The First Wives Club', 'Se7en', 'District 9', 'The SpongeBob SquarePants Movie', 'Mystic River', 'Million Dollar Baby', 'Analyze This', 'The Notebook', '27 Dresses', 'Hannah Montana: The Movie', 'Rugrats in Paris: The Movie', 'The Prince of Tides', 'Legends of the Fall', 'Up in the Air', 'About Schmidt', 'Warm Bodies', 'Looper', 'Down to Earth', 'Babe', 'Hope Springs', 'Forgetting Sarah Marshall', 'Four Brothers', 'Baby Mama', 'Hope Floats', 'Bride Wars', 'Without a Paddle', '13 Going on 30', 'Midnight in Paris', 'The Nut Job', 'Blow', 'Message in a Bottle', 'Star Trek V: The Final Frontier', 'Like Mike', 'The Naked Gun 33⅓: The Final Insult', 'A View to a Kill', 'The Curse of the Were-Rabbit', 'P.S. I Love You', 'Racing Stripes', 'Atonement', 'Letters to Juliet', 'Black Rain', 'The Three Stooges', 'Corpse Bride', 'Glory Road', 'Sicario', 'Southpaw', 'Drag Me to Hell', 'The Age of Adaline', 'Secondhand Lions', 'Step Up 3D', 'Blue Crush', 'Stranger Than Fiction', '30 Days of Night', 'The Cabin in the Woods', 'Meet the Spartans', 'Midnight Run', 'The Running Man', 'Little Shop of Horrors', 'Hanna', 'Mortal Kombat: Annihilation', 'Larry Crowne', 'Carrie', 'Take the Lead', 'Gridiron Gang', \"What's the Worst That Could Happen?\", '9', 'Side Effects', 'The Prince & Me', 'Winnie the Pooh', 'Dumb and Dumberer: When Harry Met Lloyd', 'Bulworth', 'Get on Up', 'One True Thing', 'Virtuosity', 'My Super Ex-Girlfriend', 'Deliver Us from Evil', 'Sanctum', 'Little Black Book', 'The Five-Year Engagement', 'Mr. 3000', 'The Next Three Days', 'Ultraviolet', 'Assault on Precinct 13', 'The Replacement Killers', 'Fled', 'Eight Legged Freaks', 'Love & Other Drugs', '88 Minutes', 'North Country', 'The Whole Ten Yards', 'Splice', 'Howard the Duck', 'Pride and Glory', 'The Cave', 'Alex & Emma', 'Wicker Park', 'Fright Night', 'The New World', 'Wing Commander', 'In Dreams', 'Dragonball Evolution', 'The Last Stand', 'Godsend', 'Chasing Liberty', 'Hoodwinked Too! Hood VS. Evil', 'An Unfinished Life', 'The Imaginarium of Doctor Parnassus', \"Barney's Version\", 'Runner Runner', 'Antitrust', 'Glory', 'Once Upon a Time in America', 'Dead Man Down', 'The Merchant of Venice', 'The Good Thief', 'Supercross', 'Miss Potter', 'The Promise', 'DOA: Dead or Alive', 'The Assassination of Jesse James by the Coward Robert Ford', '1911', 'Little Nicholas', 'Wild Card', 'Machine Gun Preacher', 'Animals United', 'Goodbye Bafana', 'United Passions', 'Grace of Monaco', 'Savva. Heart of the Warrior', \"Ripley's Game\", 'Sausage Party', 'Pitch Perfect 2', 'Walk the Line', 'Keeping the Faith', 'The Borrowers', 'Frost/Nixon', 'Confessions of a Dangerous Mind', 'Serving Sara', 'The Boss', 'Cry Freedom', 'Mumford', 'Seed of Chucky', 'The Jacket', 'Aladdin', 'Straight Outta Compton', 'Indiana Jones and the Temple of Doom', 'The Rugrats Movie', 'Along Came a Spider', 'Florence Foster Jenkins', 'Once Upon a Time in Mexico', 'Die Hard', 'Role Models', 'The Big Short', 'Taking Woodstock', 'Miracle', 'Dawn of the Dead', 'The Wedding Planner', 'Space Pirate Captain Harlock', 'The Royal Tenenbaums', 'Identity', 'Last Vegas', 'For Your Eyes Only', 'Serendipity', 'Timecop', 'Zoolander', 'Safe Haven', 'Hocus Pocus', 'No Reservations', 'Kick-Ass', '30 Minutes or Less', 'Dracula 2000', 'Alexander and the Terrible, Horrible, No Good, Very Bad Day', 'Pride & Prejudice', 'Blade Runner', 'Rob Roy', '3 Days to Kill', 'We Own the Night', 'Lost Souls', 'Winged Migration', 'Just My Luck', 'Mystery, Alaska', 'The Spy Next Door', 'A Simple Wish', 'Ghosts of Mars', 'Our Brand Is Crisis', 'Pride and Prejudice and Zombies', 'Kundun', 'How to Lose Friends & Alienate People', 'Kick-Ass 2', 'Alatriste', 'Brick Mansions', 'Octopussy', 'Knocked Up', \"My Sister's Keeper\", 'Welcome Home Roscoe Jenkins', 'A Passage to India', 'Notes on a Scandal', 'Rendition', 'Star Trek VI: The Undiscovered Country', 'Divine Secrets of the Ya-Ya Sisterhood', 'Kiss the Girls', 'The Blues Brothers', 'The Sisterhood of the Traveling Pants 2', 'Joyful Noise', 'About a Boy', 'Lake Placid', 'Lucky Number Slevin', 'The Right Stuff', 'Anonymous', 'The NeverEnding Story', 'Dark City', 'The Duchess', 'Return to Oz', 'The Newton Boys', 'Case 39', 'Suspect Zero', 'Martian Child', 'Spy Kids: All the Time in the World', 'Money Monster', 'The 51st State', 'Flawless', 'Mindhunters', 'What Just Happened', 'The Statement', 'The Magic Flute', 'Paul Blart: Mall Cop', 'Freaky Friday', 'The 40 Year Old Virgin', 'Shakespeare in Love', 'A Walk Among the Tombstones', 'Kindergarten Cop', 'Pineapple Express', 'Ever After: A Cinderella Story', 'Open Range', 'Flatliners', 'A Bridge Too Far', 'Red Eye', 'Final Destination 2', 'O Brother, Where Art Thou?', 'Legion', 'Pain & Gain', 'In Good Company', 'Clockstoppers', 'Silverado', 'Brothers', 'Agent Cody Banks 2: Destination London', \"New Year's Eve\", 'Original Sin', 'The Raven', 'Welcome to Mooseport', 'Highlander: The Final Dimension', 'Blood and Wine', 'Snow White: A Tale of Terror', 'The Curse of the Jade Scorpion', 'Accidental Love', 'Flipper', 'Self/less', 'The Constant Gardener', 'The Passion of the Christ', 'Mrs. Doubtfire', 'Rain Man', 'Gran Torino', 'W.', 'Taken', 'The Best of Me', 'The Bodyguard', \"Schindler's List\", 'The Help', 'The Fifth Estate', 'Scooby-Doo 2: Monsters Unleashed', 'Forbidden Kingdom', 'Freddy vs. Jason', 'The Face of an Angel', 'Jimmy Neutron: Boy Genius', 'Cloverfield', 'Teenage Mutant Ninja Turtles II: The Secret of the Ooze', 'The Untouchables', 'No Country for Old Men', 'Ride Along', \"Bridget Jones's Diary\", 'Chocolat', 'Legally Blonde 2: Red, White & Blonde', 'Parental Guidance', 'No Strings Attached', 'Tombstone', 'Romeo Must Die', 'The Omen', 'Final Destination 3', 'The Lucky One', 'Bridge to Terabithia', 'Finding Neverland', 'A Madea Christmas', 'The Grey', 'Hide and Seek', 'Anchorman: The Legend of Ron Burgundy', 'GoodFellas', 'Agent Cody Banks', 'Nanny McPhee', 'Scarface', 'Nothing to Lose', 'The Last Emperor', 'Contraband', 'Money Talks', 'There Will Be Blood', 'The Wild Thornberrys Movie', 'Rugrats Go Wild', 'Undercover Brother', 'The Sisterhood of the Traveling Pants', 'Kiss of the Dragon', 'The House Bunny', 'Beauty Shop', 'Million Dollar Arm', 'The Giver', 'What a Girl Wants', 'Jeepers Creepers 2', 'Good Luck Chuck', 'Cradle 2 the Grave', 'The Hours', \"She's the Man\", \"Mr. Bean's Holiday\", 'Anacondas: The Hunt for the Blood Orchid', 'Blood Ties', 'August Rush', 'Elizabeth', 'Bride of Chucky', 'Tora! Tora! Tora!', 'Spice World', 'The Sitter', 'Dance Flick', 'The Shawshank Redemption', 'Crocodile Dundee in Los Angeles', 'Kingpin', 'The Gambler', 'August: Osage County', 'Ice Princess', 'A Lot Like Love', 'Eddie the Eagle', 'He Got Game', 'Don Juan DeMarco', 'Dear John', 'The Losers', \"Don't Be Afraid of the Dark\", 'War', 'Punch-Drunk Love', 'EuroTrip', 'Half Past Dead', 'Unaccompanied Minors', 'Bright Lights, Big City', 'The Adventures of Pinocchio', 'The Greatest Game Ever Played', 'The Box', 'The Ruins', 'The Next Best Thing', 'My Soul to Take', 'The Girl Next Door', 'Maximum Risk', 'Stealing Harvard', 'Legend', 'Hot Rod', 'Shark Night', \"Angela's Ashes\", 'Draft Day', 'Lifeforce', 'The Conspirator', 'Lords of Dogtown', 'The 33', 'Big Trouble in Little China', 'Fly Me to the Moon', 'Warrior', 'Michael Collins', 'Gettysburg', 'Stop-Loss', 'Abandon', 'Brokedown Palace', 'The Possession', 'Mrs. Winterbourne', 'Straw Dogs', 'The Hoax', 'Stone Cold', 'The Road', 'Sheena', 'Underclassman', \"Say It Isn't So\", \"The World's Fastest Indian\", 'Tank Girl', \"King's Ransom\", 'Blindness', 'BloodRayne', 'Carnage', 'Where the Truth Lies', 'Cirque du Soleil: Worlds Away', 'Without Limits', 'Me and Orson Welles', 'The Best Offer', 'The Bad Lieutenant: Port of Call - New Orleans', \"A Turtle's Tale: Sammy's Adventures\", 'Little White Lies', 'Love Ranch', \"The True Story of Puss 'n Boots\", 'Space Dogs', 'The Counselor', 'Ironclad', 'Waterloo', 'Kung Fu Jungle', 'Red Sky', 'Dangerous Liaisons', 'On the Road', 'Star Trek IV: The Voyage Home', 'Rocky Balboa', 'Scream 2', 'Jane Got a Gun', 'Think Like a Man Too', 'The Whole Nine Yards', 'Footloose', 'Old School', 'The Fisher King', 'I Still Know What You Did Last Summer', 'Return to Me', 'Zack and Miri Make a Porno', 'Nurse Betty', 'The Men Who Stare at Goats', 'Double Take', 'Girl, Interrupted', 'Win a Date with Tad Hamilton!', 'Muppets from Space', 'The Wiz', 'Ready to Rumble', 'Play It to the Bone', \"I Don't Know How She Does It\", 'Piranha 3D', 'Beyond the Sea', 'Meet the Deedles', 'The Thief and the Cobbler', 'The Bridge of San Luis Rey', 'Faster', \"Howl's Moving Castle\", 'Zombieland', 'The Waterboy', 'The Empire Strikes Back', 'Bad Boys', 'The Naked Gun 2½: The Smell of Fear', 'Final Destination', 'The Ides of March', 'Pitch Black', 'Someone Like You...', 'Her', 'Joy Ride', 'The Adventurer: The Curse of the Midas Box', 'Anywhere But Here', 'The Crew', 'Haywire', 'Jaws: The Revenge', \"Marvin's Room\", 'The Longshots', 'The End of the Affair', 'Harley Davidson and the Marlboro Man', 'In the Valley of Elah', 'Coco Before Chanel', 'Forsaken', 'Cheri', 'Vanity Fair', 'Bodyguards and Assassins', '1408', 'Spaceballs', 'The Water Diviner', 'Ghost', \"There's Something About Mary\", 'The Santa Clause', 'The Rookie', 'The Game Plan', 'The Bridges of Madison County', 'The Animal', 'Gandhi', 'The Hundred-Foot Journey', 'The Net', 'I Am Sam', 'Son of God', 'Underworld', 'Derailed', 'The Informant!', 'Shadowlands', 'Deuce Bigalow: European Gigolo', 'Delivery Man', 'Our Kind of Traitor', 'Saving Silverman', 'Diary of a Wimpy Kid: Dog Days', 'Summer of Sam', 'Jay and Silent Bob Strike Back', 'The Glass House', 'Hail, Caesar!', 'Josie and the Pussycats', 'Homefront', 'The Little Vampire', 'I Heart Huckabees', 'RoboCop 3', 'Megiddo: The Omega Code 2', 'Darling Lili', 'Dudley Do-Right', 'The Transporter Refueled', 'The Libertine', 'Black Book', 'Joyeux Noël', 'Hit & Run', 'Mad Money', 'Before I Go to Sleep', 'Sorcerer', 'Stone', 'Moliere', 'Out of the Furnace', 'Michael Clayton', 'My Fellow Americans', 'Arlington Road', 'Underdogs', 'To Rome with Love', 'Firefox', 'South Park: Bigger, Longer & Uncut', 'Death at a Funeral', 'Teenage Mutant Ninja Turtles III', 'Hardball', 'Silver Linings Playbook', 'Freedom Writers', 'For Colored Girls', 'The Transporter', 'Never Back Down', 'The Rage: Carrie 2', 'Away We Go', 'Swing Vote', 'Moonlight Mile', 'Tinker Tailor Soldier Spy', 'Molly', 'The Beaver', 'The Best Little Whorehouse in Texas', 'eXistenZ', 'Raiders of the Lost Ark', 'Home Alone 2: Lost in New York', 'Close Encounters of the Third Kind', 'Pulse', 'Beverly Hills Cop II', 'Bringing Down the House', 'The Silence of the Lambs', \"Wayne's World\", 'Jackass 3D', 'Jaws 2', 'Beverly Hills Chihuahua', 'The Conjuring', 'Are We There Yet?', 'Tammy', 'School of Rock', 'Mortal Kombat', 'White Chicks', 'The Descendants', 'Holes', 'The Last Song', '12 Years a Slave', 'Drumline', 'Why Did I Get Married Too?', 'Edward Scissorhands', 'Me Before You', \"Madea's Witness Protection\", 'The French Connection', 'Bad Moms', 'Date Movie', 'Return to Never Land', 'Selma', 'The Jungle Book 2', 'Boogeyman', 'Premonition', 'The Tigger Movie', 'Orphan', 'Max', 'Epic Movie', 'Spotlight', 'Lakeview Terrace', 'The Grudge 2', 'How Stella Got Her Groove Back', \"Bill & Ted's Bogus Journey\", 'Man of the Year', 'The Black Hole', 'The American', 'Selena', 'Vampires Suck', 'Babel', 'This Is Where I Leave You', 'Doubt', 'Team America: World Police', 'Texas Chainsaw 3D', 'Copycat', 'Scary Movie 5', 'Paint Your Wagon', 'Milk', 'Risen', 'Ghost Ship', 'A Very Harold & Kumar Christmas', 'Wild Things', 'The Stepfather', 'The Debt', 'High Fidelity', 'One Missed Call', 'Eye for an Eye', 'The Bank Job', 'Eternal Sunshine of the Spotless Mind', 'You Again', 'Street Kings', \"The World's End\", 'Nancy Drew', 'Daybreakers', \"She's Out of My League\", 'Monte Carlo', 'Stay Alive', 'Quigley Down Under', 'Alpha and Omega', 'The Covenant', 'Stick It', 'Shorts', 'To Die For', 'Nerve', 'Appaloosa', 'Vampires', 'Psycho', \"My Best Friend's Girl\", 'Endless Love', 'Georgia Rule', 'Under the Rainbow', 'Ladyhawke', 'Simon Birch', 'Reign Over Me', 'Into the Wild', 'School for Scoundrels', 'Silent Hill: Revelation 3D', 'From Dusk Till Dawn', \"Pooh's Heffalump Movie\", 'Home for the Holidays', 'Kung Fu Hustle', 'The Country Bears', 'The Kite Runner', '21 Grams', 'Paparazzi', 'A Guy Thing', 'Loser', 'Capitalism: A Love Story', 'The Greatest Story Ever Told', 'Secret in Their Eyes', 'Disaster Movie', 'Armored', 'The Man Who Knew Too Little', \"What's Your Number?\", 'Lockout', 'Envy', 'Crank: High Voltage', 'Bullets Over Broadway', 'One Night with the King', 'The Quiet American', 'The Weather Man', 'Undisputed', 'Ghost Town', '12 Rounds', 'Let Me In', '3 Ninjas Kick Back', 'Be Kind Rewind', 'Mrs Henderson Presents', 'Triple 9', 'Deconstructing Harry', 'Three to Tango', 'Burnt', \"We're No Angels\", 'Everyone Says I Love You', 'Death Sentence', \"Everybody's Fine\", 'Superbabies: Baby Geniuses 2', 'The Man', 'Code Name: The Cleaner', 'Connie and Carla', 'Sweet Charity', 'Inherent Vice', 'Doogal', 'Battle of the Year', 'An American Carol', 'Machete Kills', 'Willard', 'Strange Wilderness', 'Topsy-Turvy', 'Little Boy', 'A Dangerous Method', 'A Scanner Darkly', 'Chasing Mavericks', 'Alone in the Dark', 'Bandslam', 'Birth', 'A Most Violent Year', 'Passchendaele', 'Flash of Genius', \"I'm Not There.\", 'The Cold Light of Day', 'The Brothers Bloom', 'Synecdoche, New York', 'Princess Mononoke', 'Bon voyage', \"Can't Stop the Music\", 'The Proposition', 'My All American', 'Marci X', 'Equilibrium', 'The Children of Huang Shi', 'The Yards', 'The Oogieloves in the Big Balloon Adventure', 'By the Sea', 'Steamboy', 'The Game of Their Lives', 'All Good Things', 'Rapa Nui', 'CJ7', 'The Visitors II: The Corridors of Time', 'Dylan Dog: Dead of Night', 'People I Know', 'The Tempest', 'Regression', 'Three Kingdoms: Resurrection of the Dragon', 'Butterfly on a Wheel', 'Zambezia', 'Ramanujan', 'Dwegons', 'Hands of Stone', 'Survivor', 'The Frozen Ground', 'The Painted Veil', 'The Baader Meinhof Complex', 'Dances with Wolves', 'Bad Teacher', 'Sea of Love', 'A Cinderella Story', 'Scream', 'Thir13en Ghosts', 'The Shining', 'Back to the Future', 'House on Haunted Hill', 'I Can Do Bad All By Myself', 'Fight Valley', 'The Switch', 'Just Married', \"The Devil's Double\", 'Thomas and the Magic Railroad', 'The Crazies', 'Spirited Away', 'Firestorm', 'The Bounty', 'The Book Thief', 'Sex Drive', 'Leap Year', 'The Fall of the Roman Empire', 'Take Me Home Tonight', \"Won't Back Down\", 'The Nutcracker', 'Kansas City', 'Indignation', 'The Amityville Horror', 'Adaptation.', 'Land of the Dead', 'Out of Inferno', 'Fear and Loathing in Las Vegas', 'The Invention of Lying', 'Neighbors', 'The Mask', 'Big', 'Borat: Cultural Learnings of America for Make Benefit Glorious Nation of Kazakhstan', 'Legally Blonde', 'Star Trek III: The Search for Spock', 'The Exorcism of Emily Rose', 'Deuce Bigalow: Male Gigolo', 'Left Behind', 'The Family Stone', 'Barbershop 2:  Back in Business', 'Bad Santa', 'Austin Powers: International Man of Mystery', 'My Big Fat Greek Wedding 2', 'Diary of a Wimpy Kid: Rodrick Rules', 'Predator', 'Amadeus', 'Prom Night', 'Mean Girls', 'Under the Tuscan Sun', 'Gosford Park', 'Peggy Sue Got Married', 'Birdman', 'Blue Jasmine', 'United 93', 'Honey', 'Spy Hard', 'The Fog', 'Soul Surfer', 'Catch-22', 'Observe and Report', 'Conan the Destroyer', 'Raging Bull', 'Love Happens', 'Young Sherlock Holmes', 'Fame', '127 Hours', 'Small Time Crooks', 'Center Stage', 'Love the Coopers', 'Catch That Kid', 'Life as a House', 'Steve Jobs', 'I Love You, Beth Cooper', 'Youth in Revolt', 'The Legend of the Lone Ranger', 'The Tailor of Panama', 'Blow Out', 'Getaway', 'The Ice Storm', 'And So It Goes', 'Troop Beverly Hills', 'Being Julia', 'Nine 1/2 Weeks', 'Dragonslayer', 'The Last Station', 'Ed Wood', 'Labor Day', 'Mongol: The Rise of Genghis Khan', 'RockNRolla', 'Megaforce', 'Hamlet', \"Mao's Last Dancer\", 'Midnight Special', 'Anything Else', 'The Railway Man', 'The White Ribbon', 'Restoration', 'The Wraith', 'Salton Sea', 'Metallica: Through the Never', 'The Informers', 'Carlos', 'I Come with the Rain', \"One Man's Hero\", 'Day of the Dead', 'I Am Wrath', 'Renaissance', 'Red Sonja', 'Red Lights', 'Superbad', 'Madea Goes to Jail', 'Wolves', 'Step Up 2: The Streets', 'Hoodwinked!', 'Hotel Rwanda', 'Hitman', 'Black Nativity', 'The Prince', 'City of Ghosts', 'The Others', 'Aliens', 'My Fair Lady', 'I Know What You Did Last Summer', \"Let's Be Cops\", 'Sideways', 'Beerfest', 'Halloween', 'Good Boy!', 'The Best Man Holiday', \"Smokin' Aces\", 'Saw: The Final Chapter', '40 Days and 40 Nights', 'A Night at the Roxbury', 'Beastly', 'The Hills Have Eyes', 'Dickie Roberts: Former Child Star', 'McFarland, USA', 'Lottery Ticket', 'ATL', 'Pitch Perfect', 'Summer Catch', 'A Simple Plan', 'They', 'Larry the Cable Guy: Health Inspector', 'The Adventures of Elmo in Grouchland', \"Brooklyn's Finest\", '55 Days at Peking', 'Evil Dead', 'My Life in Ruins', 'American Dreamz', 'Superman IV: The Quest for Peace', 'How She Move', 'Running Scared', 'Bobby Jones: Stroke of Genius', 'Shanghai Surprise', 'The Illusionist', 'Roar', 'Veronica Guerin', 'Escobar: Paradise Lost', 'Southland Tales', 'Dragon Hunters', 'Damnation Alley', 'The Apparition', 'My Girl', 'Fur: An Imaginary Portrait of Diane Arbus', 'Wall Street', 'Sense and Sensibility', 'Becoming Jane', 'Sydney White', 'House of Sand and Fog', 'Dead Poets Society', 'Dumb and Dumber', 'When Harry Met Sally...', 'The Verdict', 'Road Trip', 'Varsity Blues', 'The Artist', 'The Unborn', 'Moonrise Kingdom', 'The Texas Chainsaw Massacre: The Beginning', 'The Young Messiah', 'The Master of Disguise', \"Pan's Labyrinth\", 'See Spot Run', 'Baby Boy', 'The Roommate', 'Joe Dirt', 'Double Impact', 'Hot Fuzz', 'The Women', 'Vicky Cristina Barcelona', 'Arn: The Knight Templar', 'Boys and Girls', 'White Oleander', \"Jennifer's Body\", 'Drowning Mona', 'Radio Days', 'Remember Me', 'How to Deal', 'My Stepmother is an Alien', 'Philadelphia', 'The Thirteenth Floor', 'The Cookout', 'Meteor', 'Duets', 'Hollywood Ending', 'Detroit Rock City', 'Highlander', 'Things We Lost in the Fire', 'Steel', 'The Immigrant', 'The White Countess', 'Trance', 'Soul Plane', 'Welcome to the Sticks', 'Good', 'Enter the Void', 'Vamps', \"Hachi: A Dog's Tale\", 'Zulu', 'The Homesman', 'Juwanna Mann', 'Ararat', 'Madison', 'Slow Burn', 'Wasabi', 'Slither', 'Beverly Hills Cop', 'Home Alone', 'Three Men and a Baby', 'Tootsie', 'Top Gun', 'Crouching Tiger, Hidden Dragon', 'American Beauty', \"The King's Speech\", 'Twins', 'The Yellow Handkerchief', 'The Color Purple', 'Tidal Wave', 'The Imitation Game', 'Private Benjamin', \"Coal Miner's Daughter\", 'Diary of a Wimpy Kid', 'Mama', \"National Lampoon's Vacation\", 'Bad Grandpa', 'The Queen', 'Beetlejuice', 'Why Did I Get Married?', 'Little Women', 'The Woman in Black', 'When a Stranger Calls', 'Big Fat Liar', 'The Deer Hunter', 'Wag the Dog', 'The Lizzie McGuire Movie', 'Snitch', 'Krampus', 'The Faculty', \"What's Love Got to Do with It\", 'Cop Land', 'Not Another Teen Movie', 'End of Watch', 'The Skulls', 'The Theory of Everything', \"Malibu's Most Wanted\", 'Where the Heart Is', 'Lawrence of Arabia', 'Halloween II', 'Wild', 'The Last House on the Left', 'The Wedding Date', 'Halloween: Resurrection', 'The Princess Bride', 'The Great Debaters', 'Drive', 'Confessions of a Teenage Drama Queen', 'The Object of My Affection', '28 Weeks Later', 'When the Game Stands Tall', 'Because of Winn-Dixie', 'Love & Basketball', 'Grosse Pointe Blank', 'All About Steve', 'Book of Shadows: Blair Witch 2', 'The Craft', 'Match Point', 'Ramona and Beezus', 'The Remains of the Day', 'Boogie Nights', 'Nowhere to Run', 'Flicka', 'The Hills Have Eyes 2', 'Urban Legends: Final Cut', 'Tuck Everlasting', 'The Marine', 'Keanu', 'Country Strong', 'Disturbing Behavior', 'The Place Beyond the Pines', 'The November Man', 'Eye of the Beholder', 'The Hurt Locker', 'Firestarter', 'Killing Them Softly', 'A Most Wanted Man', 'Freddy Got Fingered', \"VeggieTales: The Pirates Who Don't Do Anything\", 'U2 3D', 'Highlander: Endgame', 'Idlewild', 'One Day', 'Whip It', 'Knockaround Guys', 'Confidence', 'The Muse', 'De-Lovely', 'New York Stories', \"Barney's Great Adventure\", 'The Man with the Iron Fists', 'Home Fries', 'Here On Earth', 'Brazil', 'Raise Your Voice', 'The Big Lebowski', 'Black Snake Moan', 'Dark Blue', 'A Mighty Heart', 'Whatever It Takes', 'Boat Trip', 'The Importance of Being Earnest', 'The Love Letter', 'Hoot', 'In Bruges', 'Peeples', 'The Rocker', 'Post Grad', 'Promised Land', 'Whatever Works', 'The In Crowd', 'The Three Burials of Melquiades Estrada', 'Jakob the Liar', 'Kiss Kiss Bang Bang', 'Idle Hands', 'Mulholland Drive', 'Blood and Chocolate', 'You Will Meet a Tall Dark Stranger', 'Never Let Me Go', 'The Company', 'Transsiberian', 'The Clan of the Cave Bear', 'Crazy in Alabama', 'Funny Games', 'Listening', \"Felicia's Journey\", 'Metropolis', 'District B13', \"Things to Do in Denver When You're Dead\", 'The Assassin', 'Buffalo Soldiers', 'The Return', 'Ong Bak 2', 'Centurion', 'Silent Trigger', 'The Midnight Meat Train', 'Winnie Mandela', 'The Son of No One', \"All The Queen's Men\", 'The Good Night', 'Bathory: Countess of Blood', 'Khumba', 'Automata', 'Dungeons & Dragons: Wrath of the Dragon God', 'Chiamatemi Francesco - Il Papa della gente', 'Shinjuku Incident', 'Pandaemonium', 'Groundhog Day', 'Magic Mike XXL', 'Romeo + Juliet', \"Sarah's Key\", 'Freedom', 'Unforgiven', 'Manderlay', 'Slumdog Millionaire', 'Fatal Attraction', 'Pretty Woman', 'Crocodile Dundee II', 'Broken Horses', 'Born on the Fourth of July', 'Cool Runnings', 'My Bloody Valentine', 'Stomp the Yard', 'The Spy Who Loved Me', 'Urban Legend', 'Good Deeds', 'White Fang', 'Superstar', 'The Iron Lady', 'Jonah: A VeggieTales Movie', 'Poetic Justice', 'All About the Benjamins', 'Vampire in Brooklyn', 'Exorcist II: The Heretic', 'An American Haunting', \"My Boss's Daughter\", 'A Perfect Getaway', 'Our Family Wedding', 'Dead Man on Campus', 'Tea with Mussolini', 'Thinner', 'New York, New York', 'Crooklyn', 'I Think I Love My Wife', 'Jason X', 'Bobby', 'Head Over Heels', 'Fun Size', 'The Diving Bell and the Butterfly', 'Little Children', 'Gossip', 'A Walk on the Moon', 'Catch a Fire', 'Soul Survivors', 'Jefferson in Paris', 'Easy Virtue', 'Caravans', 'Mr. Turner', 'Wild Grass', 'Amen.', 'Reign of Assassins', 'The Lucky Ones', 'Margaret', 'Stan Helsing', 'Flipped', 'Brokeback Mountain', 'Clueless', 'Far from Heaven', 'Hot Tub Time Machine 2', 'Quills', 'Seven Psychopaths', \"The Caveman's Valentine\", 'Downfall', 'The Sea Inside', 'Under the Skin', 'Good Morning, Vietnam', 'The Last Godfather', 'Justin Bieber: Never Say Never', 'Black Swan', 'The Godfather: Part II', 'Save the Last Dance', 'A Nightmare on Elm Street 4: The Dream Master', 'Miracles from Heaven', 'Dude, Where’s My Car?', 'Young Guns', 'St. Vincent', 'About Last Night', '10 Things I Hate About You', 'The New Guy', \"National Lampoon's Loaded Weapon 1\", 'The Shallows', 'The Butterfly Effect', 'Snow Day', 'This Christmas', 'Baby Geniuses', 'The Big Hit', 'Harriet the Spy', \"Child's Play 2\", 'No Good Deed', 'The Mist', 'Ex Machina', 'Being John Malkovich', 'Two Can Play That Game', 'Earth to Echo', 'Crazy/Beautiful', 'Letters from Iwo Jima', 'The Astronaut Farmer', 'Woo', 'Room', 'Dirty Work', 'Serial Mom', 'Dick', 'Light It Up', '54', 'Bubble Boy', 'Birthday Girl', '21 & Over', \"Paris, je t'aime\", 'Resurrecting the Champ', 'Admission', 'The Widow of Saint-Pierre', 'Chloe', 'Faithful', 'Find Me Guilty', 'The Perks of Being a Wallflower', 'Excessive Force', 'Infamous', 'The Claim', 'The Vatican Tapes', 'Attack the Block', 'In the Land of Blood and Honey', 'The Call', 'Operation Chromite', 'The Crocodile Hunter: Collision Course', 'I Love You Phillip Morris', 'Quest for Fire', 'Antwone Fisher', \"The Emperor's Club\", 'True Romance', 'Womb', 'Glengarry Glen Ross', 'The Killer Inside Me', 'Cat People', 'Sorority Row', 'The Prisoner of Zenda', 'Lars and the Real Girl', 'The Boy in the Striped Pyjamas', 'Dancer in the Dark', 'Oscar and Lucinda', 'The Funeral', 'Solitary Man', 'Machete', 'Casino Jack', 'The Land Before Time', 'Tae Guk Gi: The Brotherhood of War', 'The Perfect Game', 'The Exorcist', 'Jaws', 'American Pie', 'Ernest & Celestine', 'The Golden Child', 'Think Like a Man', 'Barbershop', 'Star Trek II: The Wrath of Khan', 'Ace Ventura: Pet Detective', 'WarGames', 'Witness', 'Act of Valor', 'Step Up', 'Beavis and Butt-Head Do America', 'Jackie Brown', 'Harold & Kumar Escape from Guantanamo Bay', 'Chronicle', 'Yentl', 'Time Bandits', 'Crossroads', 'Project X', 'Patton', 'One Hour Photo', 'Quarantine', 'The Eye', 'Johnson Family Vacation', 'How High', 'The Muppet Christmas Carol', 'Frida', 'Katy Perry: Part of Me', 'The Fault in Our Stars', 'Rounders', 'Top Five', 'Prophecy', 'Stir of Echoes', 'Philomena', 'The Upside of Anger', 'The Boys from Brazil', 'Aquamarine', 'Paper Towns', \"My Baby's Daddy\", 'Nebraska', 'Tales from the Crypt: Demon Knight', \"Max Keeble's Big Move\", 'Young Adult', 'Crank', \"Def Jam's How to Be a Player\", 'Living Out Loud', 'Just Wright', 'Rachel Getting Married', 'The Postman Always Rings Twice', 'Girl with a Pearl Earring', 'Das Boot', 'Sorority Boys', 'About Time', 'House of Flying Daggers', 'Arbitrage', 'Project Almanac', 'Cadillac Records', 'Screwed', 'Fortress', 'For Your Consideration', 'Celebrity', 'Running with Scissors', 'From Justin to Kelly', 'Girl 6', 'In the Cut', 'Two Lovers', 'Last Orders', 'The Host', 'The Pursuit of D.B. Cooper', 'Ravenous', 'Charlie Bartlett', 'The Great Beauty', 'The Dangerous Lives of Altar Boys', 'Stoker', '2046', 'Married Life', 'Duma', 'Ondine', 'Brother', 'Welcome to Collinwood', 'Critical Care', 'The Life Before Her Eyes', 'Darling Companion', 'Trade', 'Fateless', 'Breakfast of Champions', 'A Woman, a Gun and a Noodle Shop', 'Cypher', 'City of Life and Death', 'Legend of a Rabbit', 'Space Battleship Yamato', '5 Days of War', 'Triangle', '10 Days in a Madhouse', 'Heaven is for Real', 'Snatch', \"Dancin' It's On\", 'Pet Sematary', 'Madadayo', 'The Cry of the Owl', 'A Tale of Three Cities', 'Gremlins', 'Star Wars', 'Dirty Grandpa', 'Doctor Zhivago', 'Trash', 'High School Musical 3: Senior Year', 'The Fighter', 'Jackass Number Two', 'My Cousin Vinny', 'If I Stay', 'Drive Hard', 'Major League', \"St. Trinian's\", 'Phone Booth', 'A Walk to Remember', 'Dead Man Walking', 'Cruel Intentions', 'Saw VI', 'History of the World: Part I', 'The Secret Life of Bees', 'Corky Romano', 'Raising Cain', 'F.I.S.T.', 'Invaders from Mars', 'Brooklyn', 'Barry Lyndon', 'Out Cold', 'The Ladies Man', 'Quartet', 'Tomcats', 'Frailty', 'Woman in Gold', 'Kinsey', 'Army of Darkness', 'Slackers', \"What's Eating Gilbert Grape\", 'The Visual Bible: The Gospel of John', 'Vera Drake', 'The Guru', 'The Perez Family', 'Inside Llewyn Davis', 'O', 'Return to the Blue Lagoon', 'The Molly Maguires', 'Romance & Cigarettes', 'Copying Beethoven', 'Brighton Rock', 'Saw V', 'Machine Gun McCain', 'LOL', 'Jindabyne', 'Kabhi Alvida Naa Kehna', 'An Ideal Husband', 'The Last Days on Mars', 'Darkness', '2001: A Space Odyssey', 'E.T. the Extra-Terrestrial', 'In the Land of Women', 'The Blue Butterfly', 'There Goes My Baby', 'Housefull', 'September Dawn', 'For Greater Glory - The True Story of Cristiada', 'The Bélier Family', 'Good Will Hunting', 'Misconduct', 'Saw III', 'Stripes', 'Bring It On', 'The Purge: Election Year', \"She's All That\", 'Saw IV', 'White Noise', \"Madea's Family Reunion\", 'The Color of Money', 'The Longest Day', 'The Mighty Ducks', 'The Grudge', 'Happy Gilmore', 'Jeepers Creepers', \"Bill & Ted's Excellent Adventure\", 'Oliver!', 'The Best Exotic Marigold Hotel', \"Recess: School's Out\", 'Mad Max Beyond Thunderdome', 'Commando', 'The Boy', 'Devil', 'Friday After Next', 'Insidious: Chapter 3', 'The Last Dragon', 'The Lawnmower Man', \"Nick and Norah's Infinite Playlist\", 'Dogma', 'The Banger Sisters', 'Twilight Zone: The Movie', 'Road House', 'A Low Down Dirty Shame', 'Swimfan', 'Employee of the Month', \"Can't Hardly Wait\", 'The Outsiders', \"Pete's Dragon\", 'The Dead Zone', 'Sinister 2', 'Sparkle', 'Valentine', 'The Fourth Kind', 'A Prairie Home Companion', 'Sugar Hill', 'Invasion U.S.A.', 'Roll Bounce', 'Rushmore', 'Skyline', 'The Second Best Exotic Marigold Hotel', 'Kit Kittredge: An American Girl', 'The Perfect Man', \"Mo' Better Blues\", 'Kung Pow: Enter the Fist', 'Tremors', 'Wrong Turn', 'The Long Riders', 'The Corruptor', 'Mud', 'Reno 911!: Miami', 'One Direction: This Is Us', 'The Goods: Live Hard, Sell Hard', 'Hey Arnold! The Movie', 'My Week with Marilyn', 'The Matador', 'Love Jones', 'The Gift', 'End of the Spear', 'Get Over It', 'Office Space', 'Drop Dead Gorgeous', 'Big Eyes', 'Very Bad Things', 'Sleepover', 'Body Double', 'MacGruber', 'Dirty Pretty Things', 'Movie 43', 'Over Her Dead Body', 'Seeking a Friend for the End of the World', 'Cedar Rapids', 'American History X', 'The Collection', \"Teacher's Pet\", 'The Red Violin', 'The Straight Story', 'Deuces Wild', 'Bad Words', 'Run, Fatboy, Run', 'Heartbeeps', 'Black or White', 'On the Line', 'Rescue Dawn', 'Danny Collins', 'Jeff, Who Lives at Home', 'I Am Love', 'Atlas Shrugged Part II', 'Romeo Is Bleeding', 'The Limey', 'Crash', 'The House of Mirth', 'Malone', 'Peaceful Warrior', 'Bucky Larson: Born to Be a Star', 'Bamboozled', 'The Forest', 'Sphinx', \"While We're Young\", 'A Better Life', 'Spider', 'Gun Shy', 'Nicholas Nickleby', 'The Iceman', 'Krrish', 'Cecil B. Demented', 'Killer Joe', 'The Joneses', 'Owning Mahowny', 'The Brothers Solomon', 'My Blueberry Nights', 'Illuminata', 'Swept Away', 'War, Inc.', 'Shaolin Soccer', 'The Brown Bunny', 'The Swindle', 'Rosewater', 'The Chambermaid on the Titanic', 'Coriolanus', 'Imaginary Heroes', 'High Heels and Low Lifes', \"World's Greatest Dad\", 'Severance', 'Edmond', 'Welcome to the Rileys', 'Police Academy: Mission to Moscow', 'Blood Done Sign My Name', 'Cinco de Mayo: La Batalla', 'Elsa & Fred', 'An Alan Smithee Film: Burn, Hollywood, Burn', 'The Open Road', 'The Good Guy', 'Motherhood', 'Free Style', 'Strangerland', 'Janky Promoters', 'Blonde Ambition', 'The Oxford Murders', 'The Reef', 'Eulogy', 'White Noise 2: The Light', 'Beat the World', 'Fifty Dead Men Walking', 'Jungle Shuffle', 'Adam Resurrected', 'Of Horses and Men', \"It's a Wonderful Afterlife\", \"The Devil's Tomb\", 'Partition', 'Good Intentions', 'The Good, The Bad, The Weird', 'Nurse 3-D', 'Gunless', 'Adventureland', 'The Lost City', 'Next Friday', 'American Heist', 'You Only Live Twice', 'Plastic', 'Amour', 'Poltergeist III', 'Re-Kill', \"It's a Mad, Mad, Mad, Mad World\", 'Volver', 'Heavy Metal', 'Gentlemen Broncos', 'Richard III', 'Into the Grizzly Maze', 'Kites', 'Melancholia', 'Red Dog', 'Jab Tak Hai Jaan', 'Alien', 'The Texas Chain Saw Massacre', 'The Runaways', 'Fiddler on the Roof', 'Thunderball', 'Detention', 'Loose Cannons', 'Set It Off', 'The Best Man', \"Child's Play\", 'Sicko', 'The Purge: Anarchy', 'Down to You', 'Harold & Kumar Go to White Castle', 'The Contender', 'Boiler Room', 'Trading Places', 'Black Christmas', \"Breakin' All the Rules\", 'Henry V', 'The Savages', 'Chasing Papi', 'The Way of the Gun', 'Igby Goes Down', 'PCU', 'The Ultimate Gift', 'The Ice Pirates', 'Gracie', 'Trust the Man', 'Hamlet 2', 'Velvet Goldmine', 'The Wailing', 'Glee: The Concert Movie', 'The Legend of Suriyothai', 'Two Evil Eyes', 'Barbecue', 'All or Nothing', 'Princess Kaiulani', 'Opal Dream', 'Flame & Citron', 'Undiscovered', 'Red Riding: In the Year of Our Lord 1974', 'The Girl on the Train', 'Veronika Decides to Die', 'Crocodile Dundee', 'Ultramarines: A Warhammer 40,000 Movie', 'The I Inside', 'Beneath Hill 60', 'Polisse', 'Awake', 'Star Wars: Clone Wars: Volume 1', 'Skin Trade', 'The Lost Boys', 'Crazy Heart', 'The Rose', 'Baggage Claim', 'Barbarella', 'Shipwrecked', 'Election', 'The Namesake', 'The DUFF', 'Glitter', 'The Haunting in Connecticut 2: Ghosts of Georgia', 'Silmido', 'Bright Star', 'My Name Is Khan', 'All Is Lost', 'Limbo', 'Namastey London', 'The Wind That Shakes the Barley', 'Yeh Jawaani Hai Deewani', 'Quo Vadis', 'Repo! The Genetic Opera', 'Valley of the Wolves: Iraq', 'Pulp Fiction', 'The Muppet Movie', 'Nightcrawler', 'Club Dread', 'The Sound of Music', 'Splash', 'Little Miss Sunshine', 'Stand by Me', '28 Days Later', 'You Got Served', 'Escape from Alcatraz', 'Brown Sugar', 'A Thin Line Between Love and Hate', '50/50', 'Shutter', 'That Awkward Moment', 'Modern Problems', 'Kicks', 'Much Ado About Nothing', \"On Her Majesty's Secret Service\", 'New Nightmare', 'Drive Me Crazy', 'Akeelah and the Bee', 'Half Baked', 'New in Town', 'American Psycho', 'The Good Girl', 'Bon Cop Bad Cop', 'The Boondock Saints II: All Saints Day', 'The City of Your Final Destination', 'Enough Said', 'Easy A', 'The Inkwell', 'Shadow of the Vampire', 'Prom', 'The Pallbearer', 'Held Up', 'Woman on Top', 'Howards End', 'Anomalisa', 'Another Year', '8 Women', 'Showdown in Little Tokyo', 'Clay Pigeons', \"It's Kind of a Funny Story\", 'Made in Dagenham', 'When Did You Last See Your Father?', 'Prefontaine', 'The Wicked Lady', 'The Secret of Kells', 'Begin Again', 'Down in the Valley', 'Brooklyn Rules', 'Restless', 'The Singing Detective', 'The Land Girls', 'Fido', 'The Wendell Baker Story', 'Wild Target', 'Pathology', 'Wuthering Heights', '10th & Wolf', 'Dear Wendy', 'Aloft', 'Akira', 'The Death and Life of Bobby Z', 'The Rocket: The Legend of Rocket Richard', 'Swelter', 'My Lucky Star', 'Imagine Me & You', 'Mr. Church', 'Swimming Pool', 'Green Street Hooligans: Underground', 'The Blood of Heroes', 'Code of Honor', 'Driving Miss Daisy', 'Soul Food', 'Rumble in the Bronx', 'Far from Men', 'Thank You for Smoking', 'Hostel: Part II', 'An Education', 'Shopgirl', 'The Hotel New Hampshire', 'Narc', 'Men with Brooms', 'Witless Protection', 'The Work and the Glory', 'Extract', 'Masked and Anonymous', 'Betty Fisher and Other Stories', 'Code 46', 'Outside Bet', 'Albert Nobbs', 'Black November', 'Ta Ra Rum Pum', 'Persepolis', 'The Hole', 'The Wave', 'The Neon Demon', 'Harry Brown', 'The Omega Code', 'Juno', 'Pound of Flesh', 'Diamonds Are Forever', 'The Godfather', 'Flashdance', '(500) Days of Summer', 'The Piano', 'Magic Mike', 'Darkness Falls', 'Live and Let Die', 'My Dog Skip', 'Definitely, Maybe', 'Jumping the Broom', 'Good Night, and Good Luck.', 'Capote', 'Desperado', \"Logan's Run\", 'The Man with the Golden Gun', 'Action Jackson', 'The Descent', 'Michael Jordan to the Max', \"Devil's Due\", 'Flirting with Disaster', \"The Devil's Rejects\", 'Dope', 'In Too Deep', 'House of 1000 Corpses', 'Alien Zone', 'A Serious Man', 'Get Low', 'Warlock', 'Beyond the Lights', 'A Single Man', 'The Last Temptation of Christ', 'Outside Providence', 'Bride & Prejudice', 'Rabbit-Proof Fence', \"Who's Your Caddy?\", 'Split Second', 'The Other Side of Heaven', 'Veer-Zaara', 'Redbelt', 'Cyrus', 'A Dog Of Flanders', 'Auto Focus', 'Factory Girl', 'We Need to Talk About Kevin', 'The Christmas Candle', 'The Mighty Macs', \"Losin' It\", 'Mother and Child', 'March or Die', 'The Visitors', 'Somewhere', 'I Hope They Serve Beer in Hell', 'Chairman of the Board', 'Hesher', 'Dom Hemingway', 'Gerry', 'The Heart of Me', 'Freeheld', 'The Extra Man', 'Hard to Be a God', 'Ca$h', 'Wah-Wah', 'The Boondock Saints', 'Z Storm', 'Twixt', 'The Snow Queen', 'Alpha and Omega: The Legend of the Saw Tooth Cave', 'Pale Rider', 'Stargate: The Ark of Truth', 'Dazed and Confused', 'High School Musical 2', 'Two Lovers and a Bear', 'Criminal Activities', 'Aimee & Jaguar', 'The Chumscrubber', 'Shade', 'House at the End of the Street', 'Incendies', 'Remember Me, My Love', 'Perrier’s Bounty', 'Elite Squad', 'Annabelle', 'Bran Nue Dae', 'Boyz n the Hood', 'La Bamba', 'The Four Seasons', 'Dressed to Kill', 'The Adventures of Huck Finn', 'Go', 'Friends with Money', 'The Andromeda Strain', 'Bats', 'Nowhere in Africa', 'Shame', 'Layer Cake', 'The Work and the Glory II: American Zion', 'The East', 'A Home at the End of the World', 'Aberdeen', 'The Messenger', 'Tracker', 'Control', 'The Terminator', 'Good bye, Lenin!', 'The Damned United', 'The Return of the Living Dead', 'Mallrats', 'Grease', 'Platoon', 'Fahrenheit 9/11', 'Butch Cassidy and the Sundance Kid', 'Mary Poppins', 'Ordinary People', 'West Side Story', 'Caddyshack', 'The Brothers', 'The Wood', 'The Usual Suspects', 'A Nightmare on Elm Street 5: The Dream Child', 'National Lampoon’s Van Wilder', 'The Wrestler', 'Duel in the Sun', 'Best in Show', 'Escape from New York', 'School Daze', 'Daddy Day Camp', 'Mr. Nice Guy', 'A Mighty Wind', 'Mystic Pizza', 'Sliding Doors', 'Tales from the Hood', 'The Last King of Scotland', 'Halloween 5: The Revenge of Michael Myers', 'Bernie', 'Dolphins and Whales: Tribes of the Ocean', 'Pollock', '200 Cigarettes', 'The Words', 'Casa De Mi Padre', 'City Island', 'The Guard', 'College', 'The Virgin Suicides', 'Little Voice', 'Miss March', 'Wish I Was Here', 'Simply Irresistible', 'Hedwig and the Angry Inch', 'Only the Strong', 'Goddess of Love', 'Shattered Glass', 'Novocaine', 'The Business of Strangers', 'The Wild Bunch', 'The Wackness', 'The First Great Train Robbery', 'Morvern Callar', 'Beastmaster 2: Through the Portal of Time', 'The 5th Quarter', 'The Flower of Evil', 'The Greatest', 'Snow Flower and the Secret Fan', 'Come Early Morning', 'Lucky Break', 'Julia', 'Surfer, Dude', 'Lake of Fire', '11:14', 'Men of War', 'Don McKay', 'Deadfall', 'A Shine of Rainbows', 'The Hit List', 'Emma', 'Videodrome', 'The Spanish Apartment', 'Song One', 'Winter in Wartime', 'Freaky Deaky', 'The Train', 'Trade Of Innocents', 'The Protector', 'Stiff Upper Lips', 'Bend It Like Beckham', 'Sunshine State', 'Crossover', 'Khiladi 786', '[REC]²', 'Standing Ovation', 'The Sting', 'Chariots of Fire', 'Diary of a Mad Black Woman', 'Shine', 'Don Jon', 'High Plains Drifter', 'Ghost World', 'Iris', 'Galaxina', 'The Chorus', 'Mambo Italiano', 'Wonderland', 'Do the Right Thing', 'Harvard Man', 'Le Havre', 'Irreversible', 'R100', 'Rang De Basanti', 'Animals', 'Salvation Boulevard', 'The Ten', 'A Room for Romeo Brass', 'Headhunters', 'Grabbers', 'Saint Ralph', 'Miss Julie', 'Somewhere in Time', 'Dum Maaro Dum', 'Insidious: Chapter 2', 'Saw II', '10 Cloverfield Lane', 'Jackass: The Movie', 'Lights Out', 'Paranormal Activity 3', 'Ouija', 'A Nightmare on Elm Street 3: Dream Warriors', 'Instructions Not Included', 'Paranormal Activity 4', 'The Robe', 'The Return of the Pink Panther', \"Freddy's Dead: The Final Nightmare\", 'Monster', '20,000 Leagues Under the Sea', 'Paranormal Activity: The Marked Ones', 'The Elephant Man', 'Dallas Buyers Club', 'The Lazarus Effect', 'Memento', 'Oculus', 'Clerks II', 'Billy Elliot', 'The Way Way Back', 'House Party 2', 'The Man from Snowy River', \"Doug's 1st Movie\", 'The Apostle', 'Mommie Dearest', 'Our Idiot Brother', 'Race', 'The Players Club', 'As Above, So Below', 'Addicted', \"Eve's Bayou\", 'Still Alice', 'The Egyptian', 'Nighthawks', 'Friday the 13th Part VIII: Jason Takes Manhattan', 'My Big Fat Greek Wedding', 'Spring Breakers', 'Halloween: The Curse of Michael Myers', 'Y Tu Mamá También', 'Shaun of the Dead', 'The Haunting of Molly Hartley', 'Lone Star', 'Halloween 4: The Return of Michael Myers', \"April Fool's Day\", 'Diner', 'Lone Wolf McQuade', 'Apollo 18', 'Sunshine Cleaning', 'No Escape', 'The Beastmaster', 'Solomon and Sheba', 'Fifty Shades of Black', 'Not Easily Broken', 'A Farewell to Arms', 'The Perfect Match', 'Digimon: The Movie', 'Saved!', 'The Barbarian Invasions', 'Robin and Marian', 'The Forsaken', 'Force 10 from Navarone', 'UHF', \"Grandma's Boy\", 'Slums of Beverly Hills', 'Once Upon a Time in the West', 'Made', 'Moon', 'Keeping Up with the Steins', 'Sea Rex 3D: Journey to a Prehistoric World', 'The Sweet Hereafter', 'Of Gods and Men', 'Bottle Shock', 'Jekyll and Hyde ... Together Again', 'Heavenly Creatures', '90 Minutes in Heaven', 'Everything Must Go', 'Zero Effect', 'The Machinist', 'Light Sleeper', 'Kill the Messenger', 'Rabbit Hole', 'Party Monster', 'Green Room', 'The Oh in Ohio', 'Atlas Shrugged Part III: Who is John Galt?', 'Bottle Rocket', 'Albino Alligator', 'Gandhi, My Father', 'Standard Operating Procedure', 'Out of the Blue', 'Tucker and Dale vs Evil', 'Lovely, Still', 'Tycoon', 'Desert Blue', 'Decoys', 'The Visit', 'Redacted', 'Fascination', 'Area 51', 'Sleep Tight', 'The Cottage', 'Dead Like Me: Life After Death', 'Farce of the Penguins', 'Flying By', 'Rudderless', 'Henry & Me', 'Christmas Eve', 'We Have Your Husband', 'Dying of the Light', 'Born Of War', 'Capricorn One', \"Should've Been Romeo\", 'Running Forever', 'Yoga Hosers', 'Navy Seals vs. Zombies', 'I Served the King of England', 'Soul Kitchen', 'Sling Blade', 'The Awakening', 'Hostel', 'A Cock and Bull Story', 'Take Shelter', 'Lady in White', 'Driving Lessons', \"Let's Kill Ward's Wife\", 'The Texas Chainsaw Massacre 2', 'Pat Garrett & Billy the Kid', 'Only God Forgives', 'Camping Sauvage', 'Without Men', 'Dear Frankie', 'All Hat', 'The Names of Love', 'Treading Water', 'Savage Grace', 'Out of the Blue', 'Police Academy', 'The Blue Lagoon', 'Four Weddings and a Funeral', 'Fast Times at Ridgemont High', 'Moby Dick', '25th Hour', 'Bound', 'Requiem for a Dream', 'State Fair', 'Tango', 'Salvador', \"Moms' Night Out\", 'Donnie Darko', 'Saving Private Perez', 'Character', 'Spun', 'Life During Wartime', 'Sympathy for Lady Vengeance', \"Mozart's Sister\", 'Mean Machine', 'Exiled', 'Blackthorn', 'Lilya 4-ever', 'After.Life', 'Fugly', \"One Flew Over the Cuckoo's Nest\", \"R.L. Stine's Monsterville: The Cabinet of Souls\", 'Silent Movie', 'Airlift', 'Anne of Green Gables', 'Falcon Rising', 'The Sweeney', 'Sexy Beast', 'Easy Money', 'Whale Rider', 'Paa', 'Cargo', 'High School Musical', 'Love and Death on Long Island', 'Night Watch', 'The Crying Game', \"Porky's\", 'Survival of the Dead', 'Night of the Living Dead', 'Lost in Translation', 'Annie Hall', 'The Greatest Show on Earth', \"Monster's Ball\", 'Maggie', 'Leaving Las Vegas', 'Hansel and Gretel Get Baked', 'The Front Page', 'The Boy Next Door', 'Trapeze', 'The Kids Are All Right', 'They Live', 'The Great Escape', 'What the #$*! Do We (K)now!?', 'The Last Exorcism Part II', 'Boyhood', 'Scoop', 'The Wash', '3 Strikes', 'The Cooler', 'The Misfits', 'The Night Listener', 'The Jerky Boys', 'The Orphanage', 'A Haunted House 2', 'The Rules of Attraction', 'Topaz', \"Let's Go to Prison\", 'Four Rooms', 'Secretary', 'The Real Cancun', 'Talk Radio', 'Waiting for Guffman', 'Love Stinks', 'You Kill Me', 'Thumbsucker', 'Red State', 'Mirrormask', 'Samsara', 'The Barbarians', 'The Art of Getting By', 'Zipper', 'Poolhall Junkies', 'The Loss of Sexual Innocence', 'Holy Motors', 'Joe', 'Shooting Fish', 'Prison', 'Psycho Beach Party', 'The Big Tease', 'Guten Tag, Ramón', 'Trust', 'An Everlasting Piece', 'Among Giants', 'Adore', 'The Velocity of Gary', 'Mondays in the Sun', 'Stake Land', 'The Last Time I Committed Suicide', 'Futuro Beach', 'Another Happy Day', 'A Lonely Place to Die', 'Nothing', 'The Geographer Drank His Globe Away', 'nan']\n"
          ]
        }
      ]
    },
    {
      "cell_type": "markdown",
      "source": [
        "**Find close match for movie name given by user**"
      ],
      "metadata": {
        "id": "0__3SrGBn7PO"
      }
    },
    {
      "cell_type": "code",
      "source": [
        "find_close_match= difflib.get_close_matches(movie_name,list_of_all_titles)\n",
        "print(find_close_match)"
      ],
      "metadata": {
        "colab": {
          "base_uri": "https://localhost:8080/"
        },
        "id": "85sNuxUwnsb7",
        "outputId": "a444b4a8-527e-4eaf-fa73-8fb8599be694"
      },
      "execution_count": 37,
      "outputs": [
        {
          "output_type": "stream",
          "name": "stdout",
          "text": [
            "['Avatar']\n"
          ]
        }
      ]
    },
    {
      "cell_type": "markdown",
      "source": [
        "**The closest movie according to search**"
      ],
      "metadata": {
        "id": "x8QFZo6q2Jxj"
      }
    },
    {
      "cell_type": "code",
      "source": [
        "close_match=find_close_match[0]\n",
        "print(close_match)"
      ],
      "metadata": {
        "id": "A41Da5Y2rCCY",
        "colab": {
          "base_uri": "https://localhost:8080/"
        },
        "outputId": "9c572500-add9-4733-ef8b-4ab12a15a437"
      },
      "execution_count": 38,
      "outputs": [
        {
          "output_type": "stream",
          "name": "stdout",
          "text": [
            "Avatar\n"
          ]
        }
      ]
    },
    {
      "cell_type": "markdown",
      "source": [
        "**Find index of movie with title**"
      ],
      "metadata": {
        "id": "TR2R8G2O264Q"
      }
    },
    {
      "cell_type": "code",
      "source": [
        "index_mov=df[df.title==close_match][\"index\"].values[0]\n"
      ],
      "metadata": {
        "id": "2lr-anNg2z0p"
      },
      "execution_count": 50,
      "outputs": []
    },
    {
      "cell_type": "markdown",
      "source": [
        "**Finding similarity score**"
      ],
      "metadata": {
        "id": "z-0YaiQl6KMF"
      }
    },
    {
      "cell_type": "code",
      "source": [
        "similarity_score=list(enumerate(similarity[index_mov]))"
      ],
      "metadata": {
        "id": "AL6lU0nF3y5V"
      },
      "execution_count": 52,
      "outputs": []
    },
    {
      "cell_type": "code",
      "source": [
        "print(similarity_score)"
      ],
      "metadata": {
        "colab": {
          "base_uri": "https://localhost:8080/"
        },
        "id": "dW5qdP5H3z81",
        "outputId": "c1811541-4140-4a0a-bc5c-29dd12bb3400"
      },
      "execution_count": 53,
      "outputs": [
        {
          "output_type": "stream",
          "name": "stdout",
          "text": [
            "[(0, 1.0), (1, 0.40824829046386296), (2, 0.10555008273018725), (3, 0.13121220505220862), (4, 0.18543130372219696), (5, 0.18190171877724973), (6, 0.07693730481128203), (7, 0.1234930956058247), (8, 0.1688801323682996), (9, 0.15498260496951666), (10, 0.25149772741392845), (11, 0.12071025640383393), (12, 0.1600320096032011), (13, 0.18712029714127992), (14, 0.22407133233117493), (15, 0.10212592127570835), (16, 0.11881770515720091), (17, 0.13894669485837496), (18, 0.1215783580010781), (19, 0.3264173397496434), (20, 0.16516802780306675), (21, 0.0674295649898898), (22, 0.2773796521750473), (23, 0.229865128490995), (24, 0.2692805668394871), (25, 0.039215686274509796), (26, 0.15124753549550501), (27, 0.06063390625908324), (28, 0.1669931442893732), (29, 0.08642716314028857), (30, 0.19105170543026556), (31, 0.24504901470490167), (32, 0.06842857592356093), (33, 0.11669000700233415), (34, 0.0), (35, 0.1921866397915419), (36, 0.15244318679334118), (37, 0.13725490196078427), (38, 0.1252448582170299), (39, 0.16169041669088866), (40, 0.12964074471043285), (41, 0.0882093540041605), (42, 0.03709432560497715), (43, 0.20874143036171652), (44, 0.09901475429766741), (45, 0.15695698526580623), (46, 0.3092701332228549), (47, 0.12376844287208427), (48, 0.08642716314028857), (49, 0.14678923792502563), (50, 0.2970442628930023), (51, 0.09617163101410253), (52, 0.17221168004841608), (53, 0.2941852525411688), (54, 0.1000200060020007), (55, 0.06726727939963124), (56, 0.23402293537155466), (57, 0.1669931442893732), (58, 0.02214037213850238), (59, 0.2533201985524494), (60, 0.04543108504242546), (61, 0.15498260496951666), (62, 0.14201432049934526), (63, 0.24592113152261744), (64, 0.15534712747612348), (65, 0.10437071518085825), (66, 0.09086217008485092), (67, 0.09440686400617013), (68, 0.09527699174583823), (69, 0.2520504151250417), (70, 0.06193801042615004), (71, 0.23489478196744012), (72, 0.15498260496951666), (73, 0.15686274509803916), (74, 0.1633660098032678), (75, 0.1600521736566552), (76, 0.18881372801234025), (77, 0.10188534162169866), (78, 0.11669000700233415), (79, 0.2403206414255487), (80, 0.213540710879491), (81, 0.19561932335813412), (82, 0.25966027923484003), (83, 0.11070186069251191), (84, 0.05423261445466404), (85, 0.1669931442893732), (86, 0.10002000600200069), (87, 0.1584236068762679), (88, 0.2008385781013735), (89, 0.09007546982220899), (90, 0.06642111641550714), (91, 0.08964374649555988), (92, 0.13464028341974354), (93, 0.19234326202820506), (94, 0.2859525795719834), (95, 0.12010062642961199), (96, 0.2930026560268554), (97, 0.06262242910851495), (98, 0.23338001400466826), (99, 0.11881770515720091), (100, 0.13294613760468715), (101, 0.23500799597021085), (102, 0.20769510081357428), (103, 0.2096093818408441), (104, 0.14852213144650112), (105, 0.10264286388534138), (106, 0.18190171877724973), (107, 0.10803395392536072), (108, 0.27443021509848686), (109, 0.14240153351977983), (110, 0.042008402520840295), (111, 0.23489478196744012), (112, 0.13725490196078427), (113, 0.27116307227332015), (114, 0.16618267200585896), (115, 0.1093805635246459), (116, 0.22075157351368044), (117, 0.0763915414190176), (118, 0.03883678186903087), (119, 0.14002800840280097), (120, 0.0834965721446866), (121, 0.26605321596532183), (122, 0.2186870084203477), (123, 0.15282801243254798), (124, 0.19253851155385132), (125, 0.18581403127845014), (126, 0.19802950859533486), (127, 0.1281244265276946), (128, 0.07800764512385155), (129, 0.0834965721446866), (130, 0.05664411840370207), (131, 0.2348947819674401), (132, 0.24354409352352624), (133, 0.0834965721446866), (134, 0.0854162843517964), (135, 0.1790571786830783), (136, 0.07843137254901959), (137, 0.2096093818408441), (138, 0.13121220505220862), (139, 0.11394547734377708), (140, 0.05664411840370207), (141, 0.13725490196078427), (142, 0.09335200560186731), (143, 0.02271554252121273), (144, 0.02087414303617165), (145, 0.013290870380481665), (146, 0.0), (147, 0.12550124509378383), (148, 0.10934350421017384), (149, 0.10757249579467185), (150, 0.22866478019001174), (151, 0.11070186069251191), (152, 0.16407084528696883), (153, 0.08368274087557229), (154, 0.17285432628057715), (155, 0.07231015260621872), (156, 0.3457086525611543), (157, 0.10555008273018725), (158, 0.14002800840280097), (159, 0.10188534162169867), (160, 0.15387460962256405), (161, 0.04604092555161308), (162, 0.140028008402801), (163, 0.12524485821702988), (164, 0.13584712216226488), (165, 0.16810223724982593), (166, 0.13231403100624076), (167, 0.08001600480160055), (168, 0.15695698526580623), (169, 0.20211302086361083), (170, 0.24090236992559427), (171, 0.29158342477469973), (172, 0.03883678186903087), (173, 0.046676002800933654), (174, 0.0705674832033284), (175, 0.18410202992625904), (176, 0.19744620980665262), (177, 0.07204381596421111), (178, 0.05940885257860046), (179, 0.06001200360120042), (180, 0.15534712747612348), (181, 0.0834965721446866), (182, 0.0741886512099543), (183, 0.13725490196078427), (184, 0.17063023229633048), (185, 0.14777011582226215), (186, 0.1698089027028311), (187, 0.030556616567607043), (188, 0.0854162843517964), (189, 0.3126300634313437), (190, 0.1650245904961124), (191, 0.15534712747612348), (192, 0.07001400420140048), (193, 0.03960590171906697), (194, 0.0), (195, 0.20881008401605153), (196, 0.22256595362986287), (197, 0.20842004228756245), (198, 0.18382665829627504), (199, 0.3006373559532889), (200, 0.17647058823529405), (201, 0.18190171877724973), (202, 0.0844400661841498), (203, 0.04818694246524266), (204, 0.1600320096032011), (205, 0.11764705882352938), (206, 0.34064623668312755), (207, 0.05423261445466404), (208, 0.1708325687035928), (209, 0.0854162843517964), (210, 0.020211302086361082), (211, 0.16407084528696883), (212, 0.2352941176470588), (213, 0.18382665829627504), (214, 0.044844852933087494), (215, 0.3179944153271747), (216, 0.24014605321403704), (217, 0.11128297681493146), (218, 0.07204381596421111), (219, 0.11651034560709261), (220, 0.11318329168362204), (221, 0.0213540710879491), (222, 0.08642716314028857), (223, 0.2658922752093743), (224, 0.2040187908273743), (225, 0.1633660098032678), (226, 0.07113429940295786), (227, 0.05940885257860046), (228, 0.14147911460452756), (229, 0.20881008401605153), (230, 0.18951825929593263), (231, 0.040008002400800276), (232, 0.16389038743053233), (233, 0.12281268769726866), (234, 0.18547162802488573), (235, 0.1611432394306458), (236, 0.08747480336813908), (237, 0.1386206560167344), (238, 0.10041928905068674), (239, 0.11510231387903269), (240, 0.04428074427700476), (241, 0.2200440132044015), (242, 0.1345345587992625), (243, 0.0844400661841498), (244, 0.0674295649898898), (245, 0.1856526643081264), (246, 0.0980392156862745), (247, 0.1386206560167344), (248, 0.022422426466543747), (249, 0.0844400661841498), (250, 0.18938850476964253), (251, 0.02186870084203477), (252, 0.18547162802488573), (253, 0.12002400720240083), (254, 0.1266600992762247), (255, 0.14408763192842222), (256, 0.24253562503633297), (257, 0.0875175052517506), (258, 0.08258401390153339), (259, 0.16389038743053236), (260, 0.10212592127570835), (261, 0.02042518425514167), (262, 0.26462806201248146), (263, 0.12387602085230008), (264, 0.018881372801234024), (265, 0.16692446522239718), (266, 0.040008002400800276), (267, 0.29774866099590325), (268, 0.03960590171906697), (269, 0.11975000786623162), (270, 0.15695698526580623), (271, 0.18382665829627504), (272, 0.0), (273, 0.02087414303617165), (274, 0.02302046277580654), (275, 0.0533507245522184), (276, 0.15534712747612348), (277, 0.08194519371526618), (278, 0.176418708008321), (279, 0.04604092555161308), (280, 0.04373740168406954), (281, 0.11128297681493146), (282, 0.014366570530687186), (283, 0.16058821968029055), (284, 0.05882352941176469), (285, 0.1902605976617976), (286, 0.09970960320351538), (287, 0.21360230027966975), (288, 0.052925612402496304), (289, 0.08258401390153339), (290, 0.17712297710801905), (291, 0.0735463131352922), (292, 0.22487239817113241), (293, 0.1470926262705844), (294, 0.1183452670827877), (295, 0.07693730481128203), (296, 0.23699122097006609), (297, 0.06406221326384731), (298, 0.17712297710801905), (299, 0.02214037213850238), (300, 0.0882093540041605), (301, 0.09335200560186731), (302, 0.1744055478566478), (303, 0.024753688574416854), (304, 0.01750350105035012), (305, 0.20769510081357426), (306, 0.13121220505220862), (307, 0.09970960320351537), (308, 0.0755254912049361), (309, 0.1278274981412284), (310, 0.23936508837117337), (311, 0.17494960673627816), (312, 0.1434299943928958), (313, 0.1940605788091531), (314, 0.17107143980890233), (315, 0.11146646082545907), (316, 0.18712029714127992), (317, 0.2045239970259654), (318, 0.20352289460267356), (319, 0.1600320096032011), (320, 0.11070186069251191), (321, 0.12524485821702988), (322, 0.1600320096032011), (323, 0.12007302660701852), (324, 0.18775622181933987), (325, 0.08084520834544431), (326, 0.14147911460452756), (327, 0.18077538151554678), (328, 0.09166984970282113), (329, 0.3466209711698763), (330, 0.23500799597021085), (331, 0.2018018381988937), (332, 0.11975000786623162), (333, 0.019234326202820506), (334, 0.1378900506653384), (335, 0.2574383611739353), (336, 0.12448502395517626), (337, 0.07231015260621872), (338, 0.0), (339, 0.0854162843517964), (340, 0.1580727235952503), (341, 0.1345345587992625), (342, 0.34479769273649247), (343, 0.03960590171906697), (344, 0.015278308283803521), (345, 0.02087414303617165), (346, 0.0813896266741265), (347, 0.10934350421017384), (348, 0.17329819984923486), (349, 0.09086217008485092), (350, 0.05029954548278569), (351, 0.0717149971964479), (352, 0.1483773024199086), (353, 0.08574929257125444), (354, 0.1206537943321711), (355, 0.019055398349167647), (356, 0.10437071518085825), (357, 0.05825517280354631), (358, 0.14452202432768343), (359, 0.2240713323311749), (360, 0.019055398349167647), (361, 0.2477201785391794), (362, 0.13629325512727639), (363, 0.03725809825827609), (364, 0.1124361990855662), (365, 0.18119530166674086), (366, 0.04309971159206156), (367, 0.18003601080360124), (368, 0.0976675520089518), (369, 0.25232996648241907), (370, 0.06193801042615004), (371, 0.08084520834544431), (372, 0.1366533436151313), (373, 0.06642111641550714), (374, 0.21558722225451815), (375, 0.05378624789733592), (376, 0.046676002800933654), (377, 0.13629325512727639), (378, 0.0417482860723433), (379, 0.08642716314028857), (380, 0.1391715599502847), (381, 0.23008949665421108), (382, 0.16692446522239718), (383, 0.1266600992762247), (384, 0.30792859165602415), (385, 0.06063390625908324), (386, 0.1276106574454202), (387, 0.21161302935272888), (388, 0.05882352941176469), (389, 0.13725490196078427), (390, 0.03709432560497715), (391, 0.05251050315105037), (392, 0.06642111641550714), (393, 0.06555615497221294), (394, 0.08258401390153339), (395, 0.08010688047518291), (396, 0.09038769075777339), (397, 0.04985480160175768), (398, 0.1736833685729687), (399, 0.07001400420140048), (400, 0.09833423245831942), (401, 0.0980392156862745), (402, 0.18999014891433705), (403, 0.15534712747612348), (404, 0.1641367041336902), (405, 0.23486278068004102), (406, 0.05094267081084933), (407, 0.0741886512099543), (408, 0.06792356108113244), (409, 0.007506289151850749), (410, 0.05882352941176469), (411, 0.18978607780397974), (412, 0.19681830757831292), (413, 0.0844400661841498), (414, 0.052925612402496304), (415, 0.09901475429766741), (416, 0.01807753815155468), (417, 0.018547162802488575), (418, 0.11651034560709261), (419, 0.151247535495505), (420, 0.30991159665316337), (421, 0.0), (422, 0.03300491809922248), (423, 0.08968970586617499), (424, 0.11510231387903269), (425, 0.20180183819889372), (426, 0.1710714398089023), (427, 0.08747480336813908), (428, 0.18547162802488576), (429, 0.10757249579467186), (430, 0.0), (431, 0.06814662756363819), (432, 0.05882352941176469), (433, 0.10323001737691673), (434, 0.03709432560497715), (435, 0.13338778844417354), (436, 0.046676002800933654), (437, 0.22004401320440153), (438, 0.02271554252121273), (439, 0.08856148855400953), (440, 0.0), (441, 0.08891787425369732), (442, 0.032555850669650596), (443, 0.03709432560497715), (444, 0.039215686274509796), (445, 0.040422604172722164), (446, 0.09038769075777339), (447, 0.02366905341655754), (448, 0.25308553412176554), (449, 0.08199200616907878), (450, 0.0213540710879491), (451, 0.06127555276542501), (452, 0.09038769075777339), (453, 0.06906138832741962), (454, 0.2011319874296206), (455, 0.0176418708008321), (456, 0.06193801042615005), (457, 0.0344725126663346), (458, 0.09605842128561481), (459, 0.11211213233271874), (460, 0.06406221326384731), (461, 0.09335200560186731), (462, 0.06127555276542501), (463, 0.07001400420140048), (464, 0.0), (465, 0.08084520834544431), (466, 0.1736833685729687), (467, 0.06814662756363819), (468, 0.038110796698335295), (469, 0.14584075136619454), (470, 0.13589647625005563), (471, 0.014598929061844594), (472, 0.10934350421017386), (473, 0.16692446522239718), (474, 0.0), (475, 0.11146646082545907), (476, 0.12446934080248974), (477, 0.019607843137254898), (478, 0.05770297860846152), (479, 0.16169041669088866), (480, 0.13629325512727639), (481, 0.0), (482, 0.06262242910851495), (483, 0.1822580398215255), (484, 0.1044892509546431), (485, 0.15062893357603013), (486, 0.12812442652769462), (487, 0.06223467040124487), (488, 0.0980392156862745), (489, 0.2533201985524494), (490, 0.11433239009500587), (491, 0.04373740168406954), (492, 0.0), (493, 0.1034175379990038), (494, 0.2559184224175479), (495, 0.26222461988885176), (496, 0.044844852933087494), (497, 0.09750298988361741), (498, 0.0), (499, 0.11472327120137264), (500, 0.019234326202820506), (501, 0.19885291966710147), (502, 0.04023675213461131), (503, 0.21263437979177974), (504, 0.12870604798676133), (505, 0.2920313436831082), (506, 0.07100716024967263), (507, 0.05423261445466404), (508, 0.15695698526580623), (509, 0.0), (510, 0.34416981360411797), (511, 0.07426106572325056), (512, 0.1708325687035928), (513, 0.05716619504750295), (514, 0.08947924869885987), (515, 0.1293523333527109), (516, 0.18119530166674086), (517, 0.10938056352464588), (518, 0.06814662756363819), (519, 0.0), (520, 0.05423261445466404), (521, 0.11070186069251191), (522, 0.0), (523, 0.0834965721446866), (524, 0.04818694246524266), (525, 0.10631718989588985), (526, 0.08747480336813908), (527, 0.10757249579467186), (528, 0.2236585765622395), (529, 0.08368274087557229), (530, 0.06642111641550714), (531, 0.2822699328133136), (532, 0.02214037213850238), (533, 0.1266600992762247), (534, 0.022422426466543747), (535, 0.10938056352464588), (536, 0.09605842128561481), (537, 0.1530809058942434), (538, 0.024375747470904353), (539, 0.2042518425514167), (540, 0.0597081434026532), (541, 0.07834607467435618), (542, 0.0337147824949449), (543, 0.07299464530922296), (544, 0.266753622761092), (545, 0.017928749299111976), (546, 0.15244318679334118), (547, 0.09086217008485092), (548, 0.0417482860723433), (549, 0.2403206414255487), (550, 0.10105651043180541), (551, 0.05882352941176469), (552, 0.03300491809922248), (553, 0.10114434748483472), (554, 0.20881008401605153), (555, 0.0), (556, 0.01750350105035012), (557, 0.09086217008485092), (558, 0.1206537943321711), (559, 0.0529256124024963), (560, 0.15534712747612348), (561, 0.04787301767423467), (562, 0.02214037213850238), (563, 0.0741886512099543), (564, 0.019607843137254898), (565, 0.0834965721446866), (566, 0.0882093540041605), (567, 0.0), (568, 0.19418390934515437), (569, 0.23529411764705876), (570, 0.06406221326384731), (571, 0.07484811885651198), (572, 0.07767356373806174), (573, 0.026948402781814772), (574, 0.11800173873230715), (575, 0.03709432560497715), (576, 0.05423261445466404), (577, 0.23221018200641194), (578, 0.16706986983639835), (579, 0.0746351792533165), (580, 0.017783574850739465), (581, 0.07921180343813394), (582, 0.19802950859533486), (583, 0.08490445135141556), (584, 0.024375747470904353), (585, 0.1143323900950059), (586, 0.2008385781013735), (587, 0.16513836134071647), (588, 0.06406221326384731), (589, 0.046676002800933654), (590, 0.02042518425514167), (591, 0.16840826742715195), (592, 0.278613658631905), (593, 0.06467616667635545), (594, 0.03960590171906697), (595, 0.08258401390153339), (596, 0.09335200560186731), (597, 0.15089863644835708), (598, 0.10555008273018725), (599, 0.1266600992762247), (600, 0.13629325512727639), (601, 0.05601120336112039), (602, 0.10984700727621795), (603, 0.0597081434026532), (604, 0.10934350421017384), (605, 0.10437071518085825), (606, 0.05825517280354631), (607, 0.21360230027966978), (608, 0.08084520834544433), (609, 0.0834965721446866), (610, 0.11211213233271873), (611, 0.14956440480527305), (612, 0.10323001737691673), (613, 0.02111001654603745), (614, 0.046676002800933654), (615, 0.08891787425369732), (616, 0.0), (617, 0.2206389394058766), (618, 0.1276613804646258), (619, 0.04604092555161308), (620, 0.16062314155080887), (621, 0.13338778844417354), (622, 0.07693730481128203), (623, 0.05770297860846152), (624, 0.05469028176232294), (625, 0.06262242910851495), (626, 0.12574886370696423), (627, 0.25232996648241907), (628, 0.09709195467257717), (629, 0.016389038743053235), (630, 0.0763915414190176), (631, 0.08309133600292948), (632, 0.22518867455552244), (633, 0.15669214934871237), (634, 0.3299984002886406), (635, 0.0), (636, 0.05469028176232294), (637, 0.06560610252610431), (638, 0.2000816826662603), (639, 0.0), (640, 0.08428695623736226), (641, 0.06906138832741962), (642, 0.17712297710801905), (643, 0.22454435656953592), (644, 0.17494960673627813), (645, 0.044844852933087494), (646, 0.1215783580010781), (647, 0.09393364366277242), (648, 0.06832667180756564), (649, 0.0895622151039798), (650, 0.040422604172722164), (651, 0.024753688574416854), (652, 0.12387602085230008), (653, 0.08856148855400953), (654, 0.1212678125181665), (655, 0.028583097523751475), (656, 0.1348591299797796), (657, 0.17285432628057715), (658, 0.10757249579467186), (659, 0.06001200360120042), (660, 0.13231403100624076), (661, 0.09605842128561481), (662, 0.06333004963811235), (663, 0.10323001737691673), (664, 0.0427081421758982), (665, 0.03585749859822395), (666, 0.17668545570588975), (667, 0.04802921064280741), (668, 0.06642111641550714), (669, 0.03742405942825599), (670, 0.1103194697029383), (671, 0.1530809058942434), (672, 0.20769510081357428), (673, 0.09940381180543978), (674, 0.12376844287208427), (675, 0.2117024496099852), (676, 0.12252450735245085), (677, 0.2537596094612761), (678, 0.18786728732554486), (679, 0.05716619504750294), (680, 0.10958925093990114), (681, 0.21534120229276793), (682, 0.06642111641550714), (683, 0.040008002400800276), (684, 0.08684168428648435), (685, 0.06482037235521643), (686, 0.06063390625908324), (687, 0.08747480336813908), (688, 0.12812442652769462), (689, 0.1611432394306458), (690, 0.1266600992762247), (691, 0.13294613760468715), (692, 0.15737789507292674), (693, 0.04985480160175768), (694, 0.21761155983309563), (695, 0.08084520834544431), (696, 0.12524485821702988), (697, 0.1266600992762247), (698, 0.1530809058942434), (699, 0.0), (700, 0.06642111641550714), (701, 0.041292006950766694), (702, 0.1026428638853414), (703, 0.01750350105035012), (704, 0.02087414303617165), (705, 0.05251050315105037), (706, 0.12812442652769462), (707, 0.09356014857063996), (708, 0.12065379433217113), (709, 0.07100716024967263), (710, 0.07495746605704412), (711, 0.03556714970147893), (712, 0.02186870084203477), (713, 0.026462806201248152), (714, 0.0), (715, 0.18581403127845011), (716, 0.09440686400617013), (717, 0.11328823680740416), (718, 0.041292006950766694), (719, 0.039215686274509796), (720, 0.15498260496951666), (721, 0.08891787425369732), (722, 0.08084520834544433), (723, 0.12929913477618468), (724, 0.015754381804475897), (725, 0.10041928905068676), (726, 0.09208185110322616), (727, 0.039215686274509796), (728, 0.1710714398089023), (729, 0.0), (730, 0.10421002114378122), (731, 0.08964374649555988), (732, 0.24014605321403704), (733, 0.01685739124747245), (734, 0.19418390934515434), (735, 0.12524485821702988), (736, 0.17936580537501012), (737, 0.023338001400466827), (738, 0.09901475429766741), (739, 0.11551721334727867), (740, 0.06726727939963124), (741, 0.10114434748483472), (742, 0.0), (743, 0.18388454369566806), (744, 0.17928749299111976), (745, 0.021606790785072143), (746, 0.08747480336813908), (747, 0.05251050315105037), (748, 0.0), (749, 0.0367731565676461), (750, 0.1980295085953348), (751, 0.05825517280354631), (752, 0.1215783580010781), (753, 0.11318329168362203), (754, 0.0638306902323129), (755, 0.0844400661841498), (756, 0.0), (757, 0.0854162843517964), (758, 0.1458407513661945), (759, 0.08170073702056668), (760, 0.026462806201248152), (761, 0.18152704954572363), (762, 0.06642111641550714), (763, 0.1266600992762247), (764, 0.1669931442893732), (765, 0.0), (766, 0.0422200330920749), (767, 0.2477201785391794), (768, 0.14201432049934523), (769, 0.1760484091897499), (770, 0.14201432049934526), (771, 0.0), (772, 0.10041928905068674), (773, 0.07426106572325056), (774, 0.0213540710879491), (775, 0.23950001573246327), (776, 0.06223467040124487), (777, 0.14777011582226215), (778, 0.22578837914485933), (779, 0.19941920640703073), (780, 0.0), (781, 0.10188534162169867), (782, 0.2117024496099852), (783, 0.04543108504242546), (784, 0.2772413120334688), (785, 0.06814662756363819), (786, 0.08401680504168059), (787, 0.16146816171752817), (788, 0.25490196078431365), (789, 0.0), (790, 0.08084520834544433), (791, 0.14947849761564372), (792, 0.02302046277580654), (793, 0.13338778844417354), (794, 0.08047350426922262), (795, 0.13685715184712186), (796, 0.11202240672224079), (797, 0.08170073702056668), (798, 0.14002800840280097), (799, 0.16169041669088863), (800, 0.14462030521243743), (801, 0.0417482860723433), (802, 0.16135874369200778), (803, 0.0), (804, 0.12812442652769462), (805, 0.17083256870359279), (806, 0.024375747470904353), (807, 0.20769510081357426), (808, 0.03776274560246805), (809, 0.21459601138459364), (810, 0.12387602085230007), (811, 0.10670144910443678), (812, 0.06063390625908324), (813, 0.1764705882352941), (814, 0.07001400420140048), (815, 0.08170073702056668), (816, 0.11834526708278771), (817, 0.0), (818, 0.06333004963811235), (819, 0.05469028176232294), (820, 0.026462806201248152), (821, 0.05132143194267069), (822, 0.09605842128561481), (823, 0.024014605321403704), (824, 0.19211684257122963), (825, 0.028885572587590752), (826, 0.024014605321403704), (827, 0.0469668218313862), (828, 0.14462030521243743), (829, 0.0), (830, 0.08891787425369732), (831, 0.11315971919733417), (832, 0.25737659820103465), (833, 0.11764705882352938), (834, 0.04802921064280741), (835, 0.07800764512385155), (836, 0.3092805813616807), (837, 0.0), (838, 0.1328422328310143), (839, 0.20842004228756245), (840, 0.020211302086361082), (841, 0.1312122050522086), (842, 0.16810223724982593), (843, 0.053896805563629545), (844, 0.08001600480160055), (845, 0.0), (846, 0.07731753330571373), (847, 0.18230093920774315), (848, 0.04543108504242546), (849, 0.034214287961780464), (850, 0.04802921064280741), (851, 0.032338083338177726), (852, 0.21217447349500163), (853, 0.04733810683311508), (854, 0.18547162802488576), (855, 0.03883678186903087), (856, 0.08194519371526618), (857, 0.13201967239688991), (858, 0.24055570926238246), (859, 0.09467621366623016), (860, 0.06262242910851495), (861, 0.04733810683311508), (862, 0.11328823680740414), (863, 0.02302046277580654), (864, 0.10803395392536072), (865, 0.07113429940295786), (866, 0.07001400420140048), (867, 0.16857391247472453), (868, 0.08170073702056668), (869, 0.1067703554397455), (870, 0.2411131164323515), (871, 0.17310893582538456), (872, 0.06237343238042664), (873, 0.12387602085230008), (874, 0.2326557408082025), (875, 0.0), (876, 0.0), (877, 0.0), (878, 0.058080912249204274), (879, 0.0), (880, 0.018547162802488575), (881, 0.0844400661841498), (882, 0.0352837416016642), (883, 0.13098420799889596), (884, 0.1266600992762247), (885, 0.12387602085230007), (886, 0.07622159339667059), (887, 0.05940885257860046), (888, 0.18999014891433705), (889, 0.14969623771302396), (890, 0.09440686400617013), (891, 0.09166984970282113), (892, 0.07921180343813394), (893, 0.07767356373806174), (894, 0.018712029714127994), (895, 0.0), (896, 0.15282801243254798), (897, 0.13629325512727639), (898, 0.18190171877724973), (899, 0.1176470588235294), (900, 0.12812442652769462), (901, 0.2490530572974856), (902, 0.0213540710879491), (903, 0.06560610252610431), (904, 0.1409004654941586), (905, 0.026462806201248152), (906, 0.15695698526580623), (907, 0.0), (908, 0.09335200560186731), (909, 0.04243489469900032), (910, 0.13294613760468715), (911, 0.041292006950766694), (912, 0.0427081421758982), (913, 0.02302046277580654), (914, 0.20842004228756245), (915, 0.10429920389107794), (916, 0.07800764512385155), (917, 0.1470926262705844), (918, 0.0742146960242409), (919, 0.02186870084203477), (920, 0.1429762897859917), (921, 0.09467621366623016), (922, 0.22961557339788816), (923, 0.0689450253326692), (924, 0.04373740168406954), (925, 0.04428074427700476), (926, 0.02214037213850238), (927, 0.04428074427700476), (928, 0.06193801042615004), (929, 0.1960392117639214), (930, 0.12126781251816648), (931, 0.06814662756363819), (932, 0.15440126854410666), (933, 0.12002400720240083), (934, 0.09038769075777339), (935, 0.04543108504242546), (936, 0.0), (937, 0.08258401390153339), (938, 0.0), (939, 0.0763915414190176), (940, 0.04604092555161308), (941, 0.17149858514250885), (942, 0.3180175952969782), (943, 0.0), (944, 0.0), (945, 0.02186870084203477), (946, 0.13111230994442588), (947, 0.09901475429766743), (948, 0.16502459049611237), (949, 0.13592873654160806), (950, 0.06424925662032355), (951, 0.07426106572325056), (952, 0.027461751819054487), (953, 0.04321358157014429), (954, 0.09208185110322616), (955, 0.20583232685540792), (956, 0.040422604172722164), (957, 0.07693730481128203), (958, 0.04543108504242546), (959, 0.07779333800155609), (960, 0.222392871751573), (961, 0.05825517280354631), (962, 0.11227217828476796), (963, 0.16806139112183874), (964, 0.16021376095036582), (965, 0.0), (966, 0.08574929257125442), (967, 0.03846865240564101), (968, 0.0), (969, 0.2507995368572829), (970, 0.04428074427700476), (971, 0.12782749814122837), (972, 0.14147911460452756), (973, 0.019607843137254898), (974, 0.08084520834544433), (975, 0.10323001737691673), (976, 0.12002400720240082), (977, 0.2530855341217655), (978, 0.16857391247472453), (979, 0.19234326202820506), (980, 0.1348591299797796), (981, 0.10264286388534138), (982, 0.06726727939963124), (983, 0.05664411840370207), (984, 0.08747480336813908), (985, 0.19500597976723483), (986, 0.0422200330920749), (987, 0.0), (988, 0.0763915414190176), (989, 0.0367731565676461), (990, 0.14969623771302396), (991, 0.06814662756363819), (992, 0.019418390934515434), (993, 0.02186870084203477), (994, 0.11751911201153428), (995, 0.039215686274509796), (996, 0.0), (997, 0.06642111641550714), (998, 0.0), (999, 0.01272981894570918), (1000, 0.18581403127845011), (1001, 0.10631718989588987), (1002, 0.25207010887161435), (1003, 0.09709195467257717), (1004, 0.1470926262705844), (1005, 0.03960590171906697), (1006, 0.1941077438551307), (1007, 0.07921180343813394), (1008, 0.07549804236114202), (1009, 0.0), (1010, 0.07800764512385155), (1011, 0.0), (1012, 0.06262242910851495), (1013, 0.0), (1014, 0.020646003475383347), (1015, 0.28005601680560194), (1016, 0.1343433226559697), (1017, 0.16609569319451245), (1018, 0.21446443467898757), (1019, 0.13592873654160806), (1020, 0.14408763192842222), (1021, 0.05029954548278569), (1022, 0.03500700210070024), (1023, 0.08238525545716346), (1024, 0.030025156607402997), (1025, 0.10341753799900383), (1026, 0.0), (1027, 0.03846865240564101), (1028, 0.15089863644835708), (1029, 0.10421002114378122), (1030, 0.07484811885651198), (1031, 0.1317272696627086), (1032, 0.0), (1033, 0.0), (1034, 0.12002400720240082), (1035, 0.0844400661841498), (1036, 0.01476024809233492), (1037, 0.0), (1038, 0.21326535201462324), (1039, 0.04373740168406954), (1040, 0.06814662756363819), (1041, 0.016062314155080887), (1042, 0.0), (1043, 0.019234326202820506), (1044, 0.25243908214870064), (1045, 0.032338083338177726), (1046, 0.11175451696439745), (1047, 0.07938841860374446), (1048, 0.24004801440480167), (1049, 0.014678923792502562), (1050, 0.0), (1051, 0.04604092555161308), (1052, 0.13600722489568476), (1053, 0.18190171877724973), (1054, 0.0), (1055, 0.11128297681493145), (1056, 0.0755254912049361), (1057, 0.0755254912049361), (1058, 0.032338083338177726), (1059, 0.0172362563331673), (1060, 0.0), (1061, 0.09356014857063998), (1062, 0.13592873654160803), (1063, 0.1584236068762679), (1064, 0.09140375378674888), (1065, 0.0), (1066, 0.0), (1067, 0.0), (1068, 0.13725490196078427), (1069, 0.03131121455425747), (1070, 0.10212592127570835), (1071, 0.0), (1072, 0.016389038743053235), (1073, 0.044844852933087494), (1074, 0.13001274187308592), (1075, 0.10323001737691673), (1076, 0.17822655773580137), (1077, 0.027201444979136954), (1078, 0.17641870800832102), (1079, 0.11632787040410125), (1080, 0.1176470588235294), (1081, 0.019234326202820506), (1082, 0.13351146745863818), (1083, 0.17285432628057712), (1084, 0.13464028341974354), (1085, 0.1366533436151313), (1086, 0.26893123948667963), (1087, 0.10401019349846874), (1088, 0.029197858123689188), (1089, 0.07544931822417852), (1090, 0.11540595721692304), (1091, 0.1391715599502847), (1092, 0.14777011582226215), (1093, 0.07204381596421111), (1094, 0.08084520834544431), (1095, 0.20228869496966942), (1096, 0.06193801042615004), (1097, 0.14361905302270403), (1098, 0.11800173873230715), (1099, 0.09901475429766743), (1100, 0.09115046960387158), (1101, 0.07767356373806174), (1102, 0.13389238540091566), (1103, 0.1276613804646258), (1104, 0.06947334742918748), (1105, 0.0), (1106, 0.0717149971964479), (1107, 0.04543108504242546), (1108, 0.0), (1109, 0.027201444979136954), (1110, 0.11128297681493146), (1111, 0.24893868160497948), (1112, 0.07685035360081795), (1113, 0.13894669485837496), (1114, 0.09901475429766741), (1115, 0.17310893582538456), (1116, 0.040422604172722164), (1117, 0.0), (1118, 0.19055398349167646), (1119, 0.11374152107446574), (1120, 0.26563425599217416), (1121, 0.0), (1122, 0.1109853486360486), (1123, 0.039215686274509796), (1124, 0.06560610252610431), (1125, 0.1470926262705844), (1126, 0.0337147824949449), (1127, 0.0), (1128, 0.027201444979136954), (1129, 0.04373740168406954), (1130, 0.0), (1131, 0.1109853486360486), (1132, 0.11510231387903269), (1133, 0.023338001400466827), (1134, 0.10105651043180541), (1135, 0.06193801042615004), (1136, 0.09527699174583823), (1137, 0.10421002114378122), (1138, 0.040422604172722164), (1139, 0.19446111706564928), (1140, 0.024753688574416854), (1141, 0.02087414303617165), (1142, 0.05882352941176469), (1143, 0.02302046277580654), (1144, 0.054923503638108974), (1145, 0.11764705882352938), (1146, 0.0882093540041605), (1147, 0.04321358157014429), (1148, 0.24253562503633297), (1149, 0.09086217008485092), (1150, 0.17822655773580137), (1151, 0.0), (1152, 0.12524485821702988), (1153, 0.1452022806230107), (1154, 0.08642716314028857), (1155, 0.06193801042615004), (1156, 0.0), (1157, 0.13098420799889596), (1158, 0.18190171877724973), (1159, 0.21453196764494611), (1160, 0.17329819984923486), (1161, 0.08194519371526618), (1162, 0.18959881966484032), (1163, 0.18556207993371293), (1164, 0.06842857592356093), (1165, 0.16244422225365657), (1166, 0.0), (1167, 0.0), (1168, 0.06642111641550714), (1169, 0.08747480336813908), (1170, 0.1284985132406471), (1171, 0.0), (1172, 0.11394547734377708), (1173, 0.07204381596421111), (1174, 0.09701425001453318), (1175, 0.1510509824098722), (1176, 0.11328823680740414), (1177, 0.10100720254380935), (1178, 0.19234326202820506), (1179, 0.12983013961742002), (1180, 0.0), (1181, 0.020004001200400138), (1182, 0.07484811885651198), (1183, 0.151247535495505), (1184, 0.05469028176232294), (1185, 0.0), (1186, 0.06406221326384731), (1187, 0.3016979811444309), (1188, 0.03615507630310936), (1189, 0.05440288995827391), (1190, 0.22961557339788816), (1191, 0.18543130372219696), (1192, 0.0755254912049361), (1193, 0.16618267200585896), (1194, 0.12870604798676133), (1195, 0.06814662756363819), (1196, 0.06333004963811235), (1197, 0.0), (1198, 0.08553571990445116), (1199, 0.1000200060020007), (1200, 0.20583232685540792), (1201, 0.07100716024967263), (1202, 0.17518714874213512), (1203, 0.14969623771302396), (1204, 0.06262242910851494), (1205, 0.0), (1206, 0.2510482226267169), (1207, 0.24552736699452138), (1208, 0.0), (1209, 0.1429154876187574), (1210, 0.03500700210070024), (1211, 0.01294559395634362), (1212, 0.057771145175181504), (1213, 0.21518099008229027), (1214, 0.1700985732725702), (1215, 0.07340582339261587), (1216, 0.06842857592356093), (1217, 0.13338778844417354), (1218, 0.08891787425369732), (1219, 0.06063390625908324), (1220, 0.10421002114378122), (1221, 0.0735463131352922), (1222, 0.0), (1223, 0.0), (1224, 0.03776274560246805), (1225, 0.0), (1226, 0.028005601680560196), (1227, 0.15244318679334118), (1228, 0.05940885257860046), (1229, 0.04802921064280741), (1230, 0.1345345587992625), (1231, 0.07036672182012485), (1232, 0.05469028176232294), (1233, 0.13057679112392698), (1234, 0.1445220243276834), (1235, 0.06482037235521643), (1236, 0.040008002400800276), (1237, 0.10779361112725909), (1238, 0.18881372801234025), (1239, 0.13338778844417354), (1240, 0.176418708008321), (1241, 0.0), (1242, 0.11357771260606365), (1243, 0.058080912249204274), (1244, 0.17518714874213515), (1245, 0.13121220505220862), (1246, 0.020004001200400138), (1247, 0.0844400661841498), (1248, 0.0), (1249, 0.10779361112725909), (1250, 0.015012578303701498), (1251, 0.0), (1252, 0.06127555276542501), (1253, 0.09166984970282113), (1254, 0.024753688574416854), (1255, 0.10938056352464588), (1256, 0.058395716247378375), (1257, 0.16169041669088863), (1258, 0.0), (1259, 0.21603747360761666), (1260, 0.03709432560497715), (1261, 0.0), (1262, 0.0), (1263, 0.2037706832433973), (1264, 0.13832375007766062), (1265, 0.039215686274509796), (1266, 0.09440686400617013), (1267, 0.03300491809922248), (1268, 0.0), (1269, 0.1171558372258012), (1270, 0.08747480336813908), (1271, 0.31709177791679655), (1272, 0.1600521736566552), (1273, 0.054923503638108974), (1274, 0.05746628212274874), (1275, 0.2187611270492918), (1276, 0.11715583722580121), (1277, 0.1886388194727034), (1278, 0.15900879764848913), (1279, 0.2806804457119199), (1280, 0.24954170447254356), (1281, 0.0176418708008321), (1282, 0.2812204959107025), (1283, 0.031508763608951794), (1284, 0.05716619504750295), (1285, 0.07312724241271307), (1286, 0.21761155983309563), (1287, 0.026462806201248152), (1288, 0.032124628310161774), (1289, 0.09467621366623016), (1290, 0.19500597976723483), (1291, 0.026948402781814772), (1292, 0.11632787040410125), (1293, 0.1067014491044368), (1294, 0.15695698526580623), (1295, 0.06262242910851494), (1296, 0.23923566684866998), (1297, 0.024375747470904353), (1298, 0.09901475429766743), (1299, 0.0), (1300, 0.25286086871208674), (1301, 0.014291548761875737), (1302, 0.13121220505220862), (1303, 0.06814662756363819), (1304, 0.10004084133313015), (1305, 0.11328823680740414), (1306, 0.058395716247378375), (1307, 0.040008002400800276), (1308, 0.06262242910851495), (1309, 0.025149772741392844), (1310, 0.020211302086361082), (1311, 0.10114434748483471), (1312, 0.10002000600200069), (1313, 0.11433239009500588), (1314, 0.0), (1315, 0.06600983619844496), (1316, 0.02788195603615673), (1317, 0.08401680504168059), (1318, 0.23773246378396354), (1319, 0.09086217008485092), (1320, 0.17285432628057715), (1321, 0.028583097523751475), (1322, 0.2655273953168417), (1323, 0.0), (1324, 0.05882352941176469), (1325, 0.03846865240564101), (1326, 0.0854162843517964), (1327, 0.0417482860723433), (1328, 0.21004201260420147), (1329, 0.03500700210070024), (1330, 0.0), (1331, 0.06333004963811235), (1332, 0.0), (1333, 0.060752679940508494), (1334, 0.07767356373806174), (1335, 0.12255110553085002), (1336, 0.18230093920774315), (1337, 0.06223467040124487), (1338, 0.0), (1339, 0.0213540710879491), (1340, 0.0834965721446866), (1341, 0.10105651043180541), (1342, 0.022422426466543747), (1343, 0.08490445135141556), (1344, 0.07767356373806174), (1345, 0.05716619504750294), (1346, 0.07231015260621872), (1347, 0.10757249579467185), (1348, 0.0), (1349, 0.18410202992625901), (1350, 0.19446111706564928), (1351, 0.0705674832033284), (1352, 0.09440686400617013), (1353, 0.0), (1354, 0.14947849761564372), (1355, 0.052925612402496304), (1356, 0.07921180343813394), (1357, 0.06262242910851494), (1358, 0.1688801323682996), (1359, 0.14361905302270403), (1360, 0.07669649888473704), (1361, 0.03960590171906697), (1362, 0.1429762897859917), (1363, 0.06193801042615004), (1364, 0.1067014491044368), (1365, 0.13216960960863816), (1366, 0.18388454369566803), (1367, 0.12983013961742002), (1368, 0.2160679078507214), (1369, 0.1143323900950059), (1370, 0.21549855796030778), (1371, 0.0), (1372, 0.03191534511615645), (1373, 0.1000200060020007), (1374, 0.0), (1375, 0.1972162422902317), (1376, 0.0), (1377, 0.02302046277580654), (1378, 0.0), (1379, 0.19681830757831292), (1380, 0.29372522840900395), (1381, 0.09208185110322616), (1382, 0.09605842128561481), (1383, 0.0), (1384, 0.05251050315105037), (1385, 0.06262242910851495), (1386, 0.0), (1387, 0.0), (1388, 0.19055398349167646), (1389, 0.04085036851028334), (1390, 0.2087414303617165), (1391, 0.034214287961780464), (1392, 0.16389038743053236), (1393, 0.04950737714883371), (1394, 0.0), (1395, 0.11128297681493146), (1396, 0.0), (1397, 0.10114434748483471), (1398, 0.03556714970147893), (1399, 0.13629325512727639), (1400, 0.07380124046167459), (1401, 0.03742405942825599), (1402, 0.02186870084203477), (1403, 0.1295463575521535), (1404, 0.21914608621714188), (1405, 0.1284985132406471), (1406, 0.20960938184084413), (1407, 0.04875149494180871), (1408, 0.04243489469900032), (1409, 0.2225659536298629), (1410, 0.08001600480160055), (1411, 0.10105651043180541), (1412, 0.048833776004475894), (1413, 0.12252450735245085), (1414, 0.02952049618466984), (1415, 0.1176470588235294), (1416, 0.032124628310161774), (1417, 0.02366905341655754), (1418, 0.10401019349846874), (1419, 0.019055398349167647), (1420, 0.09115046960387158), (1421, 0.0298540717013266), (1422, 0.12550124509378383), (1423, 0.09605842128561481), (1424, 0.06482037235521643), (1425, 0.07484811885651198), (1426, 0.0), (1427, 0.0), (1428, 0.14760248092334918), (1429, 0.06127555276542501), (1430, 0.0), (1431, 0.13121220505220862), (1432, 0.1445220243276834), (1433, 0.06005031321480599), (1434, 0.018881372801234024), (1435, 0.1475013486874791), (1436, 0.05770297860846152), (1437, 0.024375747470904353), (1438, 0.11764705882352938), (1439, 0.05657985959866709), (1440, 0.1215783580010781), (1441, 0.07257946509373268), (1442, 0.05094267081084933), (1443, 0.24046440329433516), (1444, 0.10437071518085825), (1445, 0.08968970586617499), (1446, 0.14611900125320157), (1447, 0.04543108504242546), (1448, 0.07544931822417852), (1449, 0.06333004963811235), (1450, 0.09335200560186731), (1451, 0.12929913477618468), (1452, 0.12812442652769462), (1453, 0.18959881966484032), (1454, 0.0), (1455, 0.0), (1456, 0.06287443185348211), (1457, 0.06001200360120042), (1458, 0.0), (1459, 0.2343116744516024), (1460, 0.1022619985129827), (1461, 0.13002831132908726), (1462, 0.0), (1463, 0.019607843137254898), (1464, 0.0), (1465, 0.08747480336813908), (1466, 0.0), (1467, 0.28165726494227916), (1468, 0.21568627450980388), (1469, 0.1234930956058247), (1470, 0.17310893582538456), (1471, 0.08170073702056668), (1472, 0.03646018784154863), (1473, 0.17668545570588973), (1474, 0.2265764736148083), (1475, 0.0), (1476, 0.01685739124747245), (1477, 0.0813896266741265), (1478, 0.14625448482542613), (1479, 0.07100716024967263), (1480, 0.0), (1481, 0.22264408807272268), (1482, 0.22140372138502384), (1483, 0.020004001200400138), (1484, 0.07779333800155609), (1485, 0.08968970586617499), (1486, 0.08490445135141556), (1487, 0.06814662756363819), (1488, 0.2134028982088736), (1489, 0.0), (1490, 0.31025261399701143), (1491, 0.0427081421758982), (1492, 0.12079686777782725), (1493, 0.06642111641550714), (1494, 0.0), (1495, 0.03742405942825599), (1496, 0.0213540710879491), (1497, 0.01750350105035012), (1498, 0.04287464628562721), (1499, 0.17327582002091796), (1500, 0.3488110957132956), (1501, 0.0), (1502, 0.10938056352464588), (1503, 0.09208185110322616), (1504, 0.0), (1505, 0.06001200360120042), (1506, 0.13629325512727639), (1507, 0.176418708008321), (1508, 0.1372215512369386), (1509, 0.027461751819054487), (1510, 0.13812277665483924), (1511, 0.0), (1512, 0.10114434748483471), (1513, 0.1537007072016359), (1514, 0.10002000600200069), (1515, 0.13725490196078427), (1516, 0.054923503638108974), (1517, 0.06645435190240832), (1518, 0.11651034560709261), (1519, 0.0647279697817181), (1520, 0.05601120336112039), (1521, 0.0), (1522, 0.030556616567607043), (1523, 0.1966684649166388), (1524, 0.058395716247378375), (1525, 0.15498260496951666), (1526, 0.10421002114378122), (1527, 0.16974982846110506), (1528, 0.0), (1529, 0.06814662756363819), (1530, 0.08084520834544431), (1531, 0.23600347746461434), (1532, 0.041292006950766694), (1533, 0.0674295649898898), (1534, 0.0), (1535, 0.06726727939963124), (1536, 0.0), (1537, 0.0), (1538, 0.0352837416016642), (1539, 0.0), (1540, 0.03646018784154863), (1541, 0.05113099925649135), (1542, 0.04428074427700476), (1543, 0.026948402781814772), (1544, 0.04321358157014429), (1545, 0.17107143980890233), (1546, 0.17822655773580137), (1547, 0.0417482860723433), (1548, 0.09086217008485092), (1549, 0.0), (1550, 0.0), (1551, 0.07001400420140048), (1552, 0.040008002400800276), (1553, 0.05515973485146915), (1554, 0.0834965721446866), (1555, 0.044844852933087494), (1556, 0.03556714970147893), (1557, 0.02641045638499291), (1558, 0.0), (1559, 0.1348591299797796), (1560, 0.12983013961742002), (1561, 0.16094700853844524), (1562, 0.11472327120137266), (1563, 0.16757809942961324), (1564, 0.2804447137543635), (1565, 0.22407133233117493), (1566, 0.026002548374617185), (1567, 0.0), (1568, 0.11318329168362204), (1569, 0.0597081434026532), (1570, 0.019607843137254898), (1571, 0.06511170133930119), (1572, 0.0533507245522184), (1573, 0.03646018784154863), (1574, 0.0755254912049361), (1575, 0.0), (1576, 0.13629325512727639), (1577, 0.35759926992607577), (1578, 0.014073344364024968), (1579, 0.1022619985129827), (1580, 0.07426106572325056), (1581, 0.019607843137254898), (1582, 0.0741886512099543), (1583, 0.17785945835997746), (1584, 0.0), (1585, 0.10932267489210504), (1586, 0.0825122952480562), (1587, 0.26222461988885176), (1588, 0.0), (1589, 0.04085036851028334), (1590, 0.05716619504750295), (1591, 0.0475651494154494), (1592, 0.017928749299111976), (1593, 0.1183452670827877), (1594, 0.06333004963811235), (1595, 0.19802950859533486), (1596, 0.018881372801234024), (1597, 0.026948402781814772), (1598, 0.0554593553871802), (1599, 0.13629325512727639), (1600, 0.07938841860374446), (1601, 0.04543108504242546), (1602, 0.0213540710879491), (1603, 0.07231015260621872), (1604, 0.11070186069251191), (1605, 0.11975000786623162), (1606, 0.23631572706713846), (1607, 0.16135874369200778), (1608, 0.06424925662032355), (1609, 0.1530809058942434), (1610, 0.06814662756363819), (1611, 0.14002800840280097), (1612, 0.15498260496951666), (1613, 0.03500700210070024), (1614, 0.05601120336112039), (1615, 0.04543108504242546), (1616, 0.05469028176232294), (1617, 0.13338778844417354), (1618, 0.05825517280354631), (1619, 0.03615507630310936), (1620, 0.09086217008485092), (1621, 0.0834965721446866), (1622, 0.1067014491044368), (1623, 0.0), (1624, 0.04428074427700476), (1625, 0.06262242910851495), (1626, 0.03556714970147893), (1627, 0.0), (1628, 0.1252448582170299), (1629, 0.0), (1630, 0.2239363584266046), (1631, 0.0), (1632, 0.07594084992563561), (1633, 0.18382665829627504), (1634, 0.0), (1635, 0.06560610252610431), (1636, 0.044844852933087494), (1637, 0.012474686476085328), (1638, 0.0469668218313862), (1639, 0.0), (1640, 0.032338083338177726), (1641, 0.03646018784154863), (1642, 0.0980392156862745), (1643, 0.07693730481128203), (1644, 0.0517087689995019), (1645, 0.07292037568309725), (1646, 0.03556714970147893), (1647, 0.04604092555161308), (1648, 0.03500700210070024), (1649, 0.06127555276542501), (1650, 0.15244318679334118), (1651, 0.05515973485146915), (1652, 0.0834965721446866), (1653, 0.08309133600292948), (1654, 0.055641488407465724), (1655, 0.13894669485837496), (1656, 0.1206537943321711), (1657, 0.15282801243254798), (1658, 0.20802038699693748), (1659, 0.129259783720147), (1660, 0.10555008273018725), (1661, 0.06511170133930119), (1662, 0.019418390934515434), (1663, 0.06148028288065436), (1664, 0.02302046277580654), (1665, 0.05716619504750295), (1666, 0.032555850669650596), (1667, 0.06424925662032355), (1668, 0.22390553775994954), (1669, 0.10401019349846874), (1670, 0.18481233109010922), (1671, 0.20683507599800763), (1672, 0.27136385947023145), (1673, 0.0), (1674, 0.0), (1675, 0.24004801440480167), (1676, 0.09901475429766741), (1677, 0.0), (1678, 0.02302046277580654), (1679, 0.06262242910851494), (1680, 0.21453196764494611), (1681, 0.0), (1682, 0.07312724241271307), (1683, 0.0), (1684, 0.04321358157014429), (1685, 0.028005601680560196), (1686, 0.2117024496099852), (1687, 0.09356014857063998), (1688, 0.07767356373806174), (1689, 0.03500700210070024), (1690, 0.07100716024967263), (1691, 0.0), (1692, 0.08856148855400953), (1693, 0.14408763192842222), (1694, 0.04428074427700476), (1695, 0.07204381596421111), (1696, 0.18382665829627504), (1697, 0.1409004654941586), (1698, 0.0), (1699, 0.0), (1700, 0.04818694246524266), (1701, 0.0), (1702, 0.020646003475383347), (1703, 0.0), (1704, 0.12964074471043285), (1705, 0.039215686274509796), (1706, 0.0), (1707, 0.19561932335813412), (1708, 0.09970960320351537), (1709, 0.030556616567607043), (1710, 0.0417482860723433), (1711, 0.0), (1712, 0.0), (1713, 0.08031157077540443), (1714, 0.0), (1715, 0.04061105556341414), (1716, 0.0), (1717, 0.0), (1718, 0.07767356373806174), (1719, 0.11128297681493145), (1720, 0.02042518425514167), (1721, 0.08309133600292948), (1722, 0.08084520834544431), (1723, 0.08619942318412312), (1724, 0.11881770515720091), (1725, 0.0634201992205992), (1726, 0.0), (1727, 0.028005601680560196), (1728, 0.15558667600311218), (1729, 0.0), (1730, 0.03615507630310936), (1731, 0.1600521736566552), (1732, 0.1584236068762679), (1733, 0.020211302086361082), (1734, 0.018881372801234024), (1735, 0.2207515735136804), (1736, 0.1510509824098722), (1737, 0.06406221326384731), (1738, 0.029197858123689188), (1739, 0.1470926262705844), (1740, 0.040008002400800276), (1741, 0.0), (1742, 0.024014605321403704), (1743, 0.09709195467257717), (1744, 0.1266600992762247), (1745, 0.11632787040410125), (1746, 0.15188169985127123), (1747, 0.258519567440294), (1748, 0.032230825718201524), (1749, 0.07484811885651198), (1750, 0.1103194697029383), (1751, 0.08170073702056668), (1752, 0.03131121455425747), (1753, 0.05020964452534338), (1754, 0.13338778844417354), (1755, 0.05029954548278569), (1756, 0.0176418708008321), (1757, 0.038110796698335295), (1758, 0.0), (1759, 0.2533201985524494), (1760, 0.06814662756363819), (1761, 0.10332173664634443), (1762, 0.2000400120040014), (1763, 0.16993235521110622), (1764, 0.18152704954572363), (1765, 0.10891067320217852), (1766, 0.05716619504750294), (1767, 0.0), (1768, 0.0), (1769, 0.1183452670827877), (1770, 0.0), (1771, 0.0717149971964479), (1772, 0.0), (1773, 0.12998507664415837), (1774, 0.04733810683311508), (1775, 0.2940032457248253), (1776, 0.13001274187308592), (1777, 0.08747480336813908), (1778, 0.0), (1779, 0.1790571786830783), (1780, 0.14002800840280097), (1781, 0.16857391247472453), (1782, 0.01650245904961124), (1783, 0.07292037568309725), (1784, 0.0), (1785, 0.0), (1786, 0.02087414303617165), (1787, 0.29405881764588204), (1788, 0.0), (1789, 0.0), (1790, 0.03776274560246805), (1791, 0.16857391247472453), (1792, 0.05613608914238398), (1793, 0.01386483884679505), (1794, 0.1470926262705844), (1795, 0.07380124046167459), (1796, 0.0689450253326692), (1797, 0.0980392156862745), (1798, 0.019802950859533486), (1799, 0.0), (1800, 0.08759357437106757), (1801, 0.0), (1802, 0.12862393885688164), (1803, 0.020646003475383347), (1804, 0.10846522890932807), (1805, 0.1022619985129827), (1806, 0.0), (1807, 0.08684168428648435), (1808, 0.06647306880234358), (1809, 0.044844852933087494), (1810, 0.17149858514250882), (1811, 0.0), (1812, 0.06193801042615004), (1813, 0.09038769075777339), (1814, 0.046676002800933654), (1815, 0.018712029714127994), (1816, 0.10555008273018726), (1817, 0.09100891931116015), (1818, 0.23103442669455732), (1819, 0.08642716314028857), (1820, 0.1510509824098722), (1821, 0.05378624789733592), (1822, 0.02271554252121273), (1823, 0.0), (1824, 0.21514499158934375), (1825, 0.05378624789733592), (1826, 0.10803395392536072), (1827, 0.21305750365969206), (1828, 0.03742405942825599), (1829, 0.0), (1830, 0.0176418708008321), (1831, 0.0), (1832, 0.1764705882352941), (1833, 0.04604092555161308), (1834, 0.16840826742715195), (1835, 0.10323001737691673), (1836, 0.09208185110322616), (1837, 0.07260114031150534), (1838, 0.1527830828380352), (1839, 0.19253851155385132), (1840, 0.09750298988361741), (1841, 0.04787301767423467), (1842, 0.0), (1843, 0.05940885257860046), (1844, 0.0834965721446866), (1845, 0.03585749859822395), (1846, 0.11808198473867937), (1847, 0.20769510081357428), (1848, 0.2134028982088736), (1849, 0.0533507245522184), (1850, 0.15695698526580623), (1851, 0.15655607277128736), (1852, 0.3153017676423058), (1853, 0.055641488407465724), (1854, 0.12002400720240083), (1855, 0.014291548761875737), (1856, 0.0674295649898898), (1857, 0.0), (1858, 0.024753688574416854), (1859, 0.21693045781865616), (1860, 0.1278274981412284), (1861, 0.18482997174600682), (1862, 0.0), (1863, 0.10041928905068676), (1864, 0.1000200060020007), (1865, 0.0), (1866, 0.0), (1867, 0.0469668218313862), (1868, 0.06482037235521643), (1869, 0.12524485821702988), (1870, 0.08956221510397981), (1871, 0.0), (1872, 0.17063023229633048), (1873, 0.11510231387903269), (1874, 0.2008385781013735), (1875, 0.0), (1876, 0.04373740168406954), (1877, 0.08684168428648435), (1878, 0.06127555276542501), (1879, 0.10585122480499261), (1880, 0.028005601680560196), (1881, 0.031508763608951794), (1882, 0.016169041669088863), (1883, 0.0), (1884, 0.11881770515720091), (1885, 0.024375747470904353), (1886, 0.0), (1887, 0.0), (1888, 0.13098420799889596), (1889, 0.13201967239688991), (1890, 0.2859525795719834), (1891, 0.0), (1892, 0.19253851155385132), (1893, 0.1600320096032011), (1894, 0.11070186069251191), (1895, 0.0), (1896, 0.1600521736566552), (1897, 0.028005601680560196), (1898, 0.020004001200400138), (1899, 0.0), (1900, 0.1293523333527109), (1901, 0.025149772741392844), (1902, 0.15282801243254798), (1903, 0.04802921064280741), (1904, 0.08170073702056668), (1905, 0.0717149971964479), (1906, 0.034214287961780464), (1907, 0.11651034560709261), (1908, 0.017928749299111976), (1909, 0.03776274560246805), (1910, 0.10934350421017384), (1911, 0.06193801042615004), (1912, 0.028583097523751475), (1913, 0.09709195467257717), (1914, 0.23773246378396357), (1915, 0.15062893357603013), (1916, 0.026229649178821122), (1917, 0.0), (1918, 0.10502100630210072), (1919, 0.061113233135214086), (1920, 0.09605842128561481), (1921, 0.026824501423074205), (1922, 0.11202240672224079), (1923, 0.10041928905068674), (1924, 0.0), (1925, 0.0), (1926, 0.14002800840280097), (1927, 0.07113429940295786), (1928, 0.06642111641550714), (1929, 0.21648909325599844), (1930, 0.10670144910443678), (1931, 0.2667755768883471), (1932, 0.17895849739771974), (1933, 0.030556616567607043), (1934, 0.0), (1935, 0.054923503638108974), (1936, 0.0529256124024963), (1937, 0.0), (1938, 0.09335200560186731), (1939, 0.1372549019607843), (1940, 0.13592873654160806), (1941, 0.05601120336112039), (1942, 0.02087414303617165), (1943, 0.12010062642961199), (1944, 0.0882093540041605), (1945, 0.1575315094531511), (1946, 0.07113429940295786), (1947, 0.0), (1948, 0.06555615497221294), (1949, 0.0), (1950, 0.06814662756363819), (1951, 0.15339299776947407), (1952, 0.044844852933087494), (1953, 0.04604092555161308), (1954, 0.030556616567607043), (1955, 0.019234326202820506), (1956, 0.026462806201248152), (1957, 0.09901475429766743), (1958, 0.15686274509803919), (1959, 0.22906142364542553), (1960, 0.1034175379990038), (1961, 0.10502100630210073), (1962, 0.08401680504168059), (1963, 0.0), (1964, 0.1476024809233492), (1965, 0.0), (1966, 0.2835788724805662), (1967, 0.18360754425174786), (1968, 0.0), (1969, 0.12002400720240083), (1970, 0.13022340267860238), (1971, 0.0), (1972, 0.09709195467257717), (1973, 0.10041928905068676), (1974, 0.01750350105035012), (1975, 0.0), (1976, 0.07113429940295786), (1977, 0.257751791767137), (1978, 0.12252450735245085), (1979, 0.09166984970282113), (1980, 0.04726314541342769), (1981, 0.10846522890932807), (1982, 0.2409347123262133), (1983, 0.12964074471043285), (1984, 0.13001274187308592), (1985, 0.1611432394306458), (1986, 0.08856148855400953), (1987, 0.02366905341655754), (1988, 0.06193801042615004), (1989, 0.03074014144032718), (1990, 0.2530855341217655), (1991, 0.023338001400466827), (1992, 0.08712136837380641), (1993, 0.0), (1994, 0.1429762897859917), (1995, 0.26824501423074204), (1996, 0.10932267489210504), (1997, 0.10437071518085825), (1998, 0.0), (1999, 0.25854384499750954), (2000, 0.10569725930559884), (2001, 0.032124628310161774), (2002, 0.0834965721446866), (2003, 0.06406221326384731), (2004, 0.11908262790561669), (2005, 0.0), (2006, 0.17149858514250885), (2007, 0.21378637183030152), (2008, 0.1778594583599775), (2009, 0.040422604172722164), (2010, 0.0), (2011, 0.0), (2012, 0.0), (2013, 0.11028067263133128), (2014, 0.0813896266741265), (2015, 0.2000400120040014), (2016, 0.1386483884679505), (2017, 0.019607843137254898), (2018, 0.14147911460452756), (2019, 0.05020964452534338), (2020, 0.03846865240564101), (2021, 0.15558667600311218), (2022, 0.19603921176392136), (2023, 0.16609569319451245), (2024, 0.21783245945486834), (2025, 0.10670144910443678), (2026, 0.022943082850056598), (2027, 0.04428074427700476), (2028, 0.04802921064280741), (2029, 0.17063023229633048), (2030, 0.040422604172722164), (2031, 0.08747480336813908), (2032, 0.08574929257125442), (2033, 0.23108458070072602), (2034, 0.0), (2035, 0.11881770515720091), (2036, 0.0638306902323129), (2037, 0.1328422328310143), (2038, 0.11128297681493143), (2039, 0.03846865240564101), (2040, 0.07292037568309725), (2041, 0.06642111641550714), (2042, 0.17063023229633045), (2043, 0.017928749299111976), (2044, 0.03277807748610647), (2045, 0.0), (2046, 0.13216960960863816), (2047, 0.20377068324339734), (2048, 0.06262242910851494), (2049, 0.277296776935901), (2050, 0.14002800840280097), (2051, 0.03883678186903087), (2052, 0.18410202992625904), (2053, 0.14226859880591572), (2054, 0.14002800840280097), (2055, 0.0298540717013266), (2056, 0.0), (2057, 0.0763915414190176), (2058, 0.05825517280354631), (2059, 0.08759357437106756), (2060, 0.15534712747612348), (2061, 0.1266600992762247), (2062, 0.14269544824634822), (2063, 0.0), (2064, 0.020211302086361082), (2065, 0.0), (2066, 0.11632787040410125), (2067, 0.0), (2068, 0.21110016546037452), (2069, 0.03709432560497715), (2070, 0.0), (2071, 0.15498260496951666), (2072, 0.15512630699850571), (2073, 0.06127555276542501), (2074, 0.06063390625908324), (2075, 0.05515973485146915), (2076, 0.023338001400466827), (2077, 0.0), (2078, 0.07113429940295786), (2079, 0.0), (2080, 0.05937175681939272), (2081, 0.16340147404113337), (2082, 0.10323001737691673), (2083, 0.032338083338177726), (2084, 0.0317100996102996), (2085, 0.30569001875107826), (2086, 0.0746351792533165), (2087, 0.10677035543974552), (2088, 0.08747480336813908), (2089, 0.07800764512385155), (2090, 0.0344725126663346), (2091, 0.29362329357046346), (2092, 0.0), (2093, 0.0), (2094, 0.06511170133930119), (2095, 0.019055398349167647), (2096, 0.20744974325501692), (2097, 0.016169041669088863), (2098, 0.13389238540091566), (2099, 0.21161302935272888), (2100, 0.08618128166583651), (2101, 0.04085036851028334), (2102, 0.13216960960863816), (2103, 0.0533507245522184), (2104, 0.07938841860374447), (2105, 0.08258401390153339), (2106, 0.06193801042615004), (2107, 0.05664411840370207), (2108, 0.04321358157014429), (2109, 0.07544931822417852), (2110, 0.03846865240564101), (2111, 0.04611021216049077), (2112, 0.04543108504242546), (2113, 0.0), (2114, 0.07938841860374446), (2115, 0.18190171877724975), (2116, 0.08747480336813908), (2117, 0.03742405942825599), (2118, 0.0422200330920749), (2119, 0.052925612402496304), (2120, 0.0), (2121, 0.04428074427700476), (2122, 0.04373740168406954), (2123, 0.18712029714127995), (2124, 0.0), (2125, 0.0755254912049361), (2126, 0.06223467040124487), (2127, 0.0475651494154494), (2128, 0.08084520834544433), (2129, 0.12983013961742002), (2130, 0.1022619985129827), (2131, 0.18333969940564226), (2132, 0.06063390625908324), (2133, 0.03960590171906697), (2134, 0.0417482860723433), (2135, 0.0), (2136, 0.23763541031440183), (2137, 0.0), (2138, 0.07340582339261587), (2139, 0.0), (2140, 0.16135874369200778), (2141, 0.04543108504242546), (2142, 0.2117024496099852), (2143, 0.0), (2144, 0.02214037213850238), (2145, 0.0), (2146, 0.12574886370696423), (2147, 0.1165103456070926), (2148, 0.05601120336112039), (2149, 0.0689450253326692), (2150, 0.0), (2151, 0.13001274187308592), (2152, 0.14960794738525324), (2153, 0.03473667371459374), (2154, 0.02111001654603745), (2155, 0.23081191443384608), (2156, 0.07622159339667059), (2157, 0.19253851155385132), (2158, 0.08428695623736226), (2159, 0.16692446522239718), (2160, 0.06511170133930119), (2161, 0.026702293491727636), (2162, 0.04428074427700476), (2163, 0.2489700479103525), (2164, 0.13201967239688991), (2165, 0.1510509824098722), (2166, 0.020004001200400138), (2167, 0.08258401390153339), (2168, 0.0), (2169, 0.2661453237111885), (2170, 0.2335828649895135), (2171, 0.03709432560497715), (2172, 0.0), (2173, 0.0), (2174, 0.03615507630310936), (2175, 0.045564509955381374), (2176, 0.0), (2177, 0.1429762897859917), (2178, 0.23358286498951353), (2179, 0.0), (2180, 0.0), (2181, 0.10059909096557137), (2182, 0.08001600480160055), (2183, 0.03191534511615645), (2184, 0.038110796698335295), (2185, 0.18152704954572363), (2186, 0.1103194697029383), (2187, 0.09193289141911525), (2188, 0.02302046277580654), (2189, 0.01750350105035012), (2190, 0.0), (2191, 0.035890200382127986), (2192, 0.0), (2193, 0.12252450735245085), (2194, 0.05378624789733592), (2195, 0.11651034560709261), (2196, 0.031117335200622435), (2197, 0.19105170543026556), (2198, 0.1328422328310143), (2199, 0.0), (2200, 0.07921180343813394), (2201, 0.027461751819054487), (2202, 0.24253562503633297), (2203, 0.025565499628245676), (2204, 0.0), (2205, 0.19234326202820506), (2206, 0.018230093920774314), (2207, 0.11357771260606365), (2208, 0.04085036851028334), (2209, 0.029357847585005124), (2210, 0.0), (2211, 0.027461751819054487), (2212, 0.16547920455440746), (2213, 0.0), (2214, 0.20004001200400137), (2215, 0.03960590171906697), (2216, 0.01537007072016359), (2217, 0.028005601680560196), (2218, 0.06814662756363819), (2219, 0.09617163101410253), (2220, 0.2096093818408441), (2221, 0.16236272901568413), (2222, 0.140028008402801), (2223, 0.016062314155080887), (2224, 0.0), (2225, 0.19253851155385132), (2226, 0.06482037235521643), (2227, 0.20119818193114275), (2228, 0.055641488407465724), (2229, 0.03323653440117179), (2230, 0.14462030521243743), (2231, 0.17494960673627816), (2232, 0.0), (2233, 0.22715542521212734), (2234, 0.13098420799889596), (2235, 0.0689450253326692), (2236, 0.0), (2237, 0.20352289460267356), (2238, 0.14408763192842222), (2239, 0.040422604172722164), (2240, 0.13589647625005563), (2241, 0.08238525545716346), (2242, 0.10759049504114512), (2243, 0.0533507245522184), (2244, 0.14947849761564372), (2245, 0.17928749299111976), (2246, 0.10401019349846874), (2247, 0.33027672268143293), (2248, 0.0), (2249, 0.18230093920774315), (2250, 0.0854162843517964), (2251, 0.07312724241271307), (2252, 0.0), (2253, 0.08891787425369732), (2254, 0.11318329168362204), (2255, 0.25964135286874945), (2256, 0.0597081434026532), (2257, 0.058395716247378375), (2258, 0.17285432628057715), (2259, 0.06262242910851494), (2260, 0.07827803638564368), (2261, 0.0), (2262, 0.22961557339788818), (2263, 0.11651034560709261), (2264, 0.1445220243276834), (2265, 0.0), (2266, 0.16169041669088863), (2267, 0.0), (2268, 0.13730875909527243), (2269, 0.0), (2270, 0.06814662756363819), (2271, 0.0), (2272, 0.0895622151039798), (2273, 0.04733810683311508), (2274, 0.04085036851028334), (2275, 0.08856148855400953), (2276, 0.17329819984923486), (2277, 0.12782749814122837), (2278, 0.07113429940295786), (2279, 0.06726727939963124), (2280, 0.03776274560246805), (2281, 0.0344725126663346), (2282, 0.08428695623736226), (2283, 0.10312498426437738), (2284, 0.1266600992762247), (2285, 0.16058821968029055), (2286, 0.0), (2287, 0.0), (2288, 0.0735463131352922), (2289, 0.11227217828476796), (2290, 0.0854162843517964), (2291, 0.0517087689995019), (2292, 0.06482037235521643), (2293, 0.0), (2294, 0.07292037568309725), (2295, 0.08401680504168059), (2296, 0.1815270495457236), (2297, 0.1328422328310143), (2298, 0.08747480336813908), (2299, 0.026948402781814772), (2300, 0.15639459147739038), (2301, 0.08170073702056668), (2302, 0.08170073702056668), (2303, 0.16513836134071647), (2304, 0.0), (2305, 0.07484811885651198), (2306, 0.09701425001453316), (2307, 0.2640393447937797), (2308, 0.15534712747612348), (2309, 0.061113233135214086), (2310, 0.1600521736566552), (2311, 0.2533201985524494), (2312, 0.0), (2313, 0.044844852933087494), (2314, 0.015957672558078225), (2315, 0.13098420799889596), (2316, 0.0), (2317, 0.09709195467257717), (2318, 0.08258401390153339), (2319, 0.019234326202820506), (2320, 0.20443988269091456), (2321, 0.13231403100624076), (2322, 0.04875149494180871), (2323, 0.05094267081084933), (2324, 0.04850712500726659), (2325, 0.0), (2326, 0.18999014891433705), (2327, 0.05378624789733592), (2328, 0.0), (2329, 0.10002000600200069), (2330, 0.18786728732554486), (2331, 0.03074014144032718), (2332, 0.0), (2333, 0.015558667600311217), (2334, 0.1584236068762679), (2335, 0.06467616667635545), (2336, 0.21551818352912588), (2337, 0.0), (2338, 0.2264941270834261), (2339, 0.15972250868531176), (2340, 0.10829614816910438), (2341, 0.053896805563629545), (2342, 0.16169041669088866), (2343, 0.16618267200585896), (2344, 0.0), (2345, 0.04085036851028334), (2346, 0.2621500232403994), (2347, 0.0), (2348, 0.10114434748483471), (2349, 0.14002800840280097), (2350, 0.04543108504242546), (2351, 0.1215783580010781), (2352, 0.0427081421758982), (2353, 0.0), (2354, 0.0352837416016642), (2355, 0.055641488407465724), (2356, 0.08856148855400953), (2357, 0.28194193721730043), (2358, 0.11493256424549748), (2359, 0.07622159339667059), (2360, 0.0854162843517964), (2361, 0.13584712216226488), (2362, 0.0), (2363, 0.14852213144650114), (2364, 0.1510509824098722), (2365, 0.0), (2366, 0.07701807890682083), (2367, 0.11211213233271873), (2368, 0.06424925662032355), (2369, 0.03131121455425747), (2370, 0.07921180343813394), (2371, 0.12550124509378383), (2372, 0.07544931822417852), (2373, 0.0895622151039798), (2374, 0.07938841860374446), (2375, 0.10555008273018725), (2376, 0.06947334742918748), (2377, 0.12255110553085002), (2378, 0.12574886370696423), (2379, 0.0), (2380, 0.08084520834544433), (2381, 0.12539976842864145), (2382, 0.04604092555161308), (2383, 0.10569725930559884), (2384, 0.08170073702056668), (2385, 0.054923503638108974), (2386, 0.017107143980890232), (2387, 0.26287961323942666), (2388, 0.019802950859533486), (2389, 0.0417482860723433), (2390, 0.03883678186903087), (2391, 0.04085036851028334), (2392, 0.06406221326384731), (2393, 0.08238525545716346), (2394, 0.140028008402801), (2395, 0.029040456124602137), (2396, 0.06482037235521643), (2397, 0.185431303722197), (2398, 0.10059909096557137), (2399, 0.24416888002237946), (2400, 0.08968970586617499), (2401, 0.06424925662032355), (2402, 0.06511170133930119), (2403, 0.11669000700233413), (2404, 0.07693730481128203), (2405, 0.07594084992563561), (2406, 0.0), (2407, 0.1750350105035012), (2408, 0.2087414303617165), (2409, 0.1067703554397455), (2410, 0.08170073702056668), (2411, 0.04802921064280741), (2412, 0.0854162843517964), (2413, 0.08747480336813908), (2414, 0.0), (2415, 0.05029954548278569), (2416, 0.08084520834544433), (2417, 0.16407084528696883), (2418, 0.0), (2419, 0.0), (2420, 0.0755254912049361), (2421, 0.0), (2422, 0.06333004963811235), (2423, 0.0), (2424, 0.020004001200400138), (2425, 0.14002800840280097), (2426, 0.09901475429766741), (2427, 0.22934432041081732), (2428, 0.03585749859822395), (2429, 0.19295820966302635), (2430, 0.09356014857063998), (2431, 0.0882093540041605), (2432, 0.0), (2433, 0.2077283400073237), (2434, 0.054923503638108974), (2435, 0.09901475429766743), (2436, 0.06262242910851494), (2437, 0.12387602085230008), (2438, 0.06406221326384731), (2439, 0.2567269296894028), (2440, 0.0), (2441, 0.09335200560186731), (2442, 0.12255110553085002), (2443, 0.06814662756363819), (2444, 0.13001274187308592), (2445, 0.020211302086361082), (2446, 0.0), (2447, 0.10803395392536072), (2448, 0.02186870084203477), (2449, 0.01685739124747245), (2450, 0.03646018784154863), (2451, 0.0), (2452, 0.06262242910851495), (2453, 0.0), (2454, 0.15631503171567185), (2455, 0.06148028288065436), (2456, 0.08624069655167088), (2457, 0.08170073702056668), (2458, 0.0), (2459, 0.15686274509803919), (2460, 0.0834965721446866), (2461, 0.26035958758213296), (2462, 0.0689450253326692), (2463, 0.09766755200895179), (2464, 0.07001400420140048), (2465, 0.05469028176232294), (2466, 0.02042518425514167), (2467, 0.0), (2468, 0.08684168428648435), (2469, 0.05251050315105037), (2470, 0.16706986983639835), (2471, 0.07693730481128203), (2472, 0.052925612402496304), (2473, 0.16340147404113337), (2474, 0.19672236884115843), (2475, 0.0), (2476, 0.12782749814122837), (2477, 0.0), (2478, 0.06694619270045783), (2479, 0.08238525545716346), (2480, 0.12126781251816648), (2481, 0.0), (2482, 0.046676002800933654), (2483, 0.06675573372931909), (2484, 0.04850712500726659), (2485, 0.044844852933087494), (2486, 0.03742405942825599), (2487, 0.08084520834544433), (2488, 0.0755254912049361), (2489, 0.11070186069251191), (2490, 0.0427081421758982), (2491, 0.1386206560167344), (2492, 0.04321358157014429), (2493, 0.09901475429766741), (2494, 0.0), (2495, 0.0), (2496, 0.20228869496966942), (2497, 0.12574886370696423), (2498, 0.01736833685729687), (2499, 0.21004201260420144), (2500, 0.058395716247378375), (2501, 0.0717149971964479), (2502, 0.0298540717013266), (2503, 0.0), (2504, 0.07544931822417852), (2505, 0.09166984970282113), (2506, 0.07921180343813394), (2507, 0.08258401390153339), (2508, 0.05613608914238398), (2509, 0.024014605321403704), (2510, 0.022422426466543747), (2511, 0.10041928905068674), (2512, 0.0), (2513, 0.011669000700233413), (2514, 0.23631572706713846), (2515, 0.11028067263133128), (2516, 0.06814662756363819), (2517, 0.1067703554397455), (2518, 0.019607843137254898), (2519, 0.17149858514250887), (2520, 0.044280744277004756), (2521, 0.09901475429766741), (2522, 0.2455273669945214), (2523, 0.061113233135214086), (2524, 0.06825898811407623), (2525, 0.15957672558078226), (2526, 0.07100716024967263), (2527, 0.013537018521138047), (2528, 0.0), (2529, 0.12964074471043285), (2530, 0.018712029714127994), (2531, 0.0), (2532, 0.12016032071277437), (2533, 0.0844400661841498), (2534, 0.16407084528696883), (2535, 0.0), (2536, 0.2333800140046683), (2537, 0.07001400420140048), (2538, 0.11616182449840855), (2539, 0.0), (2540, 0.05469028176232294), (2541, 0.08084520834544433), (2542, 0.031508763608951794), (2543, 0.1510509824098722), (2544, 0.014442786293795376), (2545, 0.13685715184712186), (2546, 0.0352837416016642), (2547, 0.19402850002906635), (2548, 0.0), (2549, 0.07767356373806172), (2550, 0.1922322627333814), (2551, 0.07100716024967263), (2552, 0.07938841860374446), (2553, 0.09345802722104674), (2554, 0.11328823680740416), (2555, 0.0), (2556, 0.15188169985127123), (2557, 0.1124361990855662), (2558, 0.07767356373806174), (2559, 0.0422200330920749), (2560, 0.15655607277128736), (2561, 0.1475013486874791), (2562, 0.030556616567607043), (2563, 0.026462806201248152), (2564, 0.01838657828382305), (2565, 0.05716619504750294), (2566, 0.06726727939963124), (2567, 0.06814662756363819), (2568, 0.14147911460452756), (2569, 0.0), (2570, 0.04850712500726659), (2571, 0.17712297710801905), (2572, 0.22986512849099497), (2573, 0.1922322627333814), (2574, 0.0), (2575, 0.046676002800933654), (2576, 0.0), (2577, 0.03500700210070024), (2578, 0.14002800840280097), (2579, 0.07100716024967263), (2580, 0.05601120336112039), (2581, 0.015099608472228404), (2582, 0.07594084992563561), (2583, 0.23902551768969962), (2584, 0.2644973492052907), (2585, 0.0882093540041605), (2586, 0.12002400720240083), (2587, 0.0367731565676461), (2588, 0.0), (2589, 0.06467616667635545), (2590, 0.09750298988361741), (2591, 0.13474201390907387), (2592, 0.21914059156180193), (2593, 0.0), (2594, 0.06333004963811235), (2595, 0.0), (2596, 0.14002800840280097), (2597, 0.13211031413252305), (2598, 0.07312724241271307), (2599, 0.0), (2600, 0.0), (2601, 0.0), (2602, 0.07693730481128203), (2603, 0.07484811885651198), (2604, 0.0), (2605, 0.10212592127570835), (2606, 0.05613608914238398), (2607, 0.08964374649555988), (2608, 0.06792356108113244), (2609, 0.10502100630210073), (2610, 0.05940885257860046), (2611, 0.13685715184712186), (2612, 0.0), (2613, 0.06467616667635545), (2614, 0.1600521736566552), (2615, 0.07231015260621872), (2616, 0.06063390625908324), (2617, 0.08401680504168059), (2618, 0.10059909096557137), (2619, 0.06560610252610431), (2620, 0.0), (2621, 0.06814662756363819), (2622, 0.07231015260621872), (2623, 0.09709195467257717), (2624, 0.03585749859822395), (2625, 0.11227217828476796), (2626, 0.07231015260621872), (2627, 0.05601120336112039), (2628, 0.019607843137254898), (2629, 0.0), (2630, 0.0705674832033284), (2631, 0.0), (2632, 0.0), (2633, 0.2843538026861643), (2634, 0.0), (2635, 0.1266600992762247), (2636, 0.09086217008485092), (2637, 0.061113233135214086), (2638, 0.1941839093451543), (2639, 0.15282801243254798), (2640, 0.06001200360120042), (2641, 0.026462806201248152), (2642, 0.017928749299111976), (2643, 0.0), (2644, 0.14852213144650112), (2645, 0.14611900125320157), (2646, 0.02042518425514167), (2647, 0.03615507630310936), (2648, 0.04543108504242546), (2649, 0.09901475429766741), (2650, 0.16477051091432693), (2651, 0.06906138832741962), (2652, 0.0597081434026532), (2653, 0.17647058823529407), (2654, 0.07978836279039113), (2655, 0.15877683720748892), (2656, 0.027461751819054487), (2657, 0.03300491809922248), (2658, 0.0), (2659, 0.15754381804475898), (2660, 0.0834965721446866), (2661, 0.04726314541342769), (2662, 0.08084520834544431), (2663, 0.04950737714883371), (2664, 0.0), (2665, 0.0), (2666, 0.04985480160175768), (2667, 0.11374152107446574), (2668, 0.0), (2669, 0.08194519371526618), (2670, 0.0), (2671, 0.15631503171567185), (2672, 0.0), (2673, 0.06193801042615004), (2674, 0.058080912249204274), (2675, 0.21464030540559487), (2676, 0.0), (2677, 0.0990147542976674), (2678, 0.039215686274509796), (2679, 0.0), (2680, 0.06814662756363819), (2681, 0.04543108504242546), (2682, 0.08968970586617499), (2683, 0.07767356373806174), (2684, 0.07767356373806174), (2685, 0.0717149971964479), (2686, 0.0), (2687, 0.0), (2688, 0.03846865240564101), (2689, 0.05094267081084933), (2690, 0.0), (2691, 0.13474201390907387), (2692, 0.1470926262705844), (2693, 0.0), (2694, 0.0), (2695, 0.0), (2696, 0.08856148855400953), (2697, 0.01789212260243284), (2698, 0.0), (2699, 0.0), (2700, 0.03846865240564101), (2701, 0.05200509674923437), (2702, 0.0), (2703, 0.18523964340873708), (2704, 0.017928749299111976), (2705, 0.0), (2706, 0.0), (2707, 0.05113099925649135), (2708, 0.06424925662032355), (2709, 0.0), (2710, 0.07669649888473704), (2711, 0.0), (2712, 0.10059909096557137), (2713, 0.14852213144650112), (2714, 0.08238525545716346), (2715, 0.0), (2716, 0.05613608914238398), (2717, 0.18003601080360124), (2718, 0.0), (2719, 0.0717149971964479), (2720, 0.1293523333527109), (2721, 0.0), (2722, 0.08084520834544433), (2723, 0.0), (2724, 0.06262242910851495), (2725, 0.0), (2726, 0.19406057880915312), (2727, 0.1537007072016359), (2728, 0.19603921176392136), (2729, 0.0491671162291597), (2730, 0.20039177314724782), (2731, 0.04850712500726659), (2732, 0.03615507630310936), (2733, 0.040008002400800276), (2734, 0.1386206560167344), (2735, 0.016277925334825298), (2736, 0.1434299943928958), (2737, 0.09750298988361741), (2738, 0.0), (2739, 0.07113429940295786), (2740, 0.10323001737691673), (2741, 0.07921180343813394), (2742, 0.1688801323682996), (2743, 0.06001200360120042), (2744, 0.0), (2745, 0.0), (2746, 0.01698089027028311), (2747, 0.06301752721790359), (2748, 0.07100716024967263), (2749, 0.0), (2750, 0.04023675213461131), (2751, 0.09513029883089881), (2752, 0.12448502395517626), (2753, 0.01736833685729687), (2754, 0.0), (2755, 0.040008002400800276), (2756, 0.06005031321480599), (2757, 0.28726894047263934), (2758, 0.15089863644835705), (2759, 0.07113429940295786), (2760, 0.046676002800933654), (2761, 0.0), (2762, 0.01698089027028311), (2763, 0.24664669113198118), (2764, 0.0), (2765, 0.0), (2766, 0.05613608914238398), (2767, 0.0), (2768, 0.0), (2769, 0.0), (2770, 0.06600983619844496), (2771, 0.0), (2772, 0.05601120336112039), (2773, 0.1183452670827877), (2774, 0.0), (2775, 0.026948402781814772), (2776, 0.16340147404113337), (2777, 0.07292037568309725), (2778, 0.10105651043180541), (2779, 0.07800764512385155), (2780, 0.14144964899666773), (2781, 0.12812442652769462), (2782, 0.1641367041336902), (2783, 0.08084520834544431), (2784, 0.015278308283803521), (2785, 0.10803395392536072), (2786, 0.0), (2787, 0.06906138832741962), (2788, 0.06127555276542501), (2789, 0.10114434748483471), (2790, 0.05423261445466404), (2791, 0.1600521736566552), (2792, 0.0), (2793, 0.06726727939963124), (2794, 0.013412250711537102), (2795, 0.0705674832033284), (2796, 0.13338778844417354), (2797, 0.17221168004841608), (2798, 0.1284985132406471), (2799, 0.040008002400800276), (2800, 0.14956440480527305), (2801, 0.03960590171906697), (2802, 0.04452881761454454), (2803, 0.11975000786623162), (2804, 0.06063390625908324), (2805, 0.1372549019607843), (2806, 0.1530809058942434), (2807, 0.1584236068762679), (2808, 0.09166984970282112), (2809, 0.14452202432768343), (2810, 0.040008002400800276), (2811, 0.018712029714127994), (2812, 0.16993235521110622), (2813, 0.14147911460452756), (2814, 0.046676002800933654), (2815, 0.33548786484335924), (2816, 0.11554229035036301), (2817, 0.08368274087557229), (2818, 0.0), (2819, 0.1584236068762679), (2820, 0.0), (2821, 0.019418390934515434), (2822, 0.12730468409700096), (2823, 0.10670144910443678), (2824, 0.1067703554397455), (2825, 0.0), (2826, 0.16513836134071647), (2827, 0.09086217008485092), (2828, 0.0), (2829, 0.10059909096557137), (2830, 0.06600983619844496), (2831, 0.11669000700233413), (2832, 0.0634201992205992), (2833, 0.14408763192842222), (2834, 0.0741886512099543), (2835, 0.07669649888473704), (2836, 0.046676002800933654), (2837, 0.09273581401244288), (2838, 0.02271554252121273), (2839, 0.08084520834544433), (2840, 0.09901475429766741), (2841, 0.029197858123689188), (2842, 0.0337147824949449), (2843, 0.0), (2844, 0.10958925093990114), (2845, 0.06193801042615004), (2846, 0.15686274509803916), (2847, 0.0), (2848, 0.0), (2849, 0.05937175681939272), (2850, 0.040422604172722164), (2851, 0.13812277665483924), (2852, 0.07292037568309725), (2853, 0.015188169985127124), (2854, 0.0), (2855, 0.0), (2856, 0.0), (2857, 0.058395716247378375), (2858, 0.08642716314028857), (2859, 0.15387460962256405), (2860, 0.2187611270492918), (2861, 0.0), (2862, 0.01750350105035012), (2863, 0.10779361112725909), (2864, 0.09086217008485092), (2865, 0.16840826742715195), (2866, 0.030556616567607043), (2867, 0.03396178054056622), (2868, 0.04503773491110449), (2869, 0.0), (2870, 0.0), (2871, 0.0735463131352922), (2872, 0.0844400661841498), (2873, 0.0), (2874, 0.03846865240564101), (2875, 0.0597081434026532), (2876, 0.07938841860374446), (2877, 0.1266600992762247), (2878, 0.09115046960387158), (2879, 0.0), (2880, 0.14002800840280097), (2881, 0.09208185110322616), (2882, 0.058395716247378375), (2883, 0.07669649888473704), (2884, 0.15396429582801208), (2885, 0.07669649888473704), (2886, 0.10212592127570835), (2887, 0.03019921694445681), (2888, 0.08001600480160055), (2889, 0.02087414303617165), (2890, 0.0), (2891, 0.02952049618466984), (2892, 0.03300491809922248), (2893, 0.028289929799333546), (2894, 0.05716619504750295), (2895, 0.05716619504750295), (2896, 0.027461751819054487), (2897, 0.0854162843517964), (2898, 0.13629325512727639), (2899, 0.09208185110322616), (2900, 0.06262242910851494), (2901, 0.1600320096032011), (2902, 0.0), (2903, 0.0), (2904, 0.151247535495505), (2905, 0.0), (2906, 0.039215686274509796), (2907, 0.0), (2908, 0.0), (2909, 0.13201967239688991), (2910, 0.058395716247378375), (2911, 0.06500637093654296), (2912, 0.09007546982220899), (2913, 0.0352837416016642), (2914, 0.2612944544592574), (2915, 0.02087414303617165), (2916, 0.08856148855400953), (2917, 0.10212592127570835), (2918, 0.020004001200400138), (2919, 0.0844400661841498), (2920, 0.0), (2921, 0.15339299776947404), (2922, 0.0), (2923, 0.07767356373806174), (2924, 0.0), (2925, 0.029357847585005124), (2926, 0.028005601680560196), (2927, 0.14090046549415863), (2928, 0.11070186069251191), (2929, 0.2315532919152466), (2930, 0.13464028341974354), (2931, 0.10934350421017384), (2932, 0.0), (2933, 0.0), (2934, 0.017928749299111976), (2935, 0.05882352941176469), (2936, 0.016169041669088863), (2937, 0.0), (2938, 0.03585749859822395), (2939, 0.0), (2940, 0.11881770515720091), (2941, 0.04543108504242546), (2942, 0.04543108504242546), (2943, 0.0), (2944, 0.05515973485146915), (2945, 0.0), (2946, 0.12929913477618468), (2947, 0.25471335405424667), (2948, 0.0), (2949, 0.041292006950766694), (2950, 0.10341753799900383), (2951, 0.06814662756363819), (2952, 0.0), (2953, 0.18295347673232457), (2954, 0.0), (2955, 0.0), (2956, 0.0), (2957, 0.09208185110322616), (2958, 0.0), (2959, 0.10555008273018725), (2960, 0.03277807748610647), (2961, 0.20225236112205353), (2962, 0.0), (2963, 0.0), (2964, 0.07231015260621872), (2965, 0.1215783580010781), (2966, 0.17822655773580137), (2967, 0.08767140075192092), (2968, 0.14947849761564372), (2969, 0.026462806201248152), (2970, 0.0), (2971, 0.13412250711537102), (2972, 0.030556616567607043), (2973, 0.23902551768969965), (2974, 0.07938841860374446), (2975, 0.05937175681939272), (2976, 0.0), (2977, 0.0), (2978, 0.19981091936212667), (2979, 0.11540595721692304), (2980, 0.07312724241271307), (2981, 0.0), (2982, 0.09970960320351537), (2983, 0.1293523333527109), (2984, 0.0), (2985, 0.10680917396691053), (2986, 0.2263194383946684), (2987, 0.028289929799333546), (2988, 0.05664411840370207), (2989, 0.0741886512099543), (2990, 0.0), (2991, 0.10694815798662466), (2992, 0.0), (2993, 0.21019754169815522), (2994, 0.16993235521110622), (2995, 0.10105651043180541), (2996, 0.04085036851028334), (2997, 0.07843137254901959), (2998, 0.06333004963811235), (2999, 0.0834965721446866), (3000, 0.0), (3001, 0.10059909096557137), (3002, 0.08031157077540443), (3003, 0.0), (3004, 0.07767356373806174), (3005, 0.038110796698335295), (3006, 0.19704672581136684), (3007, 0.028146688728049936), (3008, 0.019234326202820506), (3009, 0.018230093920774314), (3010, 0.22404481344448154), (3011, 0.176418708008321), (3012, 0.15089863644835705), (3013, 0.05469028176232294), (3014, 0.17501608677670352), (3015, 0.06262242910851495), (3016, 0.1022619985129827), (3017, 0.0), (3018, 0.19516351794811948), (3019, 0.0), (3020, 0.029357847585005124), (3021, 0.022422426466543747), (3022, 0.0), (3023, 0.0), (3024, 0.026462806201248152), (3025, 0.0), (3026, 0.04099600308453939), (3027, 0.11318329168362204), (3028, 0.0), (3029, 0.19500597976723483), (3030, 0.020004001200400138), (3031, 0.1434299943928958), (3032, 0.11493256424549748), (3033, 0.13201967239688991), (3034, 0.030556616567607043), (3035, 0.10264286388534138), (3036, 0.06560610252610431), (3037, 0.140028008402801), (3038, 0.03846865240564101), (3039, 0.05200509674923437), (3040, 0.05716619504750294), (3041, 0.0), (3042, 0.08001600480160055), (3043, 0.2572478777137633), (3044, 0.02087414303617165), (3045, 0.0), (3046, 0.14442786293795376), (3047, 0.015278308283803521), (3048, 0.0), (3049, 0.0755254912049361), (3050, 0.0), (3051, 0.1841637022064523), (3052, 0.0), (3053, 0.06223467040124487), (3054, 0.06647306880234358), (3055, 0.24545784641604235), (3056, 0.3152641443777315), (3057, 0.06127555276542501), (3058, 0.04428074427700476), (3059, 0.07484811885651198), (3060, 0.0), (3061, 0.0), (3062, 0.09527699174583823), (3063, 0.08968970586617499), (3064, 0.04850712500726659), (3065, 0.040422604172722164), (3066, 0.0), (3067, 0.06262242910851494), (3068, 0.10002000600200069), (3069, 0.0), (3070, 0.0), (3071, 0.07938841860374446), (3072, 0.06642111641550714), (3073, 0.07731753330571373), (3074, 0.06333004963811235), (3075, 0.04119262772858173), (3076, 0.12079686777782724), (3077, 0.024753688574416854), (3078, 0.06642111641550714), (3079, 0.06947334742918748), (3080, 0.0), (3081, 0.0422200330920749), (3082, 0.09617163101410253), (3083, 0.03960590171906697), (3084, 0.0), (3085, 0.09701425001453318), (3086, 0.09273581401244288), (3087, 0.0939336436627724), (3088, 0.041292006950766694), (3089, 0.06792356108113244), (3090, 0.024753688574416854), (3091, 0.03277807748610647), (3092, 0.13589647625005563), (3093, 0.05466133744605252), (3094, 0.03776274560246805), (3095, 0.0), (3096, 0.0), (3097, 0.0), (3098, 0.13098420799889596), (3099, 0.039215686274509796), (3100, 0.039215686274509796), (3101, 0.0), (3102, 0.0), (3103, 0.06262242910851494), (3104, 0.0), (3105, 0.1093805635246459), (3106, 0.0158550498051498), (3107, 0.08891787425369732), (3108, 0.08001600480160055), (3109, 0.06333004963811235), (3110, 0.12782749814122837), (3111, 0.07426106572325056), (3112, 0.1584236068762679), (3113, 0.09750298988361741), (3114, 0.0), (3115, 0.0), (3116, 0.06063390625908324), (3117, 0.0), (3118, 0.0), (3119, 0.09750298988361741), (3120, 0.07622159339667059), (3121, 0.0895622151039798), (3122, 0.020646003475383347), (3123, 0.07292037568309725), (3124, 0.06262242910851495), (3125, 0.0), (3126, 0.0417482860723433), (3127, 0.17783574850739464), (3128, 0.027461751819054487), (3129, 0.08574929257125442), (3130, 0.0), (3131, 0.11834526708278771), (3132, 0.13725490196078427), (3133, 0.0717149971964479), (3134, 0.0), (3135, 0.09901475429766743), (3136, 0.23081191443384608), (3137, 0.0), (3138, 0.11764705882352938), (3139, 0.05094267081084933), (3140, 0.0), (3141, 0.0980392156862745), (3142, 0.0), (3143, 0.08856148855400953), (3144, 0.025565499628245676), (3145, 0.0), (3146, 0.0), (3147, 0.10555008273018725), (3148, 0.0951302988308988), (3149, 0.04733810683311508), (3150, 0.06262242910851494), (3151, 0.10803395392536072), (3152, 0.020004001200400138), (3153, 0.06642111641550714), (3154, 0.11679143249475675), (3155, 0.05882352941176469), (3156, 0.06406221326384731), (3157, 0.0), (3158, 0.23103442669455732), (3159, 0.09766755200895179), (3160, 0.03883678186903087), (3161, 0.04950737714883371), (3162, 0.09970960320351538), (3163, 0.07204381596421111), (3164, 0.058395716247378375), (3165, 0.05364900284614841), (3166, 0.1429154876187574), (3167, 0.0), (3168, 0.0), (3169, 0.034214287961780464), (3170, 0.030556616567607043), (3171, 0.0), (3172, 0.06001200360120042), (3173, 0.08258401390153339), (3174, 0.0), (3175, 0.1103194697029383), (3176, 0.10502100630210073), (3177, 0.20480696345818666), (3178, 0.06482037235521643), (3179, 0.07292037568309725), (3180, 0.13001274187308592), (3181, 0.0), (3182, 0.0), (3183, 0.0), (3184, 0.14002800840280097), (3185, 0.0), (3186, 0.17107143980890233), (3187, 0.0), (3188, 0.0), (3189, 0.04543108504242546), (3190, 0.10059909096557137), (3191, 0.05601120336112039), (3192, 0.0), (3193, 0.0), (3194, 0.0), (3195, 0.21305750365969203), (3196, 0.0), (3197, 0.12574886370696423), (3198, 0.05882352941176469), (3199, 0.1434299943928958), (3200, 0.058395716247378375), (3201, 0.0717149971964479), (3202, 0.1600521736566552), (3203, 0.29104275004359953), (3204, 0.040422604172722164), (3205, 0.22393635842660461), (3206, 0.0895622151039798), (3207, 0.0), (3208, 0.2096093818408441), (3209, 0.019802950859533486), (3210, 0.026702293491727636), (3211, 0.20352289460267356), (3212, 0.0), (3213, 0.0), (3214, 0.06262242910851495), (3215, 0.028583097523751475), (3216, 0.0), (3217, 0.04733810683311508), (3218, 0.06557412294705281), (3219, 0.0), (3220, 0.05200509674923437), (3221, 0.054923503638108974), (3222, 0.06482037235521643), (3223, 0.05770297860846152), (3224, 0.05200509674923437), (3225, 0.019607843137254898), (3226, 0.08574929257125442), (3227, 0.2345552839519363), (3228, 0.07800764512385155), (3229, 0.27908863561857933), (3230, 0.07100716024967263), (3231, 0.09709195467257717), (3232, 0.0), (3233, 0.06482037235521643), (3234, 0.0834965721446866), (3235, 0.0), (3236, 0.2528608687120868), (3237, 0.07779333800155609), (3238, 0.19561932335813412), (3239, 0.2568591155368414), (3240, 0.012234303898769311), (3241, 0.0), (3242, 0.0), (3243, 0.0), (3244, 0.0), (3245, 0.1276106574454202), (3246, 0.06792356108113244), (3247, 0.0), (3248, 0.03300491809922248), (3249, 0.06333004963811235), (3250, 0.0), (3251, 0.07834607467435618), (3252, 0.0), (3253, 0.079275249025749), (3254, 0.23699122097006609), (3255, 0.0), (3256, 0.09520505742697934), (3257, 0.06842857592356093), (3258, 0.0344725126663346), (3259, 0.02302046277580654), (3260, 0.11227217828476796), (3261, 0.05601120336112039), (3262, 0.0), (3263, 0.13022340267860238), (3264, 0.04321358157014429), (3265, 0.07622159339667059), (3266, 0.0895622151039798), (3267, 0.1026428638853414), (3268, 0.0), (3269, 0.0), (3270, 0.1176470588235294), (3271, 0.1194162868053064), (3272, 0.08084520834544431), (3273, 0.0674295649898898), (3274, 0.07339461896251281), (3275, 0.0), (3276, 0.09112901991076275), (3277, 0.06467616667635545), (3278, 0.0), (3279, 0.08170073702056668), (3280, 0.03585749859822395), (3281, 0.18786728732554486), (3282, 0.0), (3283, 0.09038769075777339), (3284, 0.024014605321403704), (3285, 0.08759357437106756), (3286, 0.08238525545716345), (3287, 0.16070147520167402), (3288, 0.05940885257860046), (3289, 0.0), (3290, 0.13685715184712186), (3291, 0.04321358157014429), (3292, 0.054923503638108974), (3293, 0.018547162802488575), (3294, 0.0), (3295, 0.0), (3296, 0.1386206560167344), (3297, 0.16706986983639835), (3298, 0.13121220505220862), (3299, 0.025565499628245676), (3300, 0.0), (3301, 0.14611900125320157), (3302, 0.07484811885651198), (3303, 0.13338778844417354), (3304, 0.03131121455425747), (3305, 0.16058821968029052), (3306, 0.06482037235521643), (3307, 0.07731753330571373), (3308, 0.0), (3309, 0.0717149971964479), (3310, 0.0), (3311, 0.0172362563331673), (3312, 0.0), (3313, 0.1600521736566552), (3314, 0.0), (3315, 0.15941067939721712), (3316, 0.028583097523751475), (3317, 0.0), (3318, 0.09467621366623016), (3319, 0.09440686400617013), (3320, 0.1475013486874791), (3321, 0.0), (3322, 0.07622159339667059), (3323, 0.13730875909527243), (3324, 0.0), (3325, 0.0367731565676461), (3326, 0.05113099925649135), (3327, 0.06127555276542501), (3328, 0.09901475429766741), (3329, 0.2021130208636108), (3330, 0.04085036851028334), (3331, 0.09750298988361741), (3332, 0.0), (3333, 0.0), (3334, 0.18333969940564226), (3335, 0.041292006950766694), (3336, 0.1411349664066568), (3337, 0.13725490196078427), (3338, 0.1510509824098722), (3339, 0.055641488407465724), (3340, 0.029197858123689188), (3341, 0.017928749299111976), (3342, 0.04950737714883371), (3343, 0.0813896266741265), (3344, 0.0417482860723433), (3345, 0.0882093540041605), (3346, 0.1266600992762247), (3347, 0.15655607277128736), (3348, 0.06906138832741962), (3349, 0.09193289141911525), (3350, 0.0943194097363517), (3351, 0.21736562467088952), (3352, 0.09750298988361741), (3353, 0.07001400420140048), (3354, 0.03960590171906697), (3355, 0.02302046277580654), (3356, 0.0), (3357, 0.11128297681493145), (3358, 0.09273581401244288), (3359, 0.030556616567607043), (3360, 0.1067014491044368), (3361, 0.0427081421758982), (3362, 0.0), (3363, 0.0), (3364, 0.04321358157014429), (3365, 0.07231015260621872), (3366, 0.12187873735452176), (3367, 0.054923503638108974), (3368, 0.03709432560497715), (3369, 0.0), (3370, 0.11433239009500588), (3371, 0.0), (3372, 0.13894669485837496), (3373, 0.14408763192842222), (3374, 0.04875149494180871), (3375, 0.0), (3376, 0.17329819984923486), (3377, 0.058395716247378375), (3378, 0.0), (3379, 0.020211302086361082), (3380, 0.024375747470904353), (3381, 0.17063023229633048), (3382, 0.14852213144650112), (3383, 0.0755254912049361), (3384, 0.0), (3385, 0.053896805563629545), (3386, 0.08001600480160055), (3387, 0.07544931822417852), (3388, 0.0), (3389, 0.1022619985129827), (3390, 0.18113299884137096), (3391, 0.0), (3392, 0.0), (3393, 0.061113233135214086), (3394, 0.1176470588235294), (3395, 0.0875175052517506), (3396, 0.029197858123689188), (3397, 0.0), (3398, 0.0), (3399, 0.09038769075777339), (3400, 0.0), (3401, 0.18410202992625904), (3402, 0.0), (3403, 0.14852213144650112), (3404, 0.0), (3405, 0.1663780661615406), (3406, 0.06482037235521643), (3407, 0.07312724241271307), (3408, 0.0), (3409, 0.1458407513661945), (3410, 0.0), (3411, 0.046676002800933654), (3412, 0.02302046277580654), (3413, 0.15754381804475898), (3414, 0.23265574080820253), (3415, 0.0), (3416, 0.045298825416685215), (3417, 0.2644973492052907), (3418, 0.11433239009500588), (3419, 0.0), (3420, 0.03323653440117179), (3421, 0.0674295649898898), (3422, 0.0), (3423, 0.0), (3424, 0.1268403984411984), (3425, 0.0), (3426, 0.0), (3427, 0.21233358223235516), (3428, 0.0), (3429, 0.15957672558078226), (3430, 0.07426106572325056), (3431, 0.04733810683311508), (3432, 0.17895849739771974), (3433, 0.0825122952480562), (3434, 0.09766755200895179), (3435, 0.0), (3436, 0.2200440132044015), (3437, 0.11679143249475675), (3438, 0.053896805563629545), (3439, 0.26255251575525185), (3440, 0.06262242910851494), (3441, 0.029040456124602137), (3442, 0.15957672558078226), (3443, 0.0), (3444, 0.09750298988361741), (3445, 0.16269784336399212), (3446, 0.023338001400466827), (3447, 0.09701425001453318), (3448, 0.0), (3449, 0.0717149971964479), (3450, 0.22986512849099497), (3451, 0.08968970586617499), (3452, 0.0), (3453, 0.040008002400800276), (3454, 0.1378900506653384), (3455, 0.03846865240564101), (3456, 0.0), (3457, 0.11357771260606365), (3458, 0.12448502395517624), (3459, 0.0), (3460, 0.05660296756761037), (3461, 0.0), (3462, 0.08490445135141556), (3463, 0.022422426466543747), (3464, 0.08170073702056668), (3465, 0.08258401390153339), (3466, 0.03074014144032718), (3467, 0.04373740168406954), (3468, 0.09605842128561481), (3469, 0.0741886512099543), (3470, 0.0), (3471, 0.1143323900950059), (3472, 0.07921180343813394), (3473, 0.0), (3474, 0.12550124509378383), (3475, 0.05664411840370207), (3476, 0.0), (3477, 0.09278103996685647), (3478, 0.052925612402496304), (3479, 0.08964374649555988), (3480, 0.0), (3481, 0.0), (3482, 0.0), (3483, 0.0875175052517506), (3484, 0.06406221326384731), (3485, 0.04875149494180871), (3486, 0.10212592127570835), (3487, 0.0), (3488, 0.08238525545716346), (3489, 0.05716619504750295), (3490, 0.08564012729138518), (3491, 0.1886388194727034), (3492, 0.04332835888138613), (3493, 0.0), (3494, 0.19211684257122963), (3495, 0.08642716314028857), (3496, 0.053896805563629545), (3497, 0.0), (3498, 0.13001274187308592), (3499, 0.0), (3500, 0.03300491809922248), (3501, 0.12603505443580718), (3502, 0.0895622151039798), (3503, 0.2111001654603745), (3504, 0.0), (3505, 0.036843806309180605), (3506, 0.0), (3507, 0.1067703554397455), (3508, 0.17107143980890233), (3509, 0.07204381596421111), (3510, 0.0), (3511, 0.015463506661142745), (3512, 0.0835998456190943), (3513, 0.04428074427700476), (3514, 0.10041928905068674), (3515, 0.0), (3516, 0.14226859880591572), (3517, 0.12782749814122837), (3518, 0.024014605321403704), (3519, 0.0), (3520, 0.10219250343291215), (3521, 0.0), (3522, 0.12376844287208427), (3523, 0.06600983619844496), (3524, 0.07100716024967263), (3525, 0.026948402781814772), (3526, 0.05716619504750294), (3527, 0.1707100817238357), (3528, 0.1698089027028311), (3529, 0.28005601680560194), (3530, 0.0), (3531, 0.0), (3532, 0.09208185110322616), (3533, 0.07800764512385155), (3534, 0.09851341054817478), (3535, 0.07204381596421111), (3536, 0.0213540710879491), (3537, 0.0), (3538, 0.1469376015028293), (3539, 0.024375747470904353), (3540, 0.05200509674923437), (3541, 0.0), (3542, 0.07938841860374446), (3543, 0.06906138832741962), (3544, 0.0), (3545, 0.08084520834544433), (3546, 0.09222042432098154), (3547, 0.0), (3548, 0.0422200330920749), (3549, 0.10846522890932808), (3550, 0.0), (3551, 0.0), (3552, 0.06223467040124487), (3553, 0.06467616667635545), (3554, 0.05716619504750294), (3555, 0.0), (3556, 0.07843137254901959), (3557, 0.0417482860723433), (3558, 0.17063023229633048), (3559, 0.14611900125320157), (3560, 0.0422200330920749), (3561, 0.0), (3562, 0.0), (3563, 0.0), (3564, 0.09701425001453316), (3565, 0.10984700727621795), (3566, 0.11328823680740414), (3567, 0.0834965721446866), (3568, 0.16993235521110622), (3569, 0.12387602085230008), (3570, 0.030025156607402997), (3571, 0.07622159339667059), (3572, 0.09208185110322616), (3573, 0.0834965721446866), (3574, 0.0), (3575, 0.0), (3576, 0.1109187107743604), (3577, 0.06333004963811235), (3578, 0.0), (3579, 0.24701213377683956), (3580, 0.0), (3581, 0.038110796698335295), (3582, 0.08856148855400953), (3583, 0.06193801042615004), (3584, 0.09115046960387158), (3585, 0.041292006950766694), (3586, 0.09527699174583823), (3587, 0.0), (3588, 0.0), (3589, 0.032124628310161774), (3590, 0.16062314155080887), (3591, 0.07594084992563561), (3592, 0.03585749859822395), (3593, 0.01650245904961124), (3594, 0.05378624789733592), (3595, 0.058080912249204274), (3596, 0.0179104078628026), (3597, 0.0854162843517964), (3598, 0.19885291966710147), (3599, 0.1791244302079596), (3600, 0.08084520834544433), (3601, 0.0), (3602, 0.0), (3603, 0.13511320473331348), (3604, 0.09970960320351537), (3605, 0.0427081421758982), (3606, 0.0213540710879491), (3607, 0.3128976116732338), (3608, 0.019055398349167647), (3609, 0.08747480336813908), (3610, 0.08238525545716346), (3611, 0.020004001200400138), (3612, 0.04428074427700476), (3613, 0.15339299776947407), (3614, 0.12574886370696423), (3615, 0.028005601680560196), (3616, 0.2206389394058766), (3617, 0.0854162843517964), (3618, 0.08238525545716346), (3619, 0.05091927578283672), (3620, 0.06301752721790359), (3621, 0.04085036851028334), (3622, 0.048545977336288584), (3623, 0.024753688574416854), (3624, 0.12448502395517626), (3625, 0.07868894753646337), (3626, 0.1483773024199086), (3627, 0.10757249579467186), (3628, 0.21603747360761663), (3629, 0.13098420799889596), (3630, 0.01807753815155468), (3631, 0.0943194097363517), (3632, 0.0), (3633, 0.03883678186903087), (3634, 0.08747480336813908), (3635, 0.03960590171906697), (3636, 0.0), (3637, 0.04428074427700476), (3638, 0.1584236068762679), (3639, 0.0), (3640, 0.0367731565676461), (3641, 0.039215686274509796), (3642, 0.08964374649555988), (3643, 0.0), (3644, 0.06647306880234358), (3645, 0.07312724241271307), (3646, 0.07544931822417852), (3647, 0.23103442669455734), (3648, 0.0755254912049361), (3649, 0.0), (3650, 0.10059909096557137), (3651, 0.0), (3652, 0.019802950859533486), (3653, 0.09356014857063998), (3654, 0.0), (3655, 0.0), (3656, 0.029197858123689188), (3657, 0.06406221326384731), (3658, 0.0), (3659, 0.025565499628245676), (3660, 0.09709195467257717), (3661, 0.10779361112725909), (3662, 0.0), (3663, 0.0), (3664, 0.06555615497221294), (3665, 0.0), (3666, 0.1429154876187574), (3667, 0.10779361112725909), (3668, 0.15244318679334118), (3669, 0.05770297860846152), (3670, 0.0), (3671, 0.08642716314028857), (3672, 0.0), (3673, 0.1656833739159028), (3674, 0.08401680504168059), (3675, 0.0), (3676, 0.041292006950766694), (3677, 0.06814662756363819), (3678, 0.05770297860846152), (3679, 0.23402293537155466), (3680, 0.14903239303310437), (3681, 0.029197858123689188), (3682, 0.10212592127570835), (3683, 0.17783574850739464), (3684, 0.2151449915893437), (3685, 0.08642716314028857), (3686, 0.0), (3687, 0.0), (3688, 0.05113099925649135), (3689, 0.07800764512385155), (3690, 0.11211213233271873), (3691, 0.05716619504750295), (3692, 0.0213540710879491), (3693, 0.15534712747612348), (3694, 0.0), (3695, 0.1429762897859917), (3696, 0.03646018784154863), (3697, 0.0), (3698, 0.22518867455552247), (3699, 0.019055398349167647), (3700, 0.06039843388891362), (3701, 0.07938841860374446), (3702, 0.0), (3703, 0.0), (3704, 0.06906138832741962), (3705, 0.06127555276542501), (3706, 0.019802950859533486), (3707, 0.10984700727621795), (3708, 0.0), (3709, 0.0), (3710, 0.07100716024967263), (3711, 0.032555850669650596), (3712, 0.0), (3713, 0.01685739124747245), (3714, 0.03300491809922248), (3715, 0.15339299776947404), (3716, 0.0), (3717, 0.1778594583599775), (3718, 0.0), (3719, 0.0367731565676461), (3720, 0.11679143249475675), (3721, 0.0), (3722, 0.039215686274509796), (3723, 0.14852213144650112), (3724, 0.030556616567607043), (3725, 0.05770297860846152), (3726, 0.20842004228756245), (3727, 0.058395716247378375), (3728, 0.1611432394306458), (3729, 0.11679143249475675), (3730, 0.14625448482542613), (3731, 0.03019921694445681), (3732, 0.0), (3733, 0.10114434748483471), (3734, 0.18230093920774315), (3735, 0.06467616667635545), (3736, 0.13592873654160803), (3737, 0.0983342324583194), (3738, 0.0), (3739, 0.0), (3740, 0.028583097523751475), (3741, 0.1026428638853414), (3742, 0.07938841860374446), (3743, 0.11632787040410125), (3744, 0.05029954548278569), (3745, 0.028005601680560196), (3746, 0.08490445135141556), (3747, 0.0), (3748, 0.15468747639656605), (3749, 0.07380124046167459), (3750, 0.11170370790654757), (3751, 0.08258401390153339), (3752, 0.0), (3753, 0.07921180343813394), (3754, 0.16803361008336118), (3755, 0.0529256124024963), (3756, 0.18382665829627504), (3757, 0.09452629082685539), (3758, 0.04985480160175768), (3759, 0.041292006950766694), (3760, 0.0), (3761, 0.176418708008321), (3762, 0.16516802780306677), (3763, 0.04321358157014429), (3764, 0.24809590313546126), (3765, 0.12964074471043285), (3766, 0.13800144698133773), (3767, 0.12187873735452176), (3768, 0.0), (3769, 0.0213540710879491), (3770, 0.03883678186903087), (3771, 0.05601120336112039), (3772, 0.048833776004475894), (3773, 0.0), (3774, 0.025149772741392844), (3775, 0.2235090339287949), (3776, 0.15089863644835705), (3777, 0.07544931822417852), (3778, 0.17822655773580137), (3779, 0.10585122480499261), (3780, 0.0), (3781, 0.06262242910851494), (3782, 0.12079686777782724), (3783, 0.0), (3784, 0.11975000786623162), (3785, 0.0), (3786, 0.0), (3787, 0.0755254912049361), (3788, 0.0), (3789, 0.0491671162291597), (3790, 0.025149772741392844), (3791, 0.19802950859533486), (3792, 0.0), (3793, 0.09335200560186731), (3794, 0.027461751819054487), (3795, 0.1276106574454202), (3796, 0.0), (3797, 0.0), (3798, 0.0834965721446866), (3799, 0.03883678186903087), (3800, 0.05601120336112039), (3801, 0.0), (3802, 0.0)]\n"
          ]
        }
      ]
    },
    {
      "cell_type": "markdown",
      "source": [
        "**Index Numbers of top 10 movies along with their similarity**"
      ],
      "metadata": {
        "id": "3WVlwYtD8P_u"
      }
    },
    {
      "cell_type": "code",
      "source": [
        "print('Index Numbers of top 10 movies along with their similarity')\n",
        "sorting_similar_mov=sorted(similarity_score,key= lambda x:x[1], reverse=True)\n",
        "top10_recomended= sorting_similar_mov[:10]\n",
        "print(top10_recomended)\n",
        "for i in top10_recomended:\n",
        "    index=i[0]"
      ],
      "metadata": {
        "colab": {
          "base_uri": "https://localhost:8080/"
        },
        "id": "_bduq1ZC6-Ec",
        "outputId": "66d85408-157f-49bb-d2f1-9cce9f0c8467"
      },
      "execution_count": 59,
      "outputs": [
        {
          "output_type": "stream",
          "name": "stdout",
          "text": [
            "Index Numbers of top 10 movies along with their similarity\n",
            "[(0, 1.0), (1, 0.40824829046386296), (1577, 0.35759926992607577), (1500, 0.3488110957132956), (329, 0.3466209711698763), (156, 0.3457086525611543), (342, 0.34479769273649247), (510, 0.34416981360411797), (206, 0.34064623668312755), (2815, 0.33548786484335924)]\n"
          ]
        }
      ]
    }
  ]
}